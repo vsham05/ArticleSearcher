{
  "nbformat": 4,
  "nbformat_minor": 0,
  "metadata": {
    "colab": {
      "provenance": []
    },
    "kernelspec": {
      "name": "python3",
      "display_name": "Python 3"
    },
    "language_info": {
      "name": "python"
    }
  },
  "cells": [
    {
      "cell_type": "markdown",
      "source": [
        "# ***Парсер КиберЛенинки***"
      ],
      "metadata": {
        "id": "kNgZDHI1giaf"
      }
    },
    {
      "cell_type": "code",
      "source": [
        "import requests\n",
        "\n",
        "m = requests.get('https://cyberleninka.ru/article/c/electrical-electronic-information-engineering')"
      ],
      "metadata": {
        "id": "bukBl781gm2Y"
      },
      "execution_count": null,
      "outputs": []
    },
    {
      "cell_type": "code",
      "source": [
        "m.text"
      ],
      "metadata": {
        "colab": {
          "base_uri": "https://localhost:8080/",
          "height": 1000
        },
        "id": "NKEjp-nTh5o2",
        "outputId": "44c610df-a343-4330-f42e-d608554b3551"
      },
      "execution_count": null,
      "outputs": [
        {
          "output_type": "execute_result",
          "data": {
            "text/plain": [
              "'<!DOCTYPE html PUBLIC \"-//W3C//DTD XHTML 1.1//EN\" \"http://www.w3.org/TR/xhtml11/DTD/xhtml11.dtd\">\\n<html xmlns=\"http://www.w3.org/1999/xhtml\">\\n  <head>\\n    <meta http-equiv=\"Content-Type\" content=\"text/html; charset=utf-8\" />\\n    <meta name=\"viewport\" content=\"width=device-width, initial-scale=1\" />\\n    <meta name=\"format-detection\" content=\"telephone=no\" />\\n    <link rel=\"shortcut icon\" href=\"/favicon.ico\" type=\"image/x-icon\" />\\n    <link rel=\"canonical\" href=\"https://cyberleninka.ru/article/c/electrical-electronic-information-engineering\" />\\n\\n    <title>Темы научных статей по электротехнике, электронной технике, информационным технологиям из каталога электронной библиотеки КиберЛенинка</title>\\n    <meta name=\"keywords\" content=\"Электротехника, электронная техника, информационные технологии – темы научных статей из каталога электронной библиотеки КиберЛенинка полные тексты научных работ CyberLeninka\" />\\n    <meta name=\"description\" content=\"Электротехника, электронная техника, информационные технологии – темы научных статей из каталога электронной библиотеки КиберЛенинка\" />\\n\\n    <link rel=\"stylesheet\" media=\"all\" href=\"/app.css?2204636507\" />\\n    <link rel=\"preload\" href=\"/fonts/ProximaNovaBold.woff2\" as=\"font\" type=\"font/woff2\" crossorigin>\\n    <link rel=\"preload\" href=\"/fonts/ProximaNovaRegular.woff2\" as=\"font\" type=\"font/woff2\" crossorigin>\\n    <link rel=\"preload\" href=\"/fonts/ProximaNovaExtraCondensedLight.woff2\" as=\"font\" type=\"font/woff2\" crossorigin>\\n    \\n  <meta name=\"apple-mobile-web-app-capable\" content=\"yes\" />\\n\\n  <meta name=\"robots\" content=\"NOODP\" />\\n  <meta name=\"robots\" content=\"noyaca\" />\\n\\n  <meta property=\"og:url\" content=\"https://cyberleninka.ru/article/c/electrical-electronic-information-engineering\" />\\n  <meta property=\"og:site_name\" content=\"КиберЛенинка\" />\\n  <meta property=\"og:title\" content=\"\" />\\n  <meta property=\"og:description\" content=\"Электротехника, электронная техника, информационные технологии – темы научных статей из каталога электронной библиотеки КиберЛенинка\" />\\n  <meta property=\"og:type\" content=\"\" />\\n  <meta property=\"og:image\" content=\"\" />\\n  <meta property=\"og:image:width\" content=\"1074\" />\\n  <meta property=\"og:image:height\" content=\"480\" />\\n\\n  <meta name=\"twitter:card\" content=\"summary_large_image\" />\\n  <meta name=\"twitter:site\" content=\"@CyberLeninka\" />\\n\\n    \\n  </head>\\n\\n  <body id=\"body\">\\n    <div id=\"vk_api_transport\"></div>\\n    <div id=\"menu\" style=\"height: 55px;\"></div>\\n\\n    <div class=\"content\" style=\"overflow: visible;\">\\n      <div class=\"main\">\\n        \\n  <h1>Электротехника, электронная техника, информационные технологии <span>список научных статей</span></h1>\\n  <div class=\"visible\">\\n    <div class=\"full\">\\n      <ul class=\"list\">\\n        \\n        <li>\\n          <a href=\"/article/n/sinergeticheskie-printsipy-postroeniya-avtopilotov\"><div class=\"title\">Синергетические принципы построения автопилотов</div>\\n          <p></p>\\n          <span>2008 / Занорин С. М.</span>\\n\\t\\t\\t\\t\\t\\n          <div class=\"labels\">\\n  <div class=\"label vak\">ВАК</div>\\n\\n          <div class=\"label-cc\"><img class=\"black\" src=\"/images/tsvg/cc-label.svg\" /></div></div>\\n          </a>\\n        </li>\\n        \\n        <li>\\n          <a href=\"/article/n/sovremennoe-sostoyanie-i-perspektivy-razvitiya-issledovaniy-v-oblasti-innovatsionnyh-tehnologiy-gidroaviatsionnyh-sistem\"><div class=\"title\">Современное состояние и перспективы развития исследований в области инновационных технологий гидроавиационных систем радионавигации и управления</div>\\n          <p>В работе приводятся базовые решения и формулируются предложения по дальнейшему развитию теории и методов радиофизического контроля параметров отражающих поверхностей с борта летательного аппарата, обнаружению малоразмерных объектов на фоне мешающих отражений от моря, определению местоположения...</p>\\n          <span>2008 / Лобач И. Т.</span>\\n\\t\\t\\t\\t\\t\\n          <div class=\"labels\">\\n  <div class=\"label vak\">ВАК</div>\\n\\n          <div class=\"label-cc\"><img class=\"black\" src=\"/images/tsvg/cc-label.svg\" /></div></div>\\n          </a>\\n        </li>\\n        \\n        <li>\\n          <a href=\"/article/n/chastotnyy-kvadraplekser-na-podveshennoy-podlozhke\"><div class=\"title\">Частотный квадраплексер на подвешенной подложке</div>\\n          <p>Приведены результаты разработки частотного квадраплексера на подвешенной подложке, обеспечивающего разделение широкой полосы частот на четыре канала.</p>\\n          <span>2009 / Кондратенко Алексей Владимирович, Шевляков Максим Леонидович, Васин Антон Александрович</span>\\n\\t\\t\\t\\t\\t\\n          <div class=\"labels\">\\n  <div class=\"label vak\">ВАК</div>\\n\\n          <div class=\"label-cc\"><img class=\"black\" src=\"/images/tsvg/cc-label.svg\" /></div></div>\\n          </a>\\n        </li>\\n        \\n        <li>\\n          <a href=\"/article/n/sinergeticheskiy-sintez-antihaoticheskih-zakonov-upravleniya-sistemoy-resslera\"><div class=\"title\">Синергетический синтез антихаотических законов управления системой Ресслера</div>\\n          <p></p>\\n          <span>2004 / Чернавина В. Ю.</span>\\n\\t\\t\\t\\t\\t\\n          <div class=\"labels\">\\n  <div class=\"label vak\">ВАК</div>\\n\\n          <div class=\"label-cc\"><img class=\"black\" src=\"/images/tsvg/cc-label.svg\" /></div></div>\\n          </a>\\n        </li>\\n        \\n        <li>\\n          <a href=\"/article/n/portativnaya-ustanovka-dlya-issledovaniya-fizicheskih-parametrov-vodoyomov\"><div class=\"title\">Портативная установка для исследования физических параметров водоёмов</div>\\n          <p>In this article there is considered the portable apparatus for a research of water areas&#39; physical parameters worked out by me. This measuring complex involves in temperature, saltiness, pressure and sound speed measurers. There is considered the possibility of composition of water area&#39;s...</p>\\n          <span>1999 / Чернов М. Н.</span>\\n\\t\\t\\t\\t\\t\\n          <div class=\"labels\">\\n  <div class=\"label vak\">ВАК</div>\\n\\n          <div class=\"label-cc\"><img class=\"black\" src=\"/images/tsvg/cc-label.svg\" /></div></div>\\n          </a>\\n        </li>\\n        \\n        <li>\\n          <a href=\"/article/n/issledovanie-rezhimov-yuzhnogo-regiona-elektricheskih-setey-110-kv-pri-otklyuchenii-vl-400-kv-mgres-vulkaneshty\"><div class=\"title\">Исследование режимов Южного региона электрИЧЕСКИХ сетей 110 кВ при отключении ВЛ 400 кВ МГРЭС Вулканешты</div>\\n          <p>Рассмотрены режимы энергосистемы Молдовы при выделении из ее схемы на самостоятельную работу ВЛ-400 кВ Молдавская ГРЭС Вулканешты для планируемого экспорта электроэнергии частью выделенных энергоблоков Молдавской ГРЭС в энергосистему Румынии.</p>\\n          <span>2009 / </span>\\n\\t\\t\\t\\t\\t\\n          <div class=\"labels\">\\n  \\n\\n          <div class=\"label-cc\"><img class=\"black\" src=\"/images/tsvg/cc-label.svg\" /></div></div>\\n          </a>\\n        </li>\\n        \\n        <li>\\n          <a href=\"/article/n/sovremennoe-sostoyanie-i-perspektivy-razvitiya-mashin-dvoynogo-pitaniya-v-sostave-elektroprivoda-kolebatelnogo-dvizheniya\"><div class=\"title\">Современное состояние и перспективы развития машин двойного питания в составе электропривода колебательного движения</div>\\n          <p>Рассмотрены принципы действия и характеристики электродвигателей колебательного движения. Показаны перспективы развития колебательных электромеханических комплексов на базе электрических машин двойного питания. Даны физические основы формирования колебательного электромагнитного поля в машинах...</p>\\n          <span>2004 / Аристов А. В.</span>\\n\\t\\t\\t\\t\\t\\n          <div class=\"labels\">\\n  <div class=\"label scopus\">Scopus</div><div class=\"label vak\">ВАК</div><div class=\"label esci\">ESCI</div>\\n\\n          <div class=\"label-cc\"><img class=\"black\" src=\"/images/tsvg/cc-label.svg\" /></div></div>\\n          </a>\\n        </li>\\n        \\n        <li>\\n          <a href=\"/article/n/kompensatsionnye-sredstva-kontrolya-i-zaschity-ot-nesanktsionirovannogo-elektromagnitnogo-vozdeystviya-na-cheloveka\"><div class=\"title\">Компенсационные средства контроля и защиты от несанкционированного электромагнитного воздействия на человека</div>\\n          <p></p>\\n          <span>2000 / Гуржин С. Г., Прошин Е. М., Шуляков А. В.</span>\\n\\t\\t\\t\\t\\t\\n          <div class=\"labels\">\\n  <div class=\"label vak\">ВАК</div>\\n\\n          <div class=\"label-cc\"><img class=\"black\" src=\"/images/tsvg/cc-label.svg\" /></div></div>\\n          </a>\\n        </li>\\n        \\n        <li>\\n          <a href=\"/article/n/ob-algoritme-obrabotki-signalov-ot-datchikov-magnitnogo-vagona-defektoskopa\"><div class=\"title\">Об алгоритме обработки сигналов от датчиков магнитного вагона-дефектоскопа</div>\\n          <p></p>\\n          <span>2001 / Максимов М. Н., Цветков Ф. А.</span>\\n\\t\\t\\t\\t\\t\\n          <div class=\"labels\">\\n  <div class=\"label vak\">ВАК</div>\\n\\n          <div class=\"label-cc\"><img class=\"black\" src=\"/images/tsvg/cc-label.svg\" /></div></div>\\n          </a>\\n        </li>\\n        \\n        <li>\\n          <a href=\"/article/n/tsifrovoy-mnogofunktsionalnyykontroller-elektroprivoda-tsmkp-v2\"><div class=\"title\">Цифровой многофункциональныйконтроллер электропривода цмкп-в2</div>\\n          <p>В статье описывается практическая реализация многофункционального цифрового контроллера электропривода, способного работать со всеми основными типами датчиков и двигателей применяемых в робототехнике и мехатронике, а также реализовывать современные алгоритмы управления, в том числе на...</p>\\n          <span>2008 / Киор С. В., Романов А. М.</span>\\n\\t\\t\\t\\t\\t\\n          <div class=\"labels\">\\n  <div class=\"label vak\">ВАК</div>\\n\\n          <div class=\"label-cc\"><img class=\"black\" src=\"/images/tsvg/cc-label.svg\" /></div></div>\\n          </a>\\n        </li>\\n        \\n        <li>\\n          <a href=\"/article/n/eholokator-dlya-raspoznavaniya-morskih-gruntov\"><div class=\"title\">Эхолокатор для распознавания морских грунтов</div>\\n          <p></p>\\n          <span>1995 / Гаврилов А. М., Германенко О. Н.</span>\\n\\t\\t\\t\\t\\t\\n          <div class=\"labels\">\\n  <div class=\"label vak\">ВАК</div>\\n\\n          <div class=\"label-cc\"><img class=\"black\" src=\"/images/tsvg/cc-label.svg\" /></div></div>\\n          </a>\\n        </li>\\n        \\n        <li>\\n          <a href=\"/article/n/rabochie-harakteristiki-elektroprivoda-kolebatelnogo-dvizheniya-s-mashinoy-dvoynogo-pitaniya\"><div class=\"title\">Рабочие характеристики электропривода колебательного движения с машиной двойного питания</div>\\n          <p>Представлены результаты исследований колебательных комплексов на основе электрических машин углового и линейного движения. Основное внимание уделено машинам двойного питания, работающих непосредственно в режиме вынужденных колебаний. Проведен анализ рабочих частотных, регулировочных и механических...</p>\\n          <span>2003 / Аристов А. В.</span>\\n\\t\\t\\t\\t\\t\\n          <div class=\"labels\">\\n  <div class=\"label scopus\">Scopus</div><div class=\"label vak\">ВАК</div><div class=\"label esci\">ESCI</div>\\n\\n          <div class=\"label-cc\"><img class=\"black\" src=\"/images/tsvg/cc-label.svg\" /></div></div>\\n          </a>\\n        </li>\\n        \\n        <li>\\n          <a href=\"/article/n/integrirovannaya-sistema-priema-i-obrabotki-vyzovov-i-podsistema-monitoringa-statsionarnyh-i-podvizhnyh-obektov-na-baze-edds\"><div class=\"title\">Интегрированная система приема и обработки вызовов и подсистема мониторинга стационарных и подвижных объектов на базе ЕДДС муниципального образования</div>\\n          <p>В статье рассмотрены некоторые вопросы создания интегрированной системы приема и обработки вызовов и сигналов, поступающих от датчиков, установленных на стационарных и подвижных объектах для обеспечения оптимизации работы системы 112, создаваемой на базе ЕДДС муниципальных образований.</p>\\n          <span>2008 / Нехорошев С. Н., Агеев С. В., Кудрявцев В. Н., Горбачев А. В.</span>\\n\\t\\t\\t\\t\\t\\n          <div class=\"labels\">\\n  <div class=\"label vak\">ВАК</div>\\n\\n          <div class=\"label-cc\"><img class=\"black\" src=\"/images/tsvg/cc-label.svg\" /></div></div>\\n          </a>\\n        </li>\\n        \\n        <li>\\n          <a href=\"/article/n/o-reshenii-zadachi-kompressii-biomeditsinskih-signalov-na-osnove-delta-preobrazovaniy-vtorogo-poryadka-s-garantirovannoy-tochnostyu\"><div class=\"title\">О решении задачи компрессии биомедицинских сигналов на основе дельта-преобразований второго порядка с гарантированной точностью</div>\\n          <p>Исследованы свойства компрессии на основе дельта-преобразований второго порядка, такие как выполнение условия гарантированной точности представления упакованного сигнала в совокупности с адаптацией, базирующейся на анализе потока предшествующих дельта-бит, частоты поддискретизации и веса второй...</p>\\n          <span>2008 / Кравченко П. П., Шульга А. С.</span>\\n\\t\\t\\t\\t\\t\\n          <div class=\"labels\">\\n  <div class=\"label vak\">ВАК</div>\\n\\n          <div class=\"label-cc\"><img class=\"black\" src=\"/images/tsvg/cc-label.svg\" /></div></div>\\n          </a>\\n        </li>\\n        \\n        <li>\\n          <a href=\"/article/n/sintez-reshayuschego-pravila-klassifikatora-signalov-pri-neparametricheskoy-apriornoy-neopredelennosti\"><div class=\"title\">Синтез решающего правила классификатора сигналов при непараметрической априорной неопределенности</div>\\n          <p>Рассматривается метод синтеза решающего правила, реализованного на основе аппроксимационного подхода формирования функции правдоподобия по кластеризованным выборкам в условиях непараметрической априорной неопределенности. Приведен пример алгоритма отыскания оценки вектора коэффициентов разложения в ...</p>\\n          <span>2011 / Галустов Геннадий Григорьевич, Поцыкайло Александр Анатольевич, Краснобаев Дмитрий Анатольевич</span>\\n\\t\\t\\t\\t\\t\\n          <div class=\"labels\">\\n  <div class=\"label vak\">ВАК</div>\\n\\n          <div class=\"label-cc\"><img class=\"black\" src=\"/images/tsvg/cc-label.svg\" /></div></div>\\n          </a>\\n        </li>\\n        \\n        <li>\\n          <a href=\"/article/n/tehniko-ekonomicheskie-aspekty-energoobespecheniya-izolirovannyh-potrebiteley\"><div class=\"title\">Технико-экономические аспекты энергообеспечения изолированных потребителей</div>\\n          <p>Раскрываются проблемы электроснабжения удаленных и малонаселенных регионов России и рассматриваются перспективы использования в таких зонах нетрадиционных возобновляемых источников энергии.</p>\\n          <span>2005 / Cуржикова О. А., Никулина И. Е.</span>\\n\\t\\t\\t\\t\\t\\n          <div class=\"labels\">\\n  <div class=\"label scopus\">Scopus</div><div class=\"label vak\">ВАК</div><div class=\"label esci\">ESCI</div>\\n\\n          <div class=\"label-cc\"><img class=\"black\" src=\"/images/tsvg/cc-label.svg\" /></div></div>\\n          </a>\\n        </li>\\n        \\n        <li>\\n          <a href=\"/article/n/dvoynoy-yadernyy-kvadrupolnyy-rezonans-14n-nekotoryh-azotsoderzhaschih-soedineniy\"><div class=\"title\">Двойной ядерный квадрупольный резонанс 14N некоторых азотсодержащих соединений</div>\\n          <p>Рассмотрены особенности наблюдения сигналов ЯКР азота косвенными методами. Определены условия повышения эффективности контакта спиновых подсистем в статических магнитных полях. Это позволяет регистрировать спектры 14N в диапазоне частот менее 1 МГц при комнатной температуре. Метод может...</p>\\n          <span>2009 / Гречишкин В. С., Шпилевой А. А.</span>\\n\\t\\t\\t\\t\\t\\n          <div class=\"labels\">\\n  \\n\\n          <div class=\"label-cc\"><img class=\"black\" src=\"/images/tsvg/cc-label.svg\" /></div></div>\\n          </a>\\n        </li>\\n        \\n        <li>\\n          <a href=\"/article/n/optimizatsiya-funktsionirovaniya-izmeritelnyh-sistem\"><div class=\"title\">Оптимизация функционирования измерительных систем</div>\\n          <p>Рассмотрены вопросы адаптации измерительных систем к изменяющимся условиям функционирования путем одновременного управления структурой измерителей и процессом измерения.</p>\\n          <span>2010 / Павлов Владимир Иванович, Аксенов Виктор Владимирович, Белова Татьяна Викторовна</span>\\n\\t\\t\\t\\t\\t\\n          <div class=\"labels\">\\n  <div class=\"label scopus\">Scopus</div><div class=\"label vak\">ВАК</div><div class=\"label esci\">ESCI</div>\\n\\n          <div class=\"label-cc\"><img class=\"black\" src=\"/images/tsvg/cc-label.svg\" /></div></div>\\n          </a>\\n        </li>\\n        \\n        <li>\\n          <a href=\"/article/n/otsenki-urovnya-izlucheniya-parazitnoy-polyarizatsii-chebyshevskoy-volnovodno-schelevoy-antenny\"><div class=\"title\">Оценки уровня излучения паразитной поляризации чебышевской волноводно-щелевой антенны</div>\\n          <p></p>\\n          <span>2001 / Чечетка В. В.</span>\\n\\t\\t\\t\\t\\t\\n          <div class=\"labels\">\\n  <div class=\"label vak\">ВАК</div>\\n\\n          <div class=\"label-cc\"><img class=\"black\" src=\"/images/tsvg/cc-label.svg\" /></div></div>\\n          </a>\\n        </li>\\n        \\n        <li>\\n          <a href=\"/article/n/eksperimentalnoe-issledovanie-zaderzhek-impulsnyh-signalov-na-prizemnoy-trasse\"><div class=\"title\">Экспериментальное исследование задержек импульсных сигналов на приземной трассе</div>\\n          <p>Представлены экспериментальные оценки ошибок измерения задержек импульсных сигналов при наличии отражений от препятствий, полученные при исследованиях на закрытой приземной трассе распространения радиоволн протяженностью 29 км.</p>\\n          <span>2008 / Крутиков Михаил Владимирович, Ильченко Василий Павлович</span>\\n\\t\\t\\t\\t\\t\\n          <div class=\"labels\">\\n  <div class=\"label vak\">ВАК</div>\\n\\n          <div class=\"label-cc\"><img class=\"black\" src=\"/images/tsvg/cc-label.svg\" /></div></div>\\n          </a>\\n        </li>\\n        \\n      </ul>\\n    </div>\\n  </div>\\n  \\n  \\n  <ul class=\"paginator\">\\n    \\n    \\n      \\n        <li><span class=\"active\">1</span></li>\\n      \\n    \\n      \\n        <li><a href=\"/article/c/electrical-electronic-information-engineering/2\">2</a></li>\\n      \\n    \\n      \\n        <li><a href=\"/article/c/electrical-electronic-information-engineering/3\">3</a></li>\\n      \\n    \\n      \\n        <li><a href=\"/article/c/electrical-electronic-information-engineering/4\">4</a></li>\\n      \\n    \\n      \\n        <li><a href=\"/article/c/electrical-electronic-information-engineering/5\">5</a></li>\\n      \\n    \\n    \\n      <li><a class=\"icon\" href=\"/article/c/electrical-electronic-information-engineering/3591\">\\n<svg version=\"1.1\" class=\"paginator_last\" xmlns=\"http://www.w3.org/2000/svg\" xmlns:xlink=\"http://www.w3.org/1999/xlink\" x=\"0px\" y=\"0px\" width=\"30px\" height=\"30px\" viewBox=\"0 0 30 30\" style=\"enable-background:new 0 0 30 30;\" xml:space=\"preserve\">\\n\\t<g>\\n\\t\\t<polygon points=\"23,9 23,15 23,21 25,21 25,9\"/>\\n\\t\\t<polygon points=\"5,21 14,15 5,9\"/>\\n\\t\\t<polygon points=\"14,15 14,21 23,15 14,9\"/>\\n\\t</g>\\n</svg>\\n</a></li>\\n    \\n  </ul>\\n  \\n\\n\\n        <div class=\"footer\">\\n          <hr />\\n          <div class=\"half\">\\n            <a href=\"/terms.html\" target=\"_blank\">Пользовательское соглашение</a>\\n            <a href=\"/policy.html\" target=\"_blank\">Политика конфиденциальности</a>\\n          </div>\\n          <div class=\"half-right\">\\n            <a style=\"margin-top: 5px;\" class=\"openscience\" href=\"http://open-science.ru/\" target=\"_blank\"><img src=\"/images/openscience.svg\" alt=\"Открытая наука\" /></a>\\n          </div>\\n        </div>\\n      </div>\\n    </div>\\n\\n    \\n    <script type=\"text/javascript\" src=\"/app.js?3196735396\" defer></script>\\n    \\n    <script type=\"text/javascript\">\\n      \\n\\n      window.__cl = function (f) {\\n        if (!window.__cl_callbacks) {\\n          window.__cl_callbacks = [];\\n        }\\n        window.__cl_callbacks.push(f);\\n      };\\n\\n      window.__cl(function(app) {\\n        var app = app.element(app.elm.Menu, \\'menu\\', { user: window.__cl_user, id: \"\", path: \"/article/c/electrical-electronic-information-engineering\" });\\n        if (app == null) { return; }\\n        window.notify.login = function() {\\n          app.ports.showLoginSub.send();\\n        }\\n      });\\n      window.__cl(function(app) {\\n        app.element(app.elm.Notification.Persist, \\'notification-persist\\', {\\n          cookie: document.cookie\\n        });\\n      })\\n    </script>\\n\\n    \\n  \\n  <script type=\"text/javascript\">(window.Image ? (new Image()) : document.createElement(\\'img\\')).src = \\'https://vk.com/rtrg?p=VK-RTRG-113217-3vhqF\\';</script>\\n  <script type=\"text/javascript\">\\n    (window.Image ? (new Image()) : document.createElement(\\'img\\')).src = location.protocol + \\'//vk.com/rtrg?r=pBktsqObaAtvToEtTxQbb/cxSGdswTMQ5wcdtediEFrGEy1Rbzr/IMae3Notd2g/GdggCzMzIdcwjWAsDf7M*I1hGYLGK2Uho4KO3yct6a3PDEHu/PU3m87/qEKB5u005s5BZOxtV0KGfmxRfV5X4n3kmNOYtnudE89WXjBuKsQ-\\';\\n  </script>\\n  \\n\\n\\n<script type=\"text/javascript\" >\\n   (function(m,e,t,r,i,k,a){m[i]=m[i]||function(){(m[i].a=m[i].a||[]).push(arguments)};\\n   m[i].l=1*new Date();k=e.createElement(t),a=e.getElementsByTagName(t)[0],k.async=1,k.src=r,a.parentNode.insertBefore(k,a)})\\n   (window, document, \"script\", \"https://mc.yandex.ru/metrika/tag.js\", \"ym\");\\n\\n   ym(15765706, \"init\", {\\n        clickmap:true,\\n        trackLinks:true,\\n        accurateTrackBounce:true\\n   });\\n</script>\\n<noscript><div><img src=\"https://mc.yandex.ru/watch/15765706\" style=\"position:absolute; left:-9999px;\" alt=\"\" /></div></noscript>\\n\\n\\n  \\n  <script type=\"text/javascript\">\\n    (function(i,s,o,g,r,a,m){i[\\'GoogleAnalyticsObject\\']=r;i[r]=i[r]||function(){\\n    (i[r].q=i[r].q||[]).push(arguments)},i[r].l=1*new Date();a=s.createElement(o),\\n    m=s.getElementsByTagName(o)[0];a.async=1;a.src=g;m.parentNode.insertBefore(a,m)\\n    })(window,document,\\'script\\',\\'https://www.google-analytics.com/analytics.js\\',\\'ga\\');\\n\\n    ga(\\'create\\', \\'UA-33095299-1\\', \\'auto\\');\\n    ga(\\'send\\', \\'pageview\\');\\n  </script>\\n  \\n\\n\\n    \\n    \\n\\n    <div id=\"notification-flash\"></div>\\n    <div class=\"info\"><div id=\"notification-persist\"></div></div>\\n  </body>\\n</html>\\n'"
            ],
            "application/vnd.google.colaboratory.intrinsic+json": {
              "type": "string"
            }
          },
          "metadata": {},
          "execution_count": 5
        }
      ]
    },
    {
      "cell_type": "code",
      "source": [
        "from bs4 import BeautifulSoup\n",
        "\n",
        "soup = BeautifulSoup(m.text)"
      ],
      "metadata": {
        "id": "zHIS5V3fiGKS"
      },
      "execution_count": null,
      "outputs": []
    },
    {
      "cell_type": "code",
      "source": [
        "g = str(soup.find_all(\"ul\", {\"class\": \"list\"})[0])\n"
      ],
      "metadata": {
        "id": "rO1OXvMRlp1F"
      },
      "execution_count": null,
      "outputs": []
    },
    {
      "cell_type": "code",
      "source": [
        "slice_list(g)"
      ],
      "metadata": {
        "colab": {
          "base_uri": "https://localhost:8080/"
        },
        "id": "Xk1csZc_lDbm",
        "outputId": "9c501b3a-f98b-4652-9cfa-e180e1d518d4"
      },
      "execution_count": null,
      "outputs": [
        {
          "output_type": "execute_result",
          "data": {
            "text/plain": [
              "['/article/n/sinergeticheskie-printsipy-postroeniya-avtopilotov',\n",
              " '/article/n/chastotnyy-kvadraplekser-na-podveshennoy-podlozhke',\n",
              " '/article/n/portativnaya-ustanovka-dlya-issledovaniya-fizicheskih-parametrov-vodoyomov',\n",
              " '/article/n/sovremennoe-sostoyanie-i-perspektivy-razvitiya-mashin-dvoynogo-pitaniya-v-sostave-elektroprivoda-kolebatelnogo-dvizheniya',\n",
              " '/article/n/ob-algoritme-obrabotki-signalov-ot-datchikov-magnitnogo-vagona-defektoskopa',\n",
              " '/article/n/eholokator-dlya-raspoznavaniya-morskih-gruntov',\n",
              " '/article/n/integrirovannaya-sistema-priema-i-obrabotki-vyzovov-i-podsistema-monitoringa-statsionarnyh-i-podvizhnyh-obektov-na-baze-edds',\n",
              " '/article/n/sintez-reshayuschego-pravila-klassifikatora-signalov-pri-neparametricheskoy-apriornoy-neopredelennosti',\n",
              " '/article/n/dvoynoy-yadernyy-kvadrupolnyy-rezonans-14n-nekotoryh-azotsoderzhaschih-soedineniy',\n",
              " '/article/n/otsenki-urovnya-izlucheniya-parazitnoy-polyarizatsii-chebyshevskoy-volnovodno-schelevoy-antenny']"
            ]
          },
          "metadata": {},
          "execution_count": 26
        }
      ]
    },
    {
      "cell_type": "code",
      "source": [
        "def slice_list(text):\n",
        "    slice = text.split('<a href=\"')[1::2]\n",
        "    res = []\n",
        "\n",
        "    for e in slice:\n",
        "        res.append('https://cyberleninka.ru' + e.split('\">')[0])\n",
        "\n",
        "    return res\n",
        "\n",
        "f =slice_list(g)"
      ],
      "metadata": {
        "id": "L_VhMDAzlIe-"
      },
      "execution_count": null,
      "outputs": []
    },
    {
      "cell_type": "code",
      "source": [
        "\n",
        "with open('cyber_links.txt', 'w') as file:\n",
        "    file.write('\\n'.join(f))\n"
      ],
      "metadata": {
        "id": "yayC59Ywnu5s"
      },
      "execution_count": null,
      "outputs": []
    },
    {
      "cell_type": "code",
      "source": [
        "\n",
        "\n",
        "R = []\n",
        "\n",
        "for i in range(2, 3592):\n",
        "    try:\n",
        "        m = requests.get(f'https://cyberleninka.ru/article/c/environmental-engineering/{i}')\n",
        "        soup = BeautifulSoup(m.text)\n",
        "        g = str(soup.find_all(\"ul\", {\"class\": \"list\"})[0])\n",
        "        f =slice_list(g)\n",
        "        R += f\n",
        "    except:\n",
        "        continue\n",
        "\n",
        "R"
      ],
      "metadata": {
        "id": "4Y-L-HGEoZlA"
      },
      "execution_count": null,
      "outputs": []
    },
    {
      "cell_type": "code",
      "source": [
        "len(R)"
      ],
      "metadata": {
        "colab": {
          "base_uri": "https://localhost:8080/"
        },
        "id": "VIywKEFLpmaF",
        "outputId": "7820068c-a3dd-4569-d151-6a465505d12f"
      },
      "execution_count": null,
      "outputs": [
        {
          "output_type": "execute_result",
          "data": {
            "text/plain": [
              "390"
            ]
          },
          "metadata": {},
          "execution_count": 35
        }
      ]
    },
    {
      "cell_type": "code",
      "source": [
        "R"
      ],
      "metadata": {
        "colab": {
          "base_uri": "https://localhost:8080/",
          "height": 146
        },
        "id": "LJPqJPYFptJN",
        "outputId": "e5e2ed2c-0e3c-4dee-9cac-91956dcaeeae"
      },
      "execution_count": null,
      "outputs": [
        {
          "output_type": "error",
          "ename": "NameError",
          "evalue": "name 'R' is not defined",
          "traceback": [
            "\u001b[0;31m---------------------------------------------------------------------------\u001b[0m",
            "\u001b[0;31mNameError\u001b[0m                                 Traceback (most recent call last)",
            "\u001b[0;32m<ipython-input-1-b1aa98ad3a02>\u001b[0m in \u001b[0;36m<cell line: 1>\u001b[0;34m()\u001b[0m\n\u001b[0;32m----> 1\u001b[0;31m \u001b[0mR\u001b[0m\u001b[0;34m\u001b[0m\u001b[0;34m\u001b[0m\u001b[0m\n\u001b[0m",
            "\u001b[0;31mNameError\u001b[0m: name 'R' is not defined"
          ]
        }
      ]
    },
    {
      "cell_type": "code",
      "source": [],
      "metadata": {
        "id": "aDDeW0BCtTyX"
      },
      "execution_count": null,
      "outputs": []
    },
    {
      "cell_type": "markdown",
      "source": [
        "# ***Работа с данными***"
      ],
      "metadata": {
        "id": "w9AVfV0qibRk"
      }
    },
    {
      "cell_type": "code",
      "source": [
        "import pandas as pd"
      ],
      "metadata": {
        "id": "4feTLigpIf0N"
      },
      "execution_count": null,
      "outputs": []
    },
    {
      "cell_type": "code",
      "source": [
        "f = pd.read_csv('fixed_cyblen1.csv')"
      ],
      "metadata": {
        "id": "GgdT6KxBIhk4"
      },
      "execution_count": null,
      "outputs": []
    },
    {
      "cell_type": "code",
      "source": [
        "df = pd.concat([pd.read_csv('fixed_cyblen1.csv'),\n",
        "                       pd.read_csv('fixed_cyblen2.csv'),\n",
        "                       pd.read_csv('fixed_cyblen3.csv'),\n",
        "                       pd.read_csv('fixed_cyblen4.csv'),\n",
        "                       pd.read_csv('fixed_cyblen5.csv'),\n",
        "                       pd.read_csv('data_cyberlen7_info.csv'),\n",
        "                       pd.read_csv('data_cyberlen8_info.csv'),\n",
        "                       pd.read_csv('data_cyberlen9_info.csv'),\n",
        "                       pd.read_csv('data_cyberlen1_math.csv'),\n",
        "                       pd.read_csv('data_cyberlen2_math.csv'),\n",
        "                       pd.read_csv('data_cyberlen3_math.csv'),\n",
        "                       pd.read_csv('data_cyberlen1_ECONOMY.csv')\n",
        "                        ],\n",
        "\n",
        "\n",
        "\n",
        "\n",
        "                      ignore_index=True, sort=False)\n",
        "\n",
        "\n",
        "elec_df = pd.concat([pd.read_csv('fixed_cyblen1.csv'),\n",
        "                       pd.read_csv('fixed_cyblen2.csv'),\n",
        "                       pd.read_csv('fixed_cyblen3.csv'),\n",
        "                       pd.read_csv('fixed_cyblen4.csv'),\n",
        "                       pd.read_csv('fixed_cyblen5.csv')],\n",
        "               ignore_index=True, sort=False)\n",
        "\n",
        "elec_df['Topic'] = 'electricity_and_info'\n",
        "cs_df = pd.concat([pd.read_csv('data_cyberlen7_info.csv'),\n",
        "                       pd.read_csv('data_cyberlen8_info.csv'),\n",
        "                       pd.read_csv('data_cyberlen9_info.csv'),\n",
        "                       pd.read_csv('data_cyberlen10_info.csv'),\n",
        "                       pd.read_csv('data_cyberlen11_info.csv')],\n",
        "               ignore_index=True, sort=False)\n",
        "cs_df['Topic'] = 'computer_science'\n",
        "\n",
        "math_df = pd.concat([pd.read_csv('data_cyberlen1_math.csv'),\n",
        "                       pd.read_csv('data_cyberlen2_math.csv'),\n",
        "                       pd.read_csv('data_cyberlen3_math.csv'),\n",
        "                       pd.read_csv('data_cyberlen4_math.csv')],\n",
        "               ignore_index=True, sort=False)\n",
        "math_df['Topic'] = 'math'\n",
        "\n",
        "economy_df =  pd.read_csv('data_cyberlen1_ECONOMY.csv')\n",
        "economy_df['Topic'] = 'economy'"
      ],
      "metadata": {
        "id": "uyax9Aj1Immw"
      },
      "execution_count": null,
      "outputs": []
    },
    {
      "cell_type": "code",
      "source": [
        "math_df = math_df.assign(FullText=lambda x: x['title'] + ' '  + x['desc']).dropna()\n",
        "elec_df = elec_df.assign(FullText=lambda x: x['title'] + ' '  + x['desc']).dropna()\n",
        "cs_df = cs_df.assign(FullText=lambda x: x['title'] + ' '  + x['desc']).dropna()\n",
        "economy_df = economy_df.assign(FullText=lambda x: x['title'] + ' '  + x['desc']).dropna()"
      ],
      "metadata": {
        "id": "hdIlMsT-Z5em"
      },
      "execution_count": null,
      "outputs": []
    },
    {
      "cell_type": "code",
      "source": [
        "math_df.to_csv('math.csv', index=False)\n",
        "elec_df.to_csv('elec.csv', index=False)\n",
        "cs_df.to_csv('cs.csv', index=False)\n",
        "economy_df.to_csv('economy.csv', index=False)"
      ],
      "metadata": {
        "id": "L9wjcTBtW8K8"
      },
      "execution_count": null,
      "outputs": []
    },
    {
      "cell_type": "code",
      "source": [
        "df = pd.concat([elec_df, cs_df, math_df, economy_df])"
      ],
      "metadata": {
        "id": "B3NNNxIB94nR"
      },
      "execution_count": null,
      "outputs": []
    },
    {
      "cell_type": "code",
      "source": [
        "df"
      ],
      "metadata": {
        "colab": {
          "base_uri": "https://localhost:8080/",
          "height": 788
        },
        "id": "r6o8U3hzIs5o",
        "outputId": "ace36a33-36ad-4f0b-8b47-72d510a78b97"
      },
      "execution_count": null,
      "outputs": [
        {
          "output_type": "execute_result",
          "data": {
            "text/plain": [
              "                                                 title  \\\n",
              "0    Измерение намагниченности магнитной жидкости м...   \n",
              "1    Капиллярный дифференциальный титрационный нано...   \n",
              "2    Статистика межрегиональных различий и состояни...   \n",
              "3    Концепция разработки малой системы абонентско...   \n",
              "4    Автоматические регуляторы напряжения синхронны...   \n",
              "..                                                 ...   \n",
              "227  БЮДЖЕТИРОВАНИЕ КАК ИНСТРУМЕНТ УПРАВЛЕНИЯ ПРЕДП...   \n",
              "228  ОСОБЕННОСТИ ОРГАНИЗАЦИИ УПРАВЛЕНИЯ НА ПРЕДПРИЯТИИ   \n",
              "229  УНИВЕРСИТЕТСКИЙ РЕЙТИНГ RAEX-100 В 2012-2022 Г...   \n",
              "230  THE IMPORTANCE OF INFORMATION TECHNOLOGIES IN ...   \n",
              "231   РАЗВИТИЕ ВНЕШНЕЙ ТОРГОВЛИ РОССИИ СО СТРАНАМИ СНГ   \n",
              "\n",
              "                                                  link  \\\n",
              "0    https://cyberleninka.ru/article/n/izmerenie-na...   \n",
              "1    https://cyberleninka.ru/article/n/kapillyarnyy...   \n",
              "2    https://cyberleninka.ru/article/n/statistika-m...   \n",
              "3    https://cyberleninka.ru/article/n/kontseptsiya...   \n",
              "4    https://cyberleninka.ru/article/n/avtomatiches...   \n",
              "..                                                 ...   \n",
              "227  https://cyberleninka.ru/article/n/byudzhetirov...   \n",
              "228  https://cyberleninka.ru/article/n/osobennosti-...   \n",
              "229  https://cyberleninka.ru/article/n/universitets...   \n",
              "230  https://cyberleninka.ru/article/n/the-importan...   \n",
              "231  https://cyberleninka.ru/article/n/razvitie-vne...   \n",
              "\n",
              "                                                  desc                 Topic  \\\n",
              "0    В работе для измерения намагниченности магнитн...  electricity_and_info   \n",
              "1    Использование мультифункциональных устройств в...  electricity_and_info   \n",
              "2    Цель исследования повышение показателей качест...  electricity_and_info   \n",
              "3    В настоящее время наиболее доступное решение п...  electricity_and_info   \n",
              "4    В статье проведён анализ существующих схем мет...  electricity_and_info   \n",
              "..                                                 ...                   ...   \n",
              "227  Исследована сущность понятия &#34;бюджетирован...               economy   \n",
              "228  В данной статье выявляется актуальность данног...               economy   \n",
              "229  В статье анализируется состав топ-25 отечестве...               economy   \n",
              "230  We live in the 21st century the century of hig...               economy   \n",
              "231  В данной статье рассмотрены структура и динами...               economy   \n",
              "\n",
              "                                              FullText  \n",
              "0    Измерение намагниченности магнитной жидкости м...  \n",
              "1    Капиллярный дифференциальный титрационный нано...  \n",
              "2    Статистика межрегиональных различий и состояни...  \n",
              "3    Концепция разработки малой системы абонентско...  \n",
              "4    Автоматические регуляторы напряжения синхронны...  \n",
              "..                                                 ...  \n",
              "227  БЮДЖЕТИРОВАНИЕ КАК ИНСТРУМЕНТ УПРАВЛЕНИЯ ПРЕДП...  \n",
              "228  ОСОБЕННОСТИ ОРГАНИЗАЦИИ УПРАВЛЕНИЯ НА ПРЕДПРИЯ...  \n",
              "229  УНИВЕРСИТЕТСКИЙ РЕЙТИНГ RAEX-100 В 2012-2022 Г...  \n",
              "230  THE IMPORTANCE OF INFORMATION TECHNOLOGIES IN ...  \n",
              "231  РАЗВИТИЕ ВНЕШНЕЙ ТОРГОВЛИ РОССИИ СО СТРАНАМИ С...  \n",
              "\n",
              "[9030 rows x 5 columns]"
            ],
            "text/html": [
              "\n",
              "  <div id=\"df-9bb151b9-3b21-4f5c-9062-731ad796050f\" class=\"colab-df-container\">\n",
              "    <div>\n",
              "<style scoped>\n",
              "    .dataframe tbody tr th:only-of-type {\n",
              "        vertical-align: middle;\n",
              "    }\n",
              "\n",
              "    .dataframe tbody tr th {\n",
              "        vertical-align: top;\n",
              "    }\n",
              "\n",
              "    .dataframe thead th {\n",
              "        text-align: right;\n",
              "    }\n",
              "</style>\n",
              "<table border=\"1\" class=\"dataframe\">\n",
              "  <thead>\n",
              "    <tr style=\"text-align: right;\">\n",
              "      <th></th>\n",
              "      <th>title</th>\n",
              "      <th>link</th>\n",
              "      <th>desc</th>\n",
              "      <th>Topic</th>\n",
              "      <th>FullText</th>\n",
              "    </tr>\n",
              "  </thead>\n",
              "  <tbody>\n",
              "    <tr>\n",
              "      <th>0</th>\n",
              "      <td>Измерение намагниченности магнитной жидкости м...</td>\n",
              "      <td>https://cyberleninka.ru/article/n/izmerenie-na...</td>\n",
              "      <td>В работе для измерения намагниченности магнитн...</td>\n",
              "      <td>electricity_and_info</td>\n",
              "      <td>Измерение намагниченности магнитной жидкости м...</td>\n",
              "    </tr>\n",
              "    <tr>\n",
              "      <th>1</th>\n",
              "      <td>Капиллярный дифференциальный титрационный нано...</td>\n",
              "      <td>https://cyberleninka.ru/article/n/kapillyarnyy...</td>\n",
              "      <td>Использование мультифункциональных устройств в...</td>\n",
              "      <td>electricity_and_info</td>\n",
              "      <td>Капиллярный дифференциальный титрационный нано...</td>\n",
              "    </tr>\n",
              "    <tr>\n",
              "      <th>2</th>\n",
              "      <td>Статистика межрегиональных различий и состояни...</td>\n",
              "      <td>https://cyberleninka.ru/article/n/statistika-m...</td>\n",
              "      <td>Цель исследования повышение показателей качест...</td>\n",
              "      <td>electricity_and_info</td>\n",
              "      <td>Статистика межрегиональных различий и состояни...</td>\n",
              "    </tr>\n",
              "    <tr>\n",
              "      <th>3</th>\n",
              "      <td>Концепция разработки малой системы абонентско...</td>\n",
              "      <td>https://cyberleninka.ru/article/n/kontseptsiya...</td>\n",
              "      <td>В настоящее время наиболее доступное решение п...</td>\n",
              "      <td>electricity_and_info</td>\n",
              "      <td>Концепция разработки малой системы абонентско...</td>\n",
              "    </tr>\n",
              "    <tr>\n",
              "      <th>4</th>\n",
              "      <td>Автоматические регуляторы напряжения синхронны...</td>\n",
              "      <td>https://cyberleninka.ru/article/n/avtomatiches...</td>\n",
              "      <td>В статье проведён анализ существующих схем мет...</td>\n",
              "      <td>electricity_and_info</td>\n",
              "      <td>Автоматические регуляторы напряжения синхронны...</td>\n",
              "    </tr>\n",
              "    <tr>\n",
              "      <th>...</th>\n",
              "      <td>...</td>\n",
              "      <td>...</td>\n",
              "      <td>...</td>\n",
              "      <td>...</td>\n",
              "      <td>...</td>\n",
              "    </tr>\n",
              "    <tr>\n",
              "      <th>227</th>\n",
              "      <td>БЮДЖЕТИРОВАНИЕ КАК ИНСТРУМЕНТ УПРАВЛЕНИЯ ПРЕДП...</td>\n",
              "      <td>https://cyberleninka.ru/article/n/byudzhetirov...</td>\n",
              "      <td>Исследована сущность понятия &amp;#34;бюджетирован...</td>\n",
              "      <td>economy</td>\n",
              "      <td>БЮДЖЕТИРОВАНИЕ КАК ИНСТРУМЕНТ УПРАВЛЕНИЯ ПРЕДП...</td>\n",
              "    </tr>\n",
              "    <tr>\n",
              "      <th>228</th>\n",
              "      <td>ОСОБЕННОСТИ ОРГАНИЗАЦИИ УПРАВЛЕНИЯ НА ПРЕДПРИЯТИИ</td>\n",
              "      <td>https://cyberleninka.ru/article/n/osobennosti-...</td>\n",
              "      <td>В данной статье выявляется актуальность данног...</td>\n",
              "      <td>economy</td>\n",
              "      <td>ОСОБЕННОСТИ ОРГАНИЗАЦИИ УПРАВЛЕНИЯ НА ПРЕДПРИЯ...</td>\n",
              "    </tr>\n",
              "    <tr>\n",
              "      <th>229</th>\n",
              "      <td>УНИВЕРСИТЕТСКИЙ РЕЙТИНГ RAEX-100 В 2012-2022 Г...</td>\n",
              "      <td>https://cyberleninka.ru/article/n/universitets...</td>\n",
              "      <td>В статье анализируется состав топ-25 отечестве...</td>\n",
              "      <td>economy</td>\n",
              "      <td>УНИВЕРСИТЕТСКИЙ РЕЙТИНГ RAEX-100 В 2012-2022 Г...</td>\n",
              "    </tr>\n",
              "    <tr>\n",
              "      <th>230</th>\n",
              "      <td>THE IMPORTANCE OF INFORMATION TECHNOLOGIES IN ...</td>\n",
              "      <td>https://cyberleninka.ru/article/n/the-importan...</td>\n",
              "      <td>We live in the 21st century the century of hig...</td>\n",
              "      <td>economy</td>\n",
              "      <td>THE IMPORTANCE OF INFORMATION TECHNOLOGIES IN ...</td>\n",
              "    </tr>\n",
              "    <tr>\n",
              "      <th>231</th>\n",
              "      <td>РАЗВИТИЕ ВНЕШНЕЙ ТОРГОВЛИ РОССИИ СО СТРАНАМИ СНГ</td>\n",
              "      <td>https://cyberleninka.ru/article/n/razvitie-vne...</td>\n",
              "      <td>В данной статье рассмотрены структура и динами...</td>\n",
              "      <td>economy</td>\n",
              "      <td>РАЗВИТИЕ ВНЕШНЕЙ ТОРГОВЛИ РОССИИ СО СТРАНАМИ С...</td>\n",
              "    </tr>\n",
              "  </tbody>\n",
              "</table>\n",
              "<p>9030 rows × 5 columns</p>\n",
              "</div>\n",
              "    <div class=\"colab-df-buttons\">\n",
              "\n",
              "  <div class=\"colab-df-container\">\n",
              "    <button class=\"colab-df-convert\" onclick=\"convertToInteractive('df-9bb151b9-3b21-4f5c-9062-731ad796050f')\"\n",
              "            title=\"Convert this dataframe to an interactive table.\"\n",
              "            style=\"display:none;\">\n",
              "\n",
              "  <svg xmlns=\"http://www.w3.org/2000/svg\" height=\"24px\" viewBox=\"0 -960 960 960\">\n",
              "    <path d=\"M120-120v-720h720v720H120Zm60-500h600v-160H180v160Zm220 220h160v-160H400v160Zm0 220h160v-160H400v160ZM180-400h160v-160H180v160Zm440 0h160v-160H620v160ZM180-180h160v-160H180v160Zm440 0h160v-160H620v160Z\"/>\n",
              "  </svg>\n",
              "    </button>\n",
              "\n",
              "  <style>\n",
              "    .colab-df-container {\n",
              "      display:flex;\n",
              "      gap: 12px;\n",
              "    }\n",
              "\n",
              "    .colab-df-convert {\n",
              "      background-color: #E8F0FE;\n",
              "      border: none;\n",
              "      border-radius: 50%;\n",
              "      cursor: pointer;\n",
              "      display: none;\n",
              "      fill: #1967D2;\n",
              "      height: 32px;\n",
              "      padding: 0 0 0 0;\n",
              "      width: 32px;\n",
              "    }\n",
              "\n",
              "    .colab-df-convert:hover {\n",
              "      background-color: #E2EBFA;\n",
              "      box-shadow: 0px 1px 2px rgba(60, 64, 67, 0.3), 0px 1px 3px 1px rgba(60, 64, 67, 0.15);\n",
              "      fill: #174EA6;\n",
              "    }\n",
              "\n",
              "    .colab-df-buttons div {\n",
              "      margin-bottom: 4px;\n",
              "    }\n",
              "\n",
              "    [theme=dark] .colab-df-convert {\n",
              "      background-color: #3B4455;\n",
              "      fill: #D2E3FC;\n",
              "    }\n",
              "\n",
              "    [theme=dark] .colab-df-convert:hover {\n",
              "      background-color: #434B5C;\n",
              "      box-shadow: 0px 1px 3px 1px rgba(0, 0, 0, 0.15);\n",
              "      filter: drop-shadow(0px 1px 2px rgba(0, 0, 0, 0.3));\n",
              "      fill: #FFFFFF;\n",
              "    }\n",
              "  </style>\n",
              "\n",
              "    <script>\n",
              "      const buttonEl =\n",
              "        document.querySelector('#df-9bb151b9-3b21-4f5c-9062-731ad796050f button.colab-df-convert');\n",
              "      buttonEl.style.display =\n",
              "        google.colab.kernel.accessAllowed ? 'block' : 'none';\n",
              "\n",
              "      async function convertToInteractive(key) {\n",
              "        const element = document.querySelector('#df-9bb151b9-3b21-4f5c-9062-731ad796050f');\n",
              "        const dataTable =\n",
              "          await google.colab.kernel.invokeFunction('convertToInteractive',\n",
              "                                                    [key], {});\n",
              "        if (!dataTable) return;\n",
              "\n",
              "        const docLinkHtml = 'Like what you see? Visit the ' +\n",
              "          '<a target=\"_blank\" href=https://colab.research.google.com/notebooks/data_table.ipynb>data table notebook</a>'\n",
              "          + ' to learn more about interactive tables.';\n",
              "        element.innerHTML = '';\n",
              "        dataTable['output_type'] = 'display_data';\n",
              "        await google.colab.output.renderOutput(dataTable, element);\n",
              "        const docLink = document.createElement('div');\n",
              "        docLink.innerHTML = docLinkHtml;\n",
              "        element.appendChild(docLink);\n",
              "      }\n",
              "    </script>\n",
              "  </div>\n",
              "\n",
              "\n",
              "<div id=\"df-0d8349c4-c6ed-4a9c-9407-e9a4563684da\">\n",
              "  <button class=\"colab-df-quickchart\" onclick=\"quickchart('df-0d8349c4-c6ed-4a9c-9407-e9a4563684da')\"\n",
              "            title=\"Suggest charts\"\n",
              "            style=\"display:none;\">\n",
              "\n",
              "<svg xmlns=\"http://www.w3.org/2000/svg\" height=\"24px\"viewBox=\"0 0 24 24\"\n",
              "     width=\"24px\">\n",
              "    <g>\n",
              "        <path d=\"M19 3H5c-1.1 0-2 .9-2 2v14c0 1.1.9 2 2 2h14c1.1 0 2-.9 2-2V5c0-1.1-.9-2-2-2zM9 17H7v-7h2v7zm4 0h-2V7h2v10zm4 0h-2v-4h2v4z\"/>\n",
              "    </g>\n",
              "</svg>\n",
              "  </button>\n",
              "\n",
              "<style>\n",
              "  .colab-df-quickchart {\n",
              "      --bg-color: #E8F0FE;\n",
              "      --fill-color: #1967D2;\n",
              "      --hover-bg-color: #E2EBFA;\n",
              "      --hover-fill-color: #174EA6;\n",
              "      --disabled-fill-color: #AAA;\n",
              "      --disabled-bg-color: #DDD;\n",
              "  }\n",
              "\n",
              "  [theme=dark] .colab-df-quickchart {\n",
              "      --bg-color: #3B4455;\n",
              "      --fill-color: #D2E3FC;\n",
              "      --hover-bg-color: #434B5C;\n",
              "      --hover-fill-color: #FFFFFF;\n",
              "      --disabled-bg-color: #3B4455;\n",
              "      --disabled-fill-color: #666;\n",
              "  }\n",
              "\n",
              "  .colab-df-quickchart {\n",
              "    background-color: var(--bg-color);\n",
              "    border: none;\n",
              "    border-radius: 50%;\n",
              "    cursor: pointer;\n",
              "    display: none;\n",
              "    fill: var(--fill-color);\n",
              "    height: 32px;\n",
              "    padding: 0;\n",
              "    width: 32px;\n",
              "  }\n",
              "\n",
              "  .colab-df-quickchart:hover {\n",
              "    background-color: var(--hover-bg-color);\n",
              "    box-shadow: 0 1px 2px rgba(60, 64, 67, 0.3), 0 1px 3px 1px rgba(60, 64, 67, 0.15);\n",
              "    fill: var(--button-hover-fill-color);\n",
              "  }\n",
              "\n",
              "  .colab-df-quickchart-complete:disabled,\n",
              "  .colab-df-quickchart-complete:disabled:hover {\n",
              "    background-color: var(--disabled-bg-color);\n",
              "    fill: var(--disabled-fill-color);\n",
              "    box-shadow: none;\n",
              "  }\n",
              "\n",
              "  .colab-df-spinner {\n",
              "    border: 2px solid var(--fill-color);\n",
              "    border-color: transparent;\n",
              "    border-bottom-color: var(--fill-color);\n",
              "    animation:\n",
              "      spin 1s steps(1) infinite;\n",
              "  }\n",
              "\n",
              "  @keyframes spin {\n",
              "    0% {\n",
              "      border-color: transparent;\n",
              "      border-bottom-color: var(--fill-color);\n",
              "      border-left-color: var(--fill-color);\n",
              "    }\n",
              "    20% {\n",
              "      border-color: transparent;\n",
              "      border-left-color: var(--fill-color);\n",
              "      border-top-color: var(--fill-color);\n",
              "    }\n",
              "    30% {\n",
              "      border-color: transparent;\n",
              "      border-left-color: var(--fill-color);\n",
              "      border-top-color: var(--fill-color);\n",
              "      border-right-color: var(--fill-color);\n",
              "    }\n",
              "    40% {\n",
              "      border-color: transparent;\n",
              "      border-right-color: var(--fill-color);\n",
              "      border-top-color: var(--fill-color);\n",
              "    }\n",
              "    60% {\n",
              "      border-color: transparent;\n",
              "      border-right-color: var(--fill-color);\n",
              "    }\n",
              "    80% {\n",
              "      border-color: transparent;\n",
              "      border-right-color: var(--fill-color);\n",
              "      border-bottom-color: var(--fill-color);\n",
              "    }\n",
              "    90% {\n",
              "      border-color: transparent;\n",
              "      border-bottom-color: var(--fill-color);\n",
              "    }\n",
              "  }\n",
              "</style>\n",
              "\n",
              "  <script>\n",
              "    async function quickchart(key) {\n",
              "      const quickchartButtonEl =\n",
              "        document.querySelector('#' + key + ' button');\n",
              "      quickchartButtonEl.disabled = true;  // To prevent multiple clicks.\n",
              "      quickchartButtonEl.classList.add('colab-df-spinner');\n",
              "      try {\n",
              "        const charts = await google.colab.kernel.invokeFunction(\n",
              "            'suggestCharts', [key], {});\n",
              "      } catch (error) {\n",
              "        console.error('Error during call to suggestCharts:', error);\n",
              "      }\n",
              "      quickchartButtonEl.classList.remove('colab-df-spinner');\n",
              "      quickchartButtonEl.classList.add('colab-df-quickchart-complete');\n",
              "    }\n",
              "    (() => {\n",
              "      let quickchartButtonEl =\n",
              "        document.querySelector('#df-0d8349c4-c6ed-4a9c-9407-e9a4563684da button');\n",
              "      quickchartButtonEl.style.display =\n",
              "        google.colab.kernel.accessAllowed ? 'block' : 'none';\n",
              "    })();\n",
              "  </script>\n",
              "</div>\n",
              "    </div>\n",
              "  </div>\n"
            ],
            "application/vnd.google.colaboratory.intrinsic+json": {
              "type": "dataframe",
              "variable_name": "df",
              "summary": "{\n  \"name\": \"df\",\n  \"rows\": 9030,\n  \"fields\": [\n    {\n      \"column\": \"title\",\n      \"properties\": {\n        \"dtype\": \"string\",\n        \"num_unique_values\": 8934,\n        \"samples\": [\n          \"\\u041f\\u0420\\u041e\\u0413\\u041d\\u041e\\u0417\\u0418\\u0420\\u041e\\u0412\\u0410\\u041d\\u0418\\u0415 \\u0421\\u0422\\u0410\\u0422\\u0418\\u0421\\u0422\\u0418\\u0427\\u0415\\u0421\\u041a\\u0418\\u0425 \\u0414\\u0410\\u041d\\u041d\\u042b\\u0425 \\u0410\\u0412\\u0422\\u041e\\u041c\\u041e\\u0411\\u0418\\u041b\\u042c\\u041d\\u042b\\u0425 \\u0414\\u041e\\u0420\\u041e\\u0416\\u041d\\u041e-\\u0422\\u0420\\u0410\\u041d\\u0421\\u041f\\u041e\\u0420\\u0422\\u041d\\u042b\\u0425 \\u041f\\u0420\\u041e\\u0418\\u0421\\u0428\\u0415\\u0421\\u0422\\u0412\\u0418\\u0419\",\n          \"\\u0426\\u0438\\u0444\\u0440\\u043e\\u0432\\u044b\\u0435 \\u0434\\u0432\\u043e\\u0439\\u043d\\u0438\\u043a\\u0438: \\u043f\\u043e\\u043d\\u044f\\u0442\\u0438\\u0435 \\u0442\\u0438\\u043f\\u044b \\u0438 \\u043f\\u0440\\u0435\\u0438\\u043c\\u0443\\u0449\\u0435\\u0441\\u0442\\u0432\\u0430 \\u0434\\u043b\\u044f \\u0431\\u0438\\u0437\\u043d\\u0435\\u0441\\u0430\",\n          \"\\u041a\\u041e\\u041d\\u0418\\u0427\\u0415\\u0421\\u041a\\u0418\\u0419 \\u0421\\u041f\\u0418\\u0420\\u0410\\u041b\\u042c\\u041d\\u042b\\u0419 \\u0414\\u0410\\u0422\\u0427\\u0418\\u041a \\u0412\\u0418\\u0411\\u0420\\u0410\\u0426\\u0418\\u0418 \\u0421 \\u0423\\u041b\\u0423\\u0427\\u0428\\u0415\\u041d\\u041d\\u042b\\u041c\\u0418 \\u041c\\u0415\\u0422\\u0420\\u041e\\u041b\\u041e\\u0413\\u0418\\u0427\\u0415\\u0421\\u041a\\u0418\\u041c\\u0418 \\u0425\\u0410\\u0420\\u0410\\u041a\\u0422\\u0415\\u0420\\u0418\\u0421\\u0422\\u0418\\u041a\\u0410\\u041c\\u0418\"\n        ],\n        \"semantic_type\": \"\",\n        \"description\": \"\"\n      }\n    },\n    {\n      \"column\": \"link\",\n      \"properties\": {\n        \"dtype\": \"string\",\n        \"num_unique_values\": 8944,\n        \"samples\": [\n          \"https://cyberleninka.ru/article/n/razrabotka-algoritma-otsenki-effektivnosti-energosberegayuschih-ustroystv-i-tehnologiy-v-setyah-elektrosnabzheniya-zheleznyh-dorog\",\n          \"https://cyberleninka.ru/article/n/o-ytu-rdisin-zha-sartuda-y-ispring-suite-m-mkindikteri\",\n          \"https://cyberleninka.ru/article/n/elektron-ukumatni-zhoriy-etish-bos-ichlari\"\n        ],\n        \"semantic_type\": \"\",\n        \"description\": \"\"\n      }\n    },\n    {\n      \"column\": \"desc\",\n      \"properties\": {\n        \"dtype\": \"string\",\n        \"num_unique_values\": 8937,\n        \"samples\": [\n          \"The article is dedicated to a simulation model of a wind/solar power plant. A variable speed diesel generator set is used as a backup energy source. A matrix frequency converter is used to control frequency of the generated voltage. The simulation model is implemented in the MATLAB Simulink environment. Oscillograms of currents and voltages are obtained when the model operates with an active inductive electrical load with the variable load value in the 1000-4000 VA range. During operation with a rated power load  the deviation of the line voltage parameters lies within the normal range (load voltage drop does not exceed 4% of the nominal value  total harmonic distortion does not exceed 2% in the 0-2000 Hz range). The constructed model can be used in the design of energy facilities  as well as in the development and testing of algorithms for control and monitoring systems.\",\n          \"\\u041c\\u0430\\u049b\\u043e\\u043b\\u0430\\u0434\\u0430 Flipped classroom \\u043c\\u0435\\u0442\\u043e\\u0434\\u0438 \\u043e\\u0440\\u049b\\u0430\\u043b\\u0438 \\u201c\\u041c\\u0430\\u044a\\u043b\\u0443\\u043c\\u043e\\u0442\\u043b\\u0430\\u0440 \\u0431\\u0430\\u0437\\u0430\\u0441\\u0438\\u201d \\u0444\\u0430\\u043d\\u0438\\u043d\\u0438 \\u045e\\u049b\\u0438\\u0442\\u0438\\u0448 \\u0436\\u0430\\u0440\\u0430\\u0451\\u043d\\u0438 \\u0442\\u0430\\u0441\\u0432\\u0438\\u0440\\u043b\\u0430\\u043d\\u0438\\u0431 \\u0443\\u043d\\u0438\\u043d\\u0433 \\u0430\\u043d\\u044a\\u0430\\u043d\\u0430\\u0432\\u0438\\u0439 \\u043c\\u0435\\u0442\\u043e\\u0434\\u0434\\u0430 \\u045e\\u049b\\u0438\\u0442\\u0438\\u043b\\u0438\\u0448\\u0434\\u0430\\u043d \\u0444\\u0430\\u0440\\u049b\\u043b\\u0438 \\u045e\\u043b\\u0430\\u0440\\u043e\\u049b \\u043d\\u0430\\u0442\\u0438\\u0436\\u0430\\u0432\\u0438\\u0439\\u043b\\u0438\\u0433\\u0438 \\u043a\\u0435\\u043b\\u0442\\u0438\\u0440\\u0438\\u0431 \\u045e\\u0442\\u0438\\u043b\\u0433\\u0430\\u043d. Flipped classroom \\u043c\\u0435\\u0442\\u043e\\u0434\\u0438\\u043d\\u0438 \\u044f\\u043d\\u0430\\u0434\\u0430 \\u0440\\u0438\\u0432\\u043e\\u0436\\u043b\\u0430\\u043d\\u0442\\u0438\\u0440\\u0438\\u0448 \\u043c\\u0430\\u049b\\u0441\\u0430\\u0434\\u0438\\u0434\\u0430 \\u049b\\u045e\\u0448\\u0438\\u043c\\u0447\\u0430\\u043b\\u0430\\u0440 \\u043a\\u0438\\u0440\\u0438\\u0442\\u0438\\u043b\\u0433\\u0430\\u043d \\u0432\\u0430 \\u0434\\u0430\\u0440\\u0441 \\u043c\\u0430\\u0448\\u0493\\u0443\\u043b\\u043e\\u0442\\u0438\\u043d\\u0438 \\u0442\\u045e\\u0493\\u0440\\u0438 \\u0442\\u0430\\u0448\\u043a\\u0438\\u043b \\u049b\\u0438\\u043b\\u0438\\u0448 \\u043c\\u0430\\u049b\\u0441\\u0430\\u0434\\u0438\\u0434\\u0430 \\u0430\\u049b\\u043b\\u043b\\u0438 \\u0442\\u0435\\u043b\\u0435\\u0444\\u043e\\u043d\\u043b\\u0430\\u0440\\u0434\\u0430\\u0433\\u0438 \\u0431\\u0438\\u0440 \\u049b\\u0430\\u043d\\u0447\\u0430 \\u043c\\u043e\\u0431\\u0438\\u043b \\u0438\\u043b\\u043e\\u0432\\u043b\\u0430\\u0440\\u0434\\u0430\\u043d \\u0444\\u043e\\u0439\\u0434\\u0430\\u043b\\u0430\\u043d\\u0438\\u0448 \\u0443\\u0447\\u0443\\u043d \\u0442\\u0430\\u0432\\u0441\\u0438\\u044f\\u043b\\u0430\\u0440 \\u0431\\u0435\\u0440\\u0438\\u043b\\u0433\\u0430\\u043d.\",\n          \"\\u0412 \\u0441\\u0442\\u0430\\u0442\\u044c\\u0435 \\u0438\\u0437\\u043b\\u043e\\u0436\\u0435\\u043d\\u044b \\u0441\\u043e\\u0432\\u0440\\u0435\\u043c\\u0435\\u043d\\u043d\\u044b\\u0435 \\u043f\\u043e\\u0434\\u0445\\u043e\\u0434\\u044b \\u043a \\u043e\\u043f\\u0440\\u0435\\u0434\\u0435\\u043b\\u0435\\u043d\\u0438\\u044e \\u043c\\u0430\\u043a\\u0441\\u0438\\u043c\\u0430\\u043b\\u044c\\u043d\\u043e \\u0434\\u043e\\u043f\\u0443\\u0441\\u0442\\u0438\\u043c\\u043e\\u0433\\u043e \\u0434\\u043b\\u0438\\u0442\\u0435\\u043b\\u044c\\u043d\\u043e\\u0433\\u043e \\u0442\\u043e\\u043a\\u0430 \\u043c\\u0430\\u0433\\u0438\\u0441\\u0442\\u0440\\u0430\\u043b\\u044c\\u043d\\u044b\\u0445 \\u0442\\u043e\\u043a\\u043e\\u043f\\u0440\\u0438\\u0435\\u043c\\u043d\\u0438\\u043a\\u043e\\u0432 \\u043d\\u0430 \\u0441\\u0442\\u043e\\u044f\\u043d\\u043a\\u0435 \\u0438 \\u0432 \\u0434\\u0432\\u0438\\u0436\\u0435\\u043d\\u0438\\u0438. \\u0420\\u0430\\u0441\\u0441\\u043c\\u043e\\u0442\\u0440\\u0435\\u043d\\u044b \\u043e\\u0441\\u043e\\u0431\\u0435\\u043d\\u043d\\u043e\\u0441\\u0442\\u0438 \\u043c\\u0435\\u0442\\u043e\\u0434\\u0438\\u043a  \\u043f\\u043e\\u0437\\u0432\\u043e\\u043b\\u044f\\u044e\\u0449\\u0438\\u0445 \\u0434\\u043e\\u0441\\u0442\\u043e\\u0432\\u0435\\u0440\\u043d\\u043e \\u0443\\u0447\\u0435\\u0441\\u0442\\u044c \\u044d\\u043a\\u0441\\u043f\\u043b\\u0443\\u0430\\u0442\\u0430\\u0446\\u0438\\u043e\\u043d\\u043d\\u044b\\u0435 \\u0444\\u0430\\u043a\\u0442\\u043e\\u0440\\u044b \\u043f\\u0440\\u0438 \\u043f\\u0440\\u043e\\u0432\\u0435\\u0434\\u0435\\u043d\\u0438\\u0438 \\u0438\\u0441\\u043f\\u044b\\u0442\\u0430\\u043d\\u0438\\u0439 \\u0432 \\u043b\\u0430\\u0431\\u043e\\u0440\\u0430\\u0442\\u043e\\u0440\\u043d\\u044b\\u0445 \\u0443\\u0441\\u043b\\u043e\\u0432\\u0438\\u044f\\u0445. \\u041e\\u043f\\u0438\\u0441\\u0430\\u043d\\u0430 \\u043c\\u0430\\u0442\\u0435\\u043c\\u0430\\u0442\\u0438\\u0447\\u0435\\u0441\\u043a\\u0430\\u044f \\u043c\\u043e\\u0434\\u0435\\u043b\\u044c \\u0434\\u043b\\u044f \\u0438\\u0441\\u0441\\u043b\\u0435\\u0434\\u043e\\u0432\\u0430\\u043d\\u0438\\u044f \\u0440\\u0430\\u0441\\u043f\\u0440\\u0435\\u0434\\u0435\\u043b\\u0435\\u043d\\u0438\\u044f \\u0442\\u043e\\u043a\\u043e\\u0432\\u043e\\u0439 \\u043d\\u0430\\u0433\\u0440\\u0443\\u0437\\u043a\\u0438 \\u0432 \\u0430\\u0432\\u0430\\u0440\\u0438\\u0439\\u043d\\u043e\\u043c \\u0440\\u0435\\u0436\\u0438\\u043c\\u0435 \\u043e\\u0431\\u0440\\u044b\\u0432\\u0430 \\u0442\\u043e\\u043a\\u043e\\u0432\\u0435\\u0434\\u0443\\u0449\\u0435\\u0433\\u043e \\u0448\\u0443\\u043d\\u0442\\u0430.\"\n        ],\n        \"semantic_type\": \"\",\n        \"description\": \"\"\n      }\n    },\n    {\n      \"column\": \"Topic\",\n      \"properties\": {\n        \"dtype\": \"category\",\n        \"num_unique_values\": 4,\n        \"samples\": [\n          \"computer_science\",\n          \"economy\",\n          \"electricity_and_info\"\n        ],\n        \"semantic_type\": \"\",\n        \"description\": \"\"\n      }\n    },\n    {\n      \"column\": \"FullText\",\n      \"properties\": {\n        \"dtype\": \"string\",\n        \"num_unique_values\": 8939,\n        \"samples\": [\n          \"\\u0421\\u043f\\u0435\\u043a\\u0442\\u0440\\u044b \\u0441\\u0442\\u0430\\u0431\\u0438\\u043b\\u044c\\u043d\\u044b\\u0445 2-\\u0440\\u0430\\u0441\\u0441\\u043b\\u043e\\u0435\\u043d\\u0438\\u0439 \\u0441 \\u043d\\u0435\\u0447\\u0435\\u0442\\u043d\\u044b\\u043c \\u043f\\u0435\\u0440\\u0432\\u044b\\u043c \\u043a\\u043b\\u0430\\u0441\\u0441\\u043e\\u043c \\u0427\\u0435\\u0440\\u043d\\u0430 \\u043d\\u0430 \\u0442\\u0440\\u0435\\u0445\\u043c\\u0435\\u0440\\u043d\\u043e\\u043c \\u043f\\u0440\\u043e\\u0435\\u043a\\u0442\\u0438\\u0432\\u043d\\u043e\\u043c \\u043f\\u0440\\u043e\\u0441\\u0442\\u0440\\u0430\\u043d\\u0441\\u0442\\u0432\\u0435 \\u0412 \\u0434\\u0430\\u043d\\u043d\\u043e\\u0439 \\u0441\\u0442\\u0430\\u0442\\u044c\\u0435 \\u043c\\u044b \\u043f\\u043e\\u043b\\u0443\\u0447\\u0430\\u0435\\u043c \\u043d\\u043e\\u0432\\u044b\\u0435 \\u0432\\u0430\\u0436\\u043d\\u044b\\u0435 \\u0440\\u0435\\u0437\\u0443\\u043b\\u044c\\u0442\\u0430\\u0442\\u044b \\u043e \\u0441\\u043f\\u0435\\u043a\\u0442\\u0440\\u0430\\u0445 \\u0441\\u0442\\u0430\\u0431\\u0438\\u043b\\u044c\\u043d\\u044b\\u0445 2-\\u0440\\u0430\\u0441\\u0441\\u043b\\u043e\\u0435\\u043d\\u0438\\u0439 \\u043d\\u0430 P 3 \\u0438\\u043c\\u0435\\u044e\\u0449\\u0438\\u0445 \\u043d\\u0435\\u0447\\u0435\\u0442\\u043d\\u044b\\u0439 \\u043f\\u0435\\u0440\\u0432\\u044b\\u0439 \\u043a\\u043b\\u0430\\u0441\\u0441 \\u0427\\u0435\\u0440\\u043d\\u0430.\",\n          \"\\u041e\\u0446\\u0435\\u043d\\u043a\\u0438 \\u043a\\u0430\\u0447\\u0435\\u0441\\u0442\\u0432\\u0430 \\u0438 \\u0440\\u0430\\u0441\\u0447\\u0451\\u0442 \\u0440\\u0435\\u0436\\u0438\\u043c\\u043e\\u0432 \\u043d\\u0435\\u043f\\u0440\\u0435\\u0440\\u044b\\u0432\\u043d\\u043e\\u0433\\u043e \\u0441\\u043c\\u0435\\u0448\\u0438\\u0432\\u0430\\u043d\\u0438\\u044f \\u0441\\u044b\\u043f\\u0443\\u0447\\u0438\\u0445 \\u043c\\u0430\\u0442\\u0435\\u0440\\u0438\\u0430\\u043b\\u043e\\u0432 \\u0420\\u0430\\u0441\\u0441\\u043c\\u043e\\u0442\\u0440\\u0435\\u043d\\u044b \\u043e\\u0446\\u0435\\u043d\\u043a\\u0438 \\u043a\\u0430\\u0447\\u0435\\u0441\\u0442\\u0432\\u0430 \\u0441\\u043c\\u0435\\u0448\\u0438\\u0432\\u0430\\u043d\\u0438\\u044f \\u0441\\u044b\\u043f\\u0443\\u0447\\u0438\\u0445 \\u043c\\u0430\\u0442\\u0435\\u0440\\u0438\\u0430\\u043b\\u043e\\u0432 \\u043f\\u043e \\u043a\\u043b\\u044e\\u0447\\u0435\\u0432\\u043e\\u043c\\u0443 \\u043a\\u043e\\u043c\\u043f\\u043e\\u043d\\u0435\\u043d\\u0442\\u0443  \\u0430 \\u0442\\u0430\\u043a \\u0436\\u0435 \\u043f\\u043e \\u0432\\u0441\\u0435\\u043c \\u043a\\u043e\\u043c\\u043f\\u043e\\u043d\\u0435\\u043d\\u0442\\u0430\\u043c \\u0441 \\u0443\\u0447\\u0451\\u0442\\u043e\\u043c \\u0441\\u0442\\u0435\\u043f\\u0435\\u043d\\u0438 \\u0432\\u043b\\u0438\\u044f\\u043d\\u0438\\u044f \\u043a\\u0430\\u0436\\u0434\\u043e\\u0433\\u043e \\u043a\\u043e\\u043c\\u043f\\u043e\\u043d\\u0435\\u043d\\u0442\\u0430 \\u0438 \\u0441 \\u0443\\u0447\\u0451\\u0442\\u043e\\u043c \\u0432\\u043b\\u0438\\u044f\\u043d\\u0438\\u044f \\u0440\\u0435\\u0436\\u0438\\u043c\\u043e\\u0432 \\u0441\\u043c\\u0435\\u0448\\u0438\\u0432\\u0430\\u043d\\u0438\\u044f \\u0438 \\u043e\\u0441\\u043d\\u043e\\u0432\\u043d\\u044b\\u0445 \\u043f\\u0430\\u0440\\u0430\\u043c\\u0435\\u0442\\u0440\\u043e\\u0432 \\u0440\\u0430\\u0441\\u043f\\u0440\\u0435\\u0434\\u0435\\u043b\\u0435\\u043d\\u0438\\u044f \\u0445\\u0430\\u0440\\u0430\\u043a\\u0442\\u0435\\u0440\\u0438\\u0441\\u0442\\u0438\\u043a \\u043a\\u043e\\u043c\\u043f\\u043e\\u043d\\u0435\\u043d\\u0442\\u043e\\u0432 \\u043d\\u0430 \\u043a\\u0430\\u0447\\u0435\\u0441\\u0442\\u0432\\u043e \\u0441\\u043c\\u0435\\u0441\\u0438. \\u041f\\u0440\\u0435\\u0434\\u043b\\u043e\\u0436\\u0435\\u043d \\u0441\\u043f\\u043e\\u0441\\u043e\\u0431 \\u0440\\u0430\\u0441\\u0447\\u0451\\u0442\\u0430 \\u043e\\u043f\\u0442\\u0438\\u043c\\u0430\\u043b\\u044c\\u043d\\u044b\\u0445 \\u0440\\u0435\\u0436\\u0438\\u043c\\u043e\\u0432 \\u0441\\u043c\\u0435\\u0448\\u0438\\u0432\\u0430\\u043d\\u0438\\u044f. \\u0421\\u0444\\u043e\\u0440\\u043c\\u0443\\u043b\\u0438\\u0440\\u043e\\u0432\\u0430\\u043d\\u044b \\u0441\\u043e\\u043e\\u0442\\u0432\\u0435\\u0442\\u0441\\u0442\\u0432\\u0443\\u044e\\u0449\\u0438\\u0435 \\u043e\\u043f\\u0442\\u0438\\u043c\\u0438\\u0437\\u0430\\u0446\\u0438\\u043e\\u043d\\u043d\\u044b\\u0435 \\u0437\\u0430\\u0434\\u0430\\u0447\\u0438. \\u041f\\u0440\\u0435\\u0434\\u043b\\u043e\\u0436\\u0435\\u043d\\u044b \\u0441\\u043f\\u043e\\u0441\\u043e\\u0431\\u044b \\u0440\\u0435\\u0448\\u0435\\u043d\\u0438\\u044f \\u044d\\u0442\\u0438\\u0445 \\u0437\\u0430\\u0434\\u0430\\u0447.\",\n          \"\\u0420\\u0410\\u0417\\u0420\\u0410\\u0411\\u041e\\u0422\\u041a\\u0410 \\u0423\\u0421\\u0422\\u0420\\u041e\\u0419\\u0421\\u0422\\u0412\\u0410 \\u0414\\u041b\\u042f \\u041f\\u0420\\u0415\\u0414\\u0423\\u041f\\u0420\\u0415\\u0416\\u0414\\u0415\\u041d\\u0418\\u042f \\u0421\\u0422\\u041e\\u041b\\u041a\\u041d\\u041e\\u0412\\u0415\\u041d\\u0418\\u042f \\u041d\\u0418\\u0417\\u041a\\u041e\\u041b\\u0415\\u0422\\u042f\\u0429\\u0418\\u0425 \\u0412\\u041e\\u0417\\u0414\\u0423\\u0428\\u041d\\u042b\\u0425 \\u041e\\u0411\\u042a\\u0415\\u041a\\u0422\\u041e\\u0412 \\u0421 \\u041b\\u042d\\u041f \\u0412 \\u0423\\u0421\\u041b\\u041e\\u0412\\u0418\\u042f\\u0425 \\u041f\\u041b\\u041e\\u0425\\u041e\\u0419 \\u0412\\u0418\\u0414\\u0418\\u041c\\u041e\\u0421\\u0422\\u0418 \\u0412 \\u0440\\u0430\\u0431\\u043e\\u0442\\u0435 \\u043e\\u0446\\u0435\\u043d\\u0438\\u0432\\u0430\\u0435\\u0442\\u0441\\u044f \\u0437\\u043d\\u0430\\u0447\\u0438\\u043c\\u043e\\u0441\\u0442\\u044c \\u043f\\u0440\\u043e\\u0431\\u043b\\u0435\\u043c\\u044b \\u0441\\u0442\\u043e\\u043b\\u043a\\u043d\\u043e\\u0432\\u0435\\u043d\\u0438\\u044f \\u0412\\u0421 \\u0441 \\u043f\\u0440\\u043e\\u0432\\u043e\\u0434\\u0430\\u043c\\u0438 \\u0438 \\u043e\\u043f\\u043e\\u0440\\u0430\\u043c\\u0438 \\u041b\\u042d\\u041f (\\u0432\\u043d\\u0435 \\u0437\\u0430\\u0432\\u0438\\u0441\\u0438\\u043c\\u043e\\u0441\\u0442\\u0438 \\u043e\\u0442 \\u0432\\u0440\\u0435\\u043c\\u0435\\u043d\\u0438 \\u0441\\u0443\\u0442\\u043e\\u043a \\u0438 \\u043f\\u043e\\u0433\\u043e\\u0434\\u043d\\u044b\\u0445 \\u0443\\u0441\\u043b\\u043e\\u0432\\u0438\\u0439) \\u043a\\u0430\\u043a \\u0434\\u043b\\u044f \\u0432\\u043b\\u0430\\u0434\\u0435\\u043b\\u044c\\u0446\\u0435\\u0432 \\u0412\\u0421  \\u0442\\u0430\\u043a \\u0438 \\u0434\\u043b\\u044f \\u044d\\u043d\\u0435\\u0440\\u0433\\u0435\\u0442\\u0438\\u0447\\u0435\\u0441\\u043a\\u0438\\u0445 \\u043a\\u043e\\u043c\\u043f\\u0430\\u043d\\u0438\\u0439. \\u041f\\u0440\\u043e\\u0432\\u043e\\u0434\\u0438\\u0442\\u0441\\u044f \\u0441\\u0440\\u0430\\u0432\\u043d\\u0438\\u0442\\u0435\\u043b\\u044c\\u043d\\u044b\\u0439 \\u0430\\u043d\\u0430\\u043b\\u0438\\u0437 \\u0441\\u0443\\u0449\\u0435\\u0441\\u0442\\u0432\\u0443\\u044e\\u0449\\u0438\\u0445 \\u0438 \\u0440\\u0430\\u0437\\u0440\\u0430\\u0431\\u0430\\u0442\\u044b\\u0432\\u0430\\u0435\\u043c\\u044b\\u0445 \\u043d\\u0430 \\u0441\\u0435\\u0433\\u043e\\u0434\\u043d\\u044f\\u0448\\u043d\\u0438\\u0439 \\u0434\\u0435\\u043d\\u044c \\u0443\\u0441\\u0442\\u0440\\u043e\\u0439\\u0441\\u0442\\u0432 \\u043c\\u0430\\u0440\\u043a\\u0438\\u0440\\u043e\\u0432\\u043a\\u0438 \\u041b\\u042d\\u041f.\"\n        ],\n        \"semantic_type\": \"\",\n        \"description\": \"\"\n      }\n    }\n  ]\n}"
            }
          },
          "metadata": {},
          "execution_count": 39
        }
      ]
    },
    {
      "cell_type": "code",
      "source": [
        "cs_df"
      ],
      "metadata": {
        "colab": {
          "base_uri": "https://localhost:8080/",
          "height": 805
        },
        "id": "rI7K4AiWlrEb",
        "outputId": "6f000598-561c-413c-f776-9b18e3d22ddf"
      },
      "execution_count": null,
      "outputs": [
        {
          "output_type": "execute_result",
          "data": {
            "text/plain": [
              "                                                  title  \\\n",
              "0     Информационная поддержка расчета расхода строи...   \n",
              "1     Сравнительный анализ платформ обработки естест...   \n",
              "2     Проектирование и разработка мобильного приложе...   \n",
              "3     Оптимизация процесса выбора электрооборудовани...   \n",
              "4     Проектирование мобильного приложения для форми...   \n",
              "...                                                 ...   \n",
              "3453  СРАВНЕНИЕ ТРАДИЦИОННЫХ МЕТОДОВ АНАЛИЗА ДАННЫХ ...   \n",
              "3454  СРАВНИТЕЛЬНЫЙ АНАЛИЗ МОДИФИКАЦИЙ МЕТОДА СТОХАС...   \n",
              "3455  МАТЕМАТИЧЕСКОЕ МОДЕЛИРОВАНИЕ АЛГОРИТМОВ МАШИНН...   \n",
              "3456  ПРИМЕНЕНИЕ МАТЕМАТИЧЕСКОЙ МОДЕЛИ ЛОГИСТИЧЕСКОЙ...   \n",
              "3457  Построение предиктивной модели для прогнозиров...   \n",
              "\n",
              "                                                   link  \\\n",
              "0     https://cyberleninka.ru/article/n/informatsion...   \n",
              "1     https://cyberleninka.ru/article/n/sravnitelnyy...   \n",
              "2     https://cyberleninka.ru/article/n/proektirovan...   \n",
              "3     https://cyberleninka.ru/article/n/optimizatsiy...   \n",
              "4     https://cyberleninka.ru/article/n/proektirovan...   \n",
              "...                                                 ...   \n",
              "3453  https://cyberleninka.ru/article/n/sravnenie-tr...   \n",
              "3454  https://cyberleninka.ru/article/n/sravnitelnyy...   \n",
              "3455  https://cyberleninka.ru/article/n/matematiches...   \n",
              "3456  https://cyberleninka.ru/article/n/primenenie-m...   \n",
              "3457  https://cyberleninka.ru/article/n/postroenie-p...   \n",
              "\n",
              "                                                   desc             Topic  \\\n",
              "0     Рассмотрены вопросы проектирования интернет-ма...  computer_science   \n",
              "1     Рассмотрены сферы применения инфокоммуникацион...  computer_science   \n",
              "2     Рассмотрено проектирование навигационной систе...  computer_science   \n",
              "3     Рассмотрена специфика обмена данными между пре...  computer_science   \n",
              "4     Рассмотрена проблема разработки мобильного при...  computer_science   \n",
              "...                                                 ...               ...   \n",
              "3453  В последние десятилетия методы анализа данных ...  computer_science   \n",
              "3454  В настоящее время регрессионный анализ данных ...  computer_science   \n",
              "3455  В статье представлен обзор основных математиче...  computer_science   \n",
              "3456  Целью данного исследования явился анализ возмо...  computer_science   \n",
              "3457  Представлено решение актуальной задачи прогноз...  computer_science   \n",
              "\n",
              "                                               FullText  \n",
              "0     Информационная поддержка расчета расхода строи...  \n",
              "1     Сравнительный анализ платформ обработки естест...  \n",
              "2     Проектирование и разработка мобильного приложе...  \n",
              "3     Оптимизация процесса выбора электрооборудовани...  \n",
              "4     Проектирование мобильного приложения для форми...  \n",
              "...                                                 ...  \n",
              "3453  СРАВНЕНИЕ ТРАДИЦИОННЫХ МЕТОДОВ АНАЛИЗА ДАННЫХ ...  \n",
              "3454  СРАВНИТЕЛЬНЫЙ АНАЛИЗ МОДИФИКАЦИЙ МЕТОДА СТОХАС...  \n",
              "3455  МАТЕМАТИЧЕСКОЕ МОДЕЛИРОВАНИЕ АЛГОРИТМОВ МАШИНН...  \n",
              "3456  ПРИМЕНЕНИЕ МАТЕМАТИЧЕСКОЙ МОДЕЛИ ЛОГИСТИЧЕСКОЙ...  \n",
              "3457  Построение предиктивной модели для прогнозиров...  \n",
              "\n",
              "[3340 rows x 5 columns]"
            ],
            "text/html": [
              "\n",
              "  <div id=\"df-7624d628-7ced-4b03-ac8d-ae1b10d02bad\" class=\"colab-df-container\">\n",
              "    <div>\n",
              "<style scoped>\n",
              "    .dataframe tbody tr th:only-of-type {\n",
              "        vertical-align: middle;\n",
              "    }\n",
              "\n",
              "    .dataframe tbody tr th {\n",
              "        vertical-align: top;\n",
              "    }\n",
              "\n",
              "    .dataframe thead th {\n",
              "        text-align: right;\n",
              "    }\n",
              "</style>\n",
              "<table border=\"1\" class=\"dataframe\">\n",
              "  <thead>\n",
              "    <tr style=\"text-align: right;\">\n",
              "      <th></th>\n",
              "      <th>title</th>\n",
              "      <th>link</th>\n",
              "      <th>desc</th>\n",
              "      <th>Topic</th>\n",
              "      <th>FullText</th>\n",
              "    </tr>\n",
              "  </thead>\n",
              "  <tbody>\n",
              "    <tr>\n",
              "      <th>0</th>\n",
              "      <td>Информационная поддержка расчета расхода строи...</td>\n",
              "      <td>https://cyberleninka.ru/article/n/informatsion...</td>\n",
              "      <td>Рассмотрены вопросы проектирования интернет-ма...</td>\n",
              "      <td>computer_science</td>\n",
              "      <td>Информационная поддержка расчета расхода строи...</td>\n",
              "    </tr>\n",
              "    <tr>\n",
              "      <th>1</th>\n",
              "      <td>Сравнительный анализ платформ обработки естест...</td>\n",
              "      <td>https://cyberleninka.ru/article/n/sravnitelnyy...</td>\n",
              "      <td>Рассмотрены сферы применения инфокоммуникацион...</td>\n",
              "      <td>computer_science</td>\n",
              "      <td>Сравнительный анализ платформ обработки естест...</td>\n",
              "    </tr>\n",
              "    <tr>\n",
              "      <th>2</th>\n",
              "      <td>Проектирование и разработка мобильного приложе...</td>\n",
              "      <td>https://cyberleninka.ru/article/n/proektirovan...</td>\n",
              "      <td>Рассмотрено проектирование навигационной систе...</td>\n",
              "      <td>computer_science</td>\n",
              "      <td>Проектирование и разработка мобильного приложе...</td>\n",
              "    </tr>\n",
              "    <tr>\n",
              "      <th>3</th>\n",
              "      <td>Оптимизация процесса выбора электрооборудовани...</td>\n",
              "      <td>https://cyberleninka.ru/article/n/optimizatsiy...</td>\n",
              "      <td>Рассмотрена специфика обмена данными между пре...</td>\n",
              "      <td>computer_science</td>\n",
              "      <td>Оптимизация процесса выбора электрооборудовани...</td>\n",
              "    </tr>\n",
              "    <tr>\n",
              "      <th>4</th>\n",
              "      <td>Проектирование мобильного приложения для форми...</td>\n",
              "      <td>https://cyberleninka.ru/article/n/proektirovan...</td>\n",
              "      <td>Рассмотрена проблема разработки мобильного при...</td>\n",
              "      <td>computer_science</td>\n",
              "      <td>Проектирование мобильного приложения для форми...</td>\n",
              "    </tr>\n",
              "    <tr>\n",
              "      <th>...</th>\n",
              "      <td>...</td>\n",
              "      <td>...</td>\n",
              "      <td>...</td>\n",
              "      <td>...</td>\n",
              "      <td>...</td>\n",
              "    </tr>\n",
              "    <tr>\n",
              "      <th>3453</th>\n",
              "      <td>СРАВНЕНИЕ ТРАДИЦИОННЫХ МЕТОДОВ АНАЛИЗА ДАННЫХ ...</td>\n",
              "      <td>https://cyberleninka.ru/article/n/sravnenie-tr...</td>\n",
              "      <td>В последние десятилетия методы анализа данных ...</td>\n",
              "      <td>computer_science</td>\n",
              "      <td>СРАВНЕНИЕ ТРАДИЦИОННЫХ МЕТОДОВ АНАЛИЗА ДАННЫХ ...</td>\n",
              "    </tr>\n",
              "    <tr>\n",
              "      <th>3454</th>\n",
              "      <td>СРАВНИТЕЛЬНЫЙ АНАЛИЗ МОДИФИКАЦИЙ МЕТОДА СТОХАС...</td>\n",
              "      <td>https://cyberleninka.ru/article/n/sravnitelnyy...</td>\n",
              "      <td>В настоящее время регрессионный анализ данных ...</td>\n",
              "      <td>computer_science</td>\n",
              "      <td>СРАВНИТЕЛЬНЫЙ АНАЛИЗ МОДИФИКАЦИЙ МЕТОДА СТОХАС...</td>\n",
              "    </tr>\n",
              "    <tr>\n",
              "      <th>3455</th>\n",
              "      <td>МАТЕМАТИЧЕСКОЕ МОДЕЛИРОВАНИЕ АЛГОРИТМОВ МАШИНН...</td>\n",
              "      <td>https://cyberleninka.ru/article/n/matematiches...</td>\n",
              "      <td>В статье представлен обзор основных математиче...</td>\n",
              "      <td>computer_science</td>\n",
              "      <td>МАТЕМАТИЧЕСКОЕ МОДЕЛИРОВАНИЕ АЛГОРИТМОВ МАШИНН...</td>\n",
              "    </tr>\n",
              "    <tr>\n",
              "      <th>3456</th>\n",
              "      <td>ПРИМЕНЕНИЕ МАТЕМАТИЧЕСКОЙ МОДЕЛИ ЛОГИСТИЧЕСКОЙ...</td>\n",
              "      <td>https://cyberleninka.ru/article/n/primenenie-m...</td>\n",
              "      <td>Целью данного исследования явился анализ возмо...</td>\n",
              "      <td>computer_science</td>\n",
              "      <td>ПРИМЕНЕНИЕ МАТЕМАТИЧЕСКОЙ МОДЕЛИ ЛОГИСТИЧЕСКОЙ...</td>\n",
              "    </tr>\n",
              "    <tr>\n",
              "      <th>3457</th>\n",
              "      <td>Построение предиктивной модели для прогнозиров...</td>\n",
              "      <td>https://cyberleninka.ru/article/n/postroenie-p...</td>\n",
              "      <td>Представлено решение актуальной задачи прогноз...</td>\n",
              "      <td>computer_science</td>\n",
              "      <td>Построение предиктивной модели для прогнозиров...</td>\n",
              "    </tr>\n",
              "  </tbody>\n",
              "</table>\n",
              "<p>3340 rows × 5 columns</p>\n",
              "</div>\n",
              "    <div class=\"colab-df-buttons\">\n",
              "\n",
              "  <div class=\"colab-df-container\">\n",
              "    <button class=\"colab-df-convert\" onclick=\"convertToInteractive('df-7624d628-7ced-4b03-ac8d-ae1b10d02bad')\"\n",
              "            title=\"Convert this dataframe to an interactive table.\"\n",
              "            style=\"display:none;\">\n",
              "\n",
              "  <svg xmlns=\"http://www.w3.org/2000/svg\" height=\"24px\" viewBox=\"0 -960 960 960\">\n",
              "    <path d=\"M120-120v-720h720v720H120Zm60-500h600v-160H180v160Zm220 220h160v-160H400v160Zm0 220h160v-160H400v160ZM180-400h160v-160H180v160Zm440 0h160v-160H620v160ZM180-180h160v-160H180v160Zm440 0h160v-160H620v160Z\"/>\n",
              "  </svg>\n",
              "    </button>\n",
              "\n",
              "  <style>\n",
              "    .colab-df-container {\n",
              "      display:flex;\n",
              "      gap: 12px;\n",
              "    }\n",
              "\n",
              "    .colab-df-convert {\n",
              "      background-color: #E8F0FE;\n",
              "      border: none;\n",
              "      border-radius: 50%;\n",
              "      cursor: pointer;\n",
              "      display: none;\n",
              "      fill: #1967D2;\n",
              "      height: 32px;\n",
              "      padding: 0 0 0 0;\n",
              "      width: 32px;\n",
              "    }\n",
              "\n",
              "    .colab-df-convert:hover {\n",
              "      background-color: #E2EBFA;\n",
              "      box-shadow: 0px 1px 2px rgba(60, 64, 67, 0.3), 0px 1px 3px 1px rgba(60, 64, 67, 0.15);\n",
              "      fill: #174EA6;\n",
              "    }\n",
              "\n",
              "    .colab-df-buttons div {\n",
              "      margin-bottom: 4px;\n",
              "    }\n",
              "\n",
              "    [theme=dark] .colab-df-convert {\n",
              "      background-color: #3B4455;\n",
              "      fill: #D2E3FC;\n",
              "    }\n",
              "\n",
              "    [theme=dark] .colab-df-convert:hover {\n",
              "      background-color: #434B5C;\n",
              "      box-shadow: 0px 1px 3px 1px rgba(0, 0, 0, 0.15);\n",
              "      filter: drop-shadow(0px 1px 2px rgba(0, 0, 0, 0.3));\n",
              "      fill: #FFFFFF;\n",
              "    }\n",
              "  </style>\n",
              "\n",
              "    <script>\n",
              "      const buttonEl =\n",
              "        document.querySelector('#df-7624d628-7ced-4b03-ac8d-ae1b10d02bad button.colab-df-convert');\n",
              "      buttonEl.style.display =\n",
              "        google.colab.kernel.accessAllowed ? 'block' : 'none';\n",
              "\n",
              "      async function convertToInteractive(key) {\n",
              "        const element = document.querySelector('#df-7624d628-7ced-4b03-ac8d-ae1b10d02bad');\n",
              "        const dataTable =\n",
              "          await google.colab.kernel.invokeFunction('convertToInteractive',\n",
              "                                                    [key], {});\n",
              "        if (!dataTable) return;\n",
              "\n",
              "        const docLinkHtml = 'Like what you see? Visit the ' +\n",
              "          '<a target=\"_blank\" href=https://colab.research.google.com/notebooks/data_table.ipynb>data table notebook</a>'\n",
              "          + ' to learn more about interactive tables.';\n",
              "        element.innerHTML = '';\n",
              "        dataTable['output_type'] = 'display_data';\n",
              "        await google.colab.output.renderOutput(dataTable, element);\n",
              "        const docLink = document.createElement('div');\n",
              "        docLink.innerHTML = docLinkHtml;\n",
              "        element.appendChild(docLink);\n",
              "      }\n",
              "    </script>\n",
              "  </div>\n",
              "\n",
              "\n",
              "<div id=\"df-9cf9d61a-6d2b-4e48-9f39-095f96705380\">\n",
              "  <button class=\"colab-df-quickchart\" onclick=\"quickchart('df-9cf9d61a-6d2b-4e48-9f39-095f96705380')\"\n",
              "            title=\"Suggest charts\"\n",
              "            style=\"display:none;\">\n",
              "\n",
              "<svg xmlns=\"http://www.w3.org/2000/svg\" height=\"24px\"viewBox=\"0 0 24 24\"\n",
              "     width=\"24px\">\n",
              "    <g>\n",
              "        <path d=\"M19 3H5c-1.1 0-2 .9-2 2v14c0 1.1.9 2 2 2h14c1.1 0 2-.9 2-2V5c0-1.1-.9-2-2-2zM9 17H7v-7h2v7zm4 0h-2V7h2v10zm4 0h-2v-4h2v4z\"/>\n",
              "    </g>\n",
              "</svg>\n",
              "  </button>\n",
              "\n",
              "<style>\n",
              "  .colab-df-quickchart {\n",
              "      --bg-color: #E8F0FE;\n",
              "      --fill-color: #1967D2;\n",
              "      --hover-bg-color: #E2EBFA;\n",
              "      --hover-fill-color: #174EA6;\n",
              "      --disabled-fill-color: #AAA;\n",
              "      --disabled-bg-color: #DDD;\n",
              "  }\n",
              "\n",
              "  [theme=dark] .colab-df-quickchart {\n",
              "      --bg-color: #3B4455;\n",
              "      --fill-color: #D2E3FC;\n",
              "      --hover-bg-color: #434B5C;\n",
              "      --hover-fill-color: #FFFFFF;\n",
              "      --disabled-bg-color: #3B4455;\n",
              "      --disabled-fill-color: #666;\n",
              "  }\n",
              "\n",
              "  .colab-df-quickchart {\n",
              "    background-color: var(--bg-color);\n",
              "    border: none;\n",
              "    border-radius: 50%;\n",
              "    cursor: pointer;\n",
              "    display: none;\n",
              "    fill: var(--fill-color);\n",
              "    height: 32px;\n",
              "    padding: 0;\n",
              "    width: 32px;\n",
              "  }\n",
              "\n",
              "  .colab-df-quickchart:hover {\n",
              "    background-color: var(--hover-bg-color);\n",
              "    box-shadow: 0 1px 2px rgba(60, 64, 67, 0.3), 0 1px 3px 1px rgba(60, 64, 67, 0.15);\n",
              "    fill: var(--button-hover-fill-color);\n",
              "  }\n",
              "\n",
              "  .colab-df-quickchart-complete:disabled,\n",
              "  .colab-df-quickchart-complete:disabled:hover {\n",
              "    background-color: var(--disabled-bg-color);\n",
              "    fill: var(--disabled-fill-color);\n",
              "    box-shadow: none;\n",
              "  }\n",
              "\n",
              "  .colab-df-spinner {\n",
              "    border: 2px solid var(--fill-color);\n",
              "    border-color: transparent;\n",
              "    border-bottom-color: var(--fill-color);\n",
              "    animation:\n",
              "      spin 1s steps(1) infinite;\n",
              "  }\n",
              "\n",
              "  @keyframes spin {\n",
              "    0% {\n",
              "      border-color: transparent;\n",
              "      border-bottom-color: var(--fill-color);\n",
              "      border-left-color: var(--fill-color);\n",
              "    }\n",
              "    20% {\n",
              "      border-color: transparent;\n",
              "      border-left-color: var(--fill-color);\n",
              "      border-top-color: var(--fill-color);\n",
              "    }\n",
              "    30% {\n",
              "      border-color: transparent;\n",
              "      border-left-color: var(--fill-color);\n",
              "      border-top-color: var(--fill-color);\n",
              "      border-right-color: var(--fill-color);\n",
              "    }\n",
              "    40% {\n",
              "      border-color: transparent;\n",
              "      border-right-color: var(--fill-color);\n",
              "      border-top-color: var(--fill-color);\n",
              "    }\n",
              "    60% {\n",
              "      border-color: transparent;\n",
              "      border-right-color: var(--fill-color);\n",
              "    }\n",
              "    80% {\n",
              "      border-color: transparent;\n",
              "      border-right-color: var(--fill-color);\n",
              "      border-bottom-color: var(--fill-color);\n",
              "    }\n",
              "    90% {\n",
              "      border-color: transparent;\n",
              "      border-bottom-color: var(--fill-color);\n",
              "    }\n",
              "  }\n",
              "</style>\n",
              "\n",
              "  <script>\n",
              "    async function quickchart(key) {\n",
              "      const quickchartButtonEl =\n",
              "        document.querySelector('#' + key + ' button');\n",
              "      quickchartButtonEl.disabled = true;  // To prevent multiple clicks.\n",
              "      quickchartButtonEl.classList.add('colab-df-spinner');\n",
              "      try {\n",
              "        const charts = await google.colab.kernel.invokeFunction(\n",
              "            'suggestCharts', [key], {});\n",
              "      } catch (error) {\n",
              "        console.error('Error during call to suggestCharts:', error);\n",
              "      }\n",
              "      quickchartButtonEl.classList.remove('colab-df-spinner');\n",
              "      quickchartButtonEl.classList.add('colab-df-quickchart-complete');\n",
              "    }\n",
              "    (() => {\n",
              "      let quickchartButtonEl =\n",
              "        document.querySelector('#df-9cf9d61a-6d2b-4e48-9f39-095f96705380 button');\n",
              "      quickchartButtonEl.style.display =\n",
              "        google.colab.kernel.accessAllowed ? 'block' : 'none';\n",
              "    })();\n",
              "  </script>\n",
              "</div>\n",
              "    </div>\n",
              "  </div>\n"
            ],
            "application/vnd.google.colaboratory.intrinsic+json": {
              "type": "dataframe",
              "variable_name": "cs_df",
              "summary": "{\n  \"name\": \"cs_df\",\n  \"rows\": 3340,\n  \"fields\": [\n    {\n      \"column\": \"title\",\n      \"properties\": {\n        \"dtype\": \"string\",\n        \"num_unique_values\": 3334,\n        \"samples\": [\n          \"\\u041a\\u041e\\u041d\\u0426\\u0415\\u041f\\u0422 \\u0414\\u0415\\u0422\\u0415\\u041a\\u0422\\u041e\\u0420\\u0410 \\u0422\\u0420\\u0410\\u041d\\u0421\\u041f\\u041e\\u0420\\u0422\\u0410 \\u041d\\u0410 \\u041e\\u0421\\u041d\\u041e\\u0412\\u0415 \\u0422\\u0415\\u0425\\u041d\\u041e\\u041b\\u041e\\u0413\\u0418\\u0418 BLUETOOTH\",\n          \"THE VEHICLE ROUTING PROBLEM IN URBAN ROAD NETWORKS\",\n          \"\\u0411\\u0415\\u0421\\u041f\\u0420\\u041e\\u0412\\u041e\\u0414\\u041d\\u042b\\u0415 \\u0421\\u0415\\u041d\\u0421\\u041e\\u0420\\u041d\\u042b\\u0415 \\u0421\\u0415\\u0422\\u0418 \\u0412 \\u0417\\u0410\\u0429\\u0418\\u0429\\u0410\\u0415\\u041c\\u042b\\u0425 \\u0417\\u041e\\u041d\\u0410\\u0425\"\n        ],\n        \"semantic_type\": \"\",\n        \"description\": \"\"\n      }\n    },\n    {\n      \"column\": \"link\",\n      \"properties\": {\n        \"dtype\": \"string\",\n        \"num_unique_values\": 3339,\n        \"samples\": [\n          \"https://cyberleninka.ru/article/n/formalnye-osnovy-sistemy-podderzhki-formirovaniya-chastnyh-metodik-proizvodstva-kompyuterno-tehnicheskoy-ekspertizy\",\n          \"https://cyberleninka.ru/article/n/iskusstvennyy-intellekt-na-segodnyashniy-den\",\n          \"https://cyberleninka.ru/article/n/klassifikatsiya-stankov-opisyvaemyh-bolshim-kolichestvom-priznakov-na-osnove-neyronnoy-seti-raspoznavaniya-i-reduktsii-prostranstva\"\n        ],\n        \"semantic_type\": \"\",\n        \"description\": \"\"\n      }\n    },\n    {\n      \"column\": \"desc\",\n      \"properties\": {\n        \"dtype\": \"string\",\n        \"num_unique_values\": 3335,\n        \"samples\": [\n          \"\\u0418\\u043d\\u0442\\u0435\\u043b\\u043b\\u0435\\u043a\\u0442\\u0443\\u0430\\u043b\\u044c\\u043d\\u044b\\u0435 \\u0442\\u0440\\u0430\\u043d\\u0441\\u043f\\u043e\\u0440\\u0442\\u043d\\u044b\\u0435 \\u0441\\u0438\\u0441\\u0442\\u0435\\u043c\\u044b (\\u0418\\u0422\\u0421) - \\u044d\\u0442\\u043e \\u043d\\u0430\\u0441\\u0442\\u043e\\u044f\\u0449\\u0435\\u0435 \\u0438 \\u0431\\u0443\\u0434\\u0443\\u0449\\u0435\\u0435 \\u0443\\u043f\\u0440\\u0430\\u0432\\u043b\\u0435\\u043d\\u0438\\u044f \\u0442\\u0440\\u0430\\u043d\\u0441\\u043f\\u043e\\u0440\\u0442\\u043e\\u043c \\u0432 \\u0420\\u043e\\u0441\\u0441\\u0438\\u0438 \\u0438 \\u0432\\u043e \\u0432\\u0441\\u0435\\u043c \\u043c\\u0438\\u0440\\u0435. \\u0414\\u043b\\u044f \\u0440\\u0435\\u0430\\u043b\\u0438\\u0437\\u0430\\u0446\\u0438\\u0438 \\u0430\\u0434\\u0430\\u043f\\u0442\\u0438\\u0432\\u043d\\u044b\\u0445 \\u0441\\u0438\\u0441\\u0442\\u0435\\u043c \\u0443\\u043f\\u0440\\u0430\\u0432\\u043b\\u0435\\u043d\\u0438\\u044f \\u0434\\u043e\\u0440\\u043e\\u0436\\u043d\\u044b\\u043c \\u0434\\u0432\\u0438\\u0436\\u0435\\u043d\\u0438\\u0435\\u043c \\u043d\\u0443\\u0436\\u043d\\u043e \\u0441\\u043e\\u0431\\u0440\\u0430\\u0442\\u044c \\u043d\\u0435\\u043e\\u0431\\u0445\\u043e\\u0434\\u0438\\u043c\\u0443\\u044e \\u0438\\u043d\\u0444\\u043e\\u0440\\u043c\\u0430\\u0446\\u0438\\u044e \\u043e \\u0442\\u0440\\u0430\\u043d\\u0441\\u043f\\u043e\\u0440\\u0442\\u043d\\u043e\\u043c \\u043f\\u043e\\u0442\\u043e\\u043a\\u0435. \\u0414\\u043b\\u044f \\u0432\\u044b\\u043f\\u043e\\u043b\\u043d\\u0435\\u043d\\u0438\\u044f \\u044d\\u0442\\u0438\\u0445 \\u0446\\u0435\\u043b\\u0435\\u0439 \\u0438\\u0441\\u043f\\u043e\\u043b\\u044c\\u0437\\u0443\\u044e\\u0442\\u0441\\u044f \\u0440\\u0430\\u0437\\u043b\\u0438\\u0447\\u043d\\u044b\\u0435 \\u0441\\u0438\\u0441\\u0442\\u0435\\u043c\\u044b. \\u0426\\u0435\\u043b\\u044c \\u0441\\u0442\\u0430\\u0442\\u044c\\u0438 - \\u0430\\u043d\\u0430\\u043b\\u0438\\u0437 \\u0434\\u0435\\u0442\\u0435\\u043a\\u0442\\u043e\\u0440\\u0430 \\u0442\\u0440\\u0430\\u043d\\u0441\\u043f\\u043e\\u0440\\u0442\\u0430 \\u043e\\u0441\\u043d\\u043e\\u0432\\u0430\\u043d\\u043d\\u043e\\u0433\\u043e \\u043d\\u0430 \\u0441\\u043e\\u0432\\u0440\\u0435\\u043c\\u0435\\u043d\\u043d\\u044b\\u0445 \\u0442\\u0435\\u0445\\u043d\\u043e\\u043b\\u043e\\u0433\\u0438\\u044f\\u0445 \\u043f\\u0435\\u0440\\u0435\\u0434\\u0430\\u0447\\u0438 \\u0438\\u043d\\u0444\\u043e\\u0440\\u043c\\u0430\\u0446\\u0438\\u0438 \\u043f\\u043e \\u043f\\u0440\\u043e\\u0442\\u043e\\u043a\\u043e\\u043b\\u0443 IEEE 802.15.1 \\u043f\\u043e \\u0440\\u0430\\u0434\\u0438\\u043e\\u0447\\u0430\\u0441\\u0442\\u043e\\u0442\\u0435 24 \\u0413\\u0413\\u0446.\",\n          \"The article presents an approach to solving the vehicle routing problem which is the basis of the Zig-Zag project the purpose of which is to automate the logistics of freight transportation. The high efficiency of the proposed algorithm is due to the use of preliminary clustering of delivery points to determine geographical areas and the use of various heuristics to solve the optimization problem. Zig-Zag allows you to solve problems with time windows and restrictions on the vehicles capacity and also takes into account the change in the speed of traffic flows depending on the time of day and road restrictions using a heat map of the distribution of the speed coefficient obtained on the basis of statistical data.\",\n          \"\\u0412 \\u0432\\u043e\\u0435\\u043d\\u043d\\u044b\\u0445 \\u0446\\u0435\\u043b\\u044f\\u0445 \\u0431\\u0435\\u0441\\u043f\\u0440\\u043e\\u0432\\u043e\\u0434\\u043d\\u044b\\u0435 \\u0441\\u0435\\u043d\\u0441\\u043e\\u0440\\u043d\\u044b\\u0435 \\u0441\\u0435\\u0442\\u0438 \\u043f\\u043e\\u0437\\u0432\\u043e\\u043b\\u044f\\u044e\\u0442 \\u00ab\\u0441\\u0432\\u044f\\u0437\\u0430\\u0442\\u044c \\u0430\\u0432\\u0442\\u043e\\u043d\\u043e\\u043c\\u043d\\u044b\\u0435 \\u0441\\u0438\\u0441\\u0442\\u0435\\u043c\\u044b\\u00bb \\u0432 \\u043a\\u043e\\u043c\\u043f\\u043b\\u0435\\u043a\\u0441 \\u043e\\u0431\\u043b\\u0430\\u0434\\u0430\\u044e\\u0449\\u0438\\u0439 \\u0441\\u0432\\u043e\\u0439\\u0441\\u0442\\u0432\\u043e\\u043c \\u0441\\u0430\\u043c\\u043e\\u043e\\u0440\\u0433\\u0430\\u043d\\u0438\\u0437\\u0430\\u0446\\u0438\\u0438 \\u043a\\u043e\\u0433\\u0434\\u0430 \\u043e\\u0431\\u044a\\u0435\\u043a\\u0442\\u044b \\u00ab\\u0443\\u043c\\u0435\\u044e\\u0442\\u00bb \\u0441\\u0430\\u043c\\u0438 \\u043d\\u0430\\u0445\\u043e\\u0434\\u0438\\u0442\\u044c \\u0434\\u0440\\u0443\\u0433 \\u0434\\u0440\\u0443\\u0433\\u0430 \\u0438 \\u0444\\u043e\\u0440\\u043c\\u0438\\u0440\\u043e\\u0432\\u0430\\u0442\\u044c \\u0441\\u0435\\u0442\\u044c \\u0430 \\u0441\\u043b\\u0443\\u0447\\u0430\\u0435 \\u0432\\u044b\\u0445\\u043e\\u0434\\u0430 \\u0438\\u0437 \\u0441\\u0442\\u0440\\u043e\\u044f \\u043a\\u0430\\u043a\\u043e\\u0433\\u043e-\\u043b\\u0438\\u0431\\u043e \\u0438\\u0437 \\u0443\\u0437\\u043b\\u043e\\u0432 \\u043c\\u043e\\u0433\\u0443\\u0442 \\u0443\\u0441\\u0442\\u0430\\u043d\\u0430\\u0432\\u043b\\u0438\\u0432\\u0430\\u0442\\u044c \\u043d\\u043e\\u0432\\u044b\\u0435 \\u043c\\u0430\\u0440\\u0448\\u0440\\u0443\\u0442\\u044b \\u0434\\u043b\\u044f \\u043f\\u0435\\u0440\\u0435\\u0434\\u0430\\u0447\\u0438 \\u0441\\u043e\\u043e\\u0431\\u0449\\u0435\\u043d\\u0438\\u0439. \\u0414\\u043e\\u0441\\u0442\\u0438\\u0447\\u044c \\u0436\\u0435\\u043b\\u0430\\u0435\\u043c\\u043e\\u0439 \\u044d\\u0444\\u0444\\u0435\\u043a\\u0442\\u0438\\u0432\\u043d\\u043e\\u0441\\u0442\\u0438 \\u043f\\u043e\\u0434\\u043e\\u0431\\u043d\\u044b\\u0445 \\u043a\\u043e\\u043c\\u043f\\u043b\\u0435\\u043a\\u0441\\u043e\\u0432 \\u0432\\u043e\\u0437\\u043c\\u043e\\u0436\\u043d\\u043e \\u0433\\u043b\\u0430\\u0432\\u043d\\u044b\\u043c \\u043e\\u0431\\u0440\\u0430\\u0437\\u043e\\u043c \\u043f\\u0443\\u0442\\u0435\\u043c \\u0441\\u043e\\u0432\\u0435\\u0440\\u0448\\u0435\\u043d\\u0441\\u0442\\u0432\\u043e\\u0432\\u0430\\u043d\\u0438\\u044f \\u0438\\u043d\\u0442\\u0435\\u043b\\u043b\\u0435\\u043a\\u0442\\u0443\\u0430\\u043b\\u044c\\u043d\\u043e\\u0439 \\u0441\\u043e\\u0441\\u0442\\u0430\\u0432\\u043b\\u044f\\u044e\\u0449\\u0435\\u0439 \\u0438\\u0445 \\u0441\\u0438\\u0441\\u0442\\u0435\\u043c\\u044b \\u0443\\u043f\\u0440\\u0430\\u0432\\u043b\\u0435\\u043d\\u0438\\u044f \\u0432 \\u0446\\u0435\\u043b\\u043e\\u043c \\u0438 \\u043e\\u0442\\u0434\\u0435\\u043b\\u044c\\u043d\\u044b\\u043c \\u0443\\u0437\\u043b\\u043e\\u043c \\u0432 \\u0447\\u0430\\u0441\\u0442\\u043d\\u043e\\u0441\\u0442\\u0438. \\u041e\\u0434\\u043d\\u0430\\u043a\\u043e \\u0441\\u043b\\u0435\\u0434\\u0443\\u0435\\u0442 \\u043e\\u0442\\u043c\\u0435\\u0442\\u0438\\u0442\\u044c \\u0447\\u0442\\u043e \\u043f\\u043e\\u0434\\u0430\\u0432\\u043b\\u044f\\u044e\\u0449\\u0435\\u0435 \\u0447\\u0438\\u0441\\u043b\\u043e \\u0438\\u0441\\u0441\\u043b\\u0435\\u0434\\u043e\\u0432\\u0430\\u043d\\u0438\\u0439 \\u0432 \\u044d\\u0442\\u043e\\u0439 \\u043e\\u0431\\u043b\\u0430\\u0441\\u0442\\u0438 \\u043e\\u0441\\u0442\\u0430\\u0435\\u0442\\u0441\\u044f \\u043d\\u0430 \\u0442\\u0435\\u043e\\u0440\\u0435\\u0442\\u0438\\u0447\\u0435\\u0441\\u043a\\u043e\\u043c \\u0443\\u0440\\u043e\\u0432\\u043d\\u0435. \\u0426\\u0435\\u043b\\u044c \\u0441\\u043e\\u0441\\u0442\\u043e\\u0438\\u0442: 1) \\u0432 \\u0438\\u0441\\u0441\\u043b\\u0435\\u0434\\u043e\\u0432\\u0430\\u043d\\u0438\\u0438 \\u0438 \\u0440\\u0430\\u0437\\u0440\\u0430\\u0431\\u043e\\u0442\\u043a\\u0435 \\u0430\\u043b\\u0433\\u043e\\u0440\\u0438\\u0442\\u043c\\u043e\\u0432 \\u043f\\u043e\\u0441\\u0442\\u0440\\u043e\\u0435\\u043d\\u0438\\u044f \\u0430\\u0440\\u0445\\u0438\\u0442\\u0435\\u043a\\u0442\\u0443\\u0440\\u044b \\u0441\\u0435\\u0442\\u0438 \\u0441 \\u043c\\u043e\\u0431\\u0438\\u043b\\u044c\\u043d\\u044b\\u043c\\u0438 \\u0443\\u0437\\u043b\\u0430\\u043c\\u0438 \\u0438 \\u0441 \\u0432\\u043e\\u0437\\u043c\\u043e\\u0436\\u043d\\u044b\\u043c\\u0438 \\u0438\\u0445 \\u043e\\u0442\\u043a\\u0430\\u0437\\u0430\\u043c\\u0438 \\u0432\\u0441\\u043b\\u0435\\u0434\\u0441\\u0442\\u0432\\u0438\\u0435 \\u0432\\u044b\\u043f\\u043e\\u043b\\u043d\\u0435\\u043d\\u0438\\u044f \\u0431\\u043e\\u0435\\u0432\\u043e\\u0439 \\u0437\\u0430\\u0434\\u0430\\u0447\\u0438; 2) \\u0432 \\u0438\\u0441\\u0441\\u043b\\u0435\\u0434\\u043e\\u0432\\u0430\\u043d\\u0438\\u0438 \\u0438 \\u0440\\u0430\\u0437\\u0440\\u0430\\u0431\\u043e\\u0442\\u043a\\u0435 \\u0438\\u0441\\u043f\\u043e\\u043b\\u044c\\u0437\\u043e\\u0432\\u0430\\u043d\\u0438\\u044f \\u0443\\u0437\\u043b\\u0430 \\u0441\\u0435\\u043d\\u0441\\u043e\\u0440\\u043d\\u043e\\u0439 \\u0441\\u0435\\u0442\\u0438 \\u0434\\u043b\\u044f \\u0441\\u0431\\u043e\\u0440\\u0430 \\u0430\\u043d\\u0430\\u043b\\u0438\\u0437\\u0430 \\u043f\\u0435\\u0440\\u0435\\u0434\\u0430\\u0447\\u0438 \\u0434\\u0430\\u043d\\u043d\\u044b\\u0445 \\u043e\\u0431 \\u043e\\u0431\\u0441\\u0442\\u0430\\u043d\\u043e\\u0432\\u043a\\u0435 \\u0438 \\u043f\\u0440\\u0438\\u043d\\u044f\\u0442\\u0438\\u044f \\u0440\\u0435\\u0448\\u0435\\u043d\\u0438\\u044f \\u0432 \\u0437\\u043e\\u043d\\u0435 \\u0441\\u0432\\u043e\\u0435\\u0439 \\u043e\\u0442\\u0432\\u0435\\u0442\\u0441\\u0442\\u0432\\u0435\\u043d\\u043d\\u043e\\u0441\\u0442\\u0438; 3) \\u043f\\u0440\\u0435\\u0434\\u043b\\u043e\\u0436\\u0438\\u0442\\u044c \\u0432 \\u0443\\u0441\\u043b\\u043e\\u0432\\u0438\\u044f\\u0445 \\u043e\\u0433\\u0440\\u0430\\u043d\\u0438\\u0447\\u0435\\u043d\\u0438\\u0439 \\u043f\\u043e \\u044d\\u043d\\u0435\\u0440\\u0433\\u043e\\u043f\\u043e\\u0442\\u0440\\u0435\\u0431\\u043b\\u0435\\u043d\\u0438\\u044e \\u0438 \\u0431\\u044b\\u0441\\u0442\\u0440\\u043e\\u0434\\u0435\\u0439\\u0441\\u0442\\u0432\\u0438\\u044e \\u0441\\u0440\\u0430\\u0432\\u043d\\u0438\\u0442\\u0435\\u043b\\u044c\\u043d\\u043e \\u043f\\u0440\\u043e\\u0441\\u0442\\u044b\\u0435 \\u0430\\u043b\\u0433\\u043e\\u0440\\u0438\\u0442\\u043c\\u044b \\u0434\\u043b\\u044f \\u043f\\u0440\\u0438\\u0434\\u0430\\u043d\\u0438\\u044f \\u0443\\u0437\\u043b\\u0443 \\u0441\\u0435\\u0442\\u0438 \\u0441\\u0432\\u043e\\u0439\\u0441\\u0442\\u0432\\u0430 \\u0438\\u043d\\u0442\\u0435\\u043b\\u043b\\u0435\\u043a\\u0442\\u0443\\u0430\\u043b\\u044c\\u043d\\u043e\\u0433\\u043e \\u043f\\u043e\\u0432\\u0435\\u0434\\u0435\\u043d\\u0438\\u044f. \\u041f\\u043e\\u043a\\u0430\\u0437\\u0430\\u043d\\u043e \\u0447\\u0442\\u043e \\u0442\\u0440\\u0435\\u0431\\u0443\\u0435\\u043c\\u044b\\u0435 \\u0430\\u043b\\u0433\\u043e\\u0440\\u0438\\u0442\\u043c\\u044b \\u043c\\u043e\\u0436\\u043d\\u043e \\u0440\\u0430\\u0437\\u0440\\u0430\\u0431\\u043e\\u0442\\u0430\\u0442\\u044c \\u0435\\u0441\\u043b\\u0438 \\u0432\\u044b\\u044f\\u0432\\u0438\\u0442\\u044c \\u043a\\u043b\\u0430\\u0441\\u0441\\u044b \\u0442\\u0438\\u043f\\u043e\\u0432\\u044b\\u0445 \\u0441\\u0438\\u0442\\u0443\\u0430\\u0446\\u0438\\u0439 \\u0438 \\u0443\\u0441\\u043f\\u0435\\u0448\\u043d\\u044b\\u0435 \\u0441\\u043f\\u043e\\u0441\\u043e\\u0431\\u044b \\u0434\\u0435\\u0439\\u0441\\u0442\\u0432\\u0438\\u044f \\u0432 \\u0440\\u0435\\u0430\\u043b\\u044c\\u043d\\u044b\\u0445 \\u0443\\u0441\\u043b\\u043e\\u0432\\u0438\\u044f\\u0445. \\u041d\\u0430 \\u044d\\u0442\\u043e\\u0439 \\u043e\\u0441\\u043d\\u043e\\u0432\\u0435 \\u043f\\u043e\\u044f\\u0432\\u043b\\u044f\\u0435\\u0442\\u0441\\u044f \\u0432\\u043e\\u0437\\u043c\\u043e\\u0436\\u043d\\u043e\\u0441\\u0442\\u044c \\u0440\\u0430\\u0437\\u0440\\u0430\\u0431\\u043e\\u0442\\u043a\\u0438 \\u0444\\u043e\\u0440\\u043c\\u0430\\u043b\\u044c\\u043d\\u044b\\u0445 \\u043c\\u043e\\u0434\\u0435\\u043b\\u0435\\u0439 (\\u043f\\u0430\\u0442\\u0442\\u0435\\u0440\\u043d\\u043e\\u0432) \\u0434\\u043b\\u044f \\u0440\\u0435\\u0430\\u043b\\u0438\\u0437\\u0430\\u0446\\u0438\\u0438 \\u0432 \\u0441\\u0438\\u0441\\u0442\\u0435\\u043c\\u0435 \\u0443\\u043f\\u0440\\u0430\\u0432\\u043b\\u0435\\u043d\\u0438\\u044f \\u0443\\u0437\\u043b\\u043e\\u043c. \\u041f\\u0440\\u0435\\u0434\\u043b\\u043e\\u0436\\u0435\\u043d\\u0430 \\u0434\\u0432\\u0443\\u0445\\u0443\\u0440\\u043e\\u0432\\u043d\\u0435\\u0432\\u0430\\u044f \\u0441\\u0442\\u0440\\u0443\\u043a\\u0442\\u0443\\u0440\\u0430 \\u0438\\u043d\\u0442\\u0435\\u043b\\u043b\\u0435\\u043a\\u0442\\u0443\\u0430\\u043b\\u044c\\u043d\\u043e\\u0439 \\u0441\\u0438\\u0441\\u0442\\u0435\\u043c\\u044b \\u0443\\u043f\\u0440\\u0430\\u0432\\u043b\\u0435\\u043d\\u0438\\u044f \\u0441\\u0435\\u0442\\u044c\\u044e. \\u0412\\u0435\\u0440\\u0445\\u043d\\u0438\\u0439 \\u0443\\u0440\\u043e\\u0432\\u0435\\u043d\\u044c \\u0440\\u0435\\u0430\\u043b\\u0438\\u0437\\u0443\\u0435\\u043c\\u044b\\u0439 \\u043e\\u043f\\u0435\\u0440\\u0430\\u0442\\u043e\\u0440\\u043e\\u043c \\u0441\\u043e\\u043e\\u0442\\u0432\\u0435\\u0442\\u0441\\u0442\\u0432\\u0443\\u0435\\u0442 \\u0442\\u0430\\u043a\\u0438\\u043c \\u0441\\u0432\\u043e\\u0439\\u0441\\u0442\\u0432\\u0430\\u043c \\u043a\\u0430\\u043a \\u0432\\u044b\\u0436\\u0438\\u0432\\u0430\\u043d\\u0438\\u0435 \\u0431\\u0435\\u0437\\u043e\\u043f\\u0430\\u0441\\u043d\\u043e\\u0441\\u0442\\u044c \\u0432\\u044b\\u043f\\u043e\\u043b\\u043d\\u0435\\u043d\\u0438\\u0435 \\u043e\\u0431\\u044f\\u0437\\u0430\\u0442\\u0435\\u043b\\u044c\\u0441\\u0442\\u0432 \\u0441\\u043e\\u0433\\u043b\\u0430\\u0441\\u043d\\u043e \\u043c\\u0438\\u0441\\u0441\\u0438\\u0438 \\u043d\\u0430\\u043a\\u043e\\u043f\\u043b\\u0435\\u043d\\u0438\\u0435 \\u0438 \\u043a\\u043e\\u0440\\u0440\\u0435\\u043a\\u0442\\u0438\\u0440\\u043e\\u0432\\u043a\\u0430 \\u0431\\u0430\\u0437\\u044b \\u0437\\u043d\\u0430\\u043d\\u0438\\u0439 \\u0432 \\u0432\\u0438\\u0434\\u0435 \\u044d\\u0444\\u0444\\u0435\\u043a\\u0442\\u0438\\u0432\\u043d\\u044b\\u0445 \\u043f\\u0430\\u0442\\u0442\\u0435\\u0440\\u043d\\u043e\\u0432 \\u043f\\u043e\\u0432\\u0435\\u0434\\u0435\\u043d\\u0438\\u044f. \\u041e\\u0431\\u044a\\u0435\\u043a\\u0442\\u043e\\u043c \\u0443\\u043f\\u0440\\u0430\\u0432\\u043b\\u0435\\u043d\\u0438\\u044f \\u0434\\u043b\\u044f \\u043d\\u0435\\u0435 \\u044f\\u0432\\u043b\\u044f\\u0435\\u0442\\u0441\\u044f \\u0441\\u0435\\u0442\\u044c \\u0440\\u0430\\u0441\\u0441\\u043c\\u0430\\u0442\\u0440\\u0438\\u0432\\u0430\\u0435\\u043c\\u0430\\u044f \\u043a\\u0430\\u043a \\u043d\\u0435\\u043a\\u043e\\u0442\\u043e\\u0440\\u0430\\u044f \\u0444\\u0443\\u043d\\u043a\\u0446\\u0438\\u043e\\u043d\\u0430\\u043b\\u044c\\u043d\\u0430\\u044f \\u0441\\u0438\\u0441\\u0442\\u0435\\u043c\\u0430.\"\n        ],\n        \"semantic_type\": \"\",\n        \"description\": \"\"\n      }\n    },\n    {\n      \"column\": \"Topic\",\n      \"properties\": {\n        \"dtype\": \"category\",\n        \"num_unique_values\": 1,\n        \"samples\": [\n          \"computer_science\"\n        ],\n        \"semantic_type\": \"\",\n        \"description\": \"\"\n      }\n    },\n    {\n      \"column\": \"FullText\",\n      \"properties\": {\n        \"dtype\": \"string\",\n        \"num_unique_values\": 3336,\n        \"samples\": [\n          \"\\u041a \\u0432\\u043e\\u043f\\u0440\\u043e\\u0441\\u0443 \\u043e\\u0431 \\u0438\\u0441\\u043f\\u043e\\u043b\\u044c\\u0437\\u043e\\u0432\\u0430\\u043d\\u0438\\u0438 \\u043a\\u043e\\u0433\\u043d\\u0438\\u0442\\u0438\\u0432\\u043d\\u043e\\u0433\\u043e \\u0438\\u043d\\u0442\\u0435\\u0440\\u0432\\u044c\\u044e\\u0438\\u0440\\u043e\\u0432\\u0430\\u043d\\u0438\\u044f \\u0432 \\u0443\\u0433\\u043e\\u043b\\u043e\\u0432\\u043d\\u043e\\u043c \\u043f\\u0440\\u043e\\u0446\\u0435\\u0441\\u0441\\u0435 \\u0420\\u0424 \\u0412 \\u0434\\u0430\\u043d\\u043d\\u043e\\u0439 \\u0441\\u0442\\u0430\\u0442\\u044c\\u0435 \\u0440\\u0430\\u0441\\u0441\\u043c\\u0430\\u0442\\u0440\\u0438\\u0432\\u0430\\u044e\\u0442\\u0441\\u044f \\u043e\\u0441\\u043d\\u043e\\u0432\\u043d\\u044b\\u0435 \\u043f\\u0440\\u0438\\u0435\\u043c\\u044b \\u043c\\u0435\\u0442\\u043e\\u0434\\u0430 \\u043e\\u043f\\u0440\\u043e\\u0441\\u0430 \\u043f\\u043e\\u0442\\u0435\\u0440\\u043f\\u0435\\u0432\\u0448\\u0438\\u0445 \\u0441\\u0432\\u0438\\u0434\\u0435\\u0442\\u0435\\u043b\\u0435\\u0439 \\u0438 \\u043f\\u043e\\u0434\\u043e\\u0437\\u0440\\u0435\\u0432\\u0430\\u0435\\u043c\\u044b\\u0445 \\u0438\\u0437\\u0432\\u0435\\u0441\\u0442\\u043d\\u043e\\u0433\\u043e \\u043a\\u0430\\u043a \\u00ab\\u043f\\u0440\\u043e\\u0446\\u0435\\u0441\\u0441\\u0443\\u0430\\u043b\\u044c\\u043d\\u043e\\u0435 (\\u043a\\u043e\\u0433\\u043d\\u0438\\u0442\\u0438\\u0432\\u043d\\u043e\\u0435) \\u0438\\u043d\\u0442\\u0435\\u0440\\u0432\\u044c\\u044e\\u00bb. \\u041f\\u0440\\u043e\\u0446\\u0435\\u0441\\u0441\\u0443\\u0430\\u043b\\u044c\\u043d\\u043e\\u0435 \\u0438\\u043d\\u0442\\u0435\\u0440\\u0432\\u044c\\u044e \\u0447\\u0430\\u0441\\u0442\\u043e \\u0438\\u0441\\u043f\\u043e\\u043b\\u044c\\u0437\\u0443\\u0435\\u0442\\u0441\\u044f \\u0432 \\u0441\\u0444\\u0435\\u0440\\u0435 \\u0443\\u0433\\u043e\\u043b\\u043e\\u0432\\u043d\\u043e\\u0433\\u043e \\u043f\\u0440\\u0430\\u0432\\u043e\\u0441\\u0443\\u0434\\u0438\\u044f \\u0432 \\u0442\\u043e\\u043c \\u0447\\u0438\\u0441\\u043b\\u0435 \\u0432 \\u0434\\u0435\\u043b\\u0430\\u0445 \\u0441\\u0432\\u044f\\u0437\\u0430\\u043d\\u043d\\u044b\\u0445 \\u0441 \\u0442\\u0435\\u0440\\u0440\\u043e\\u0440\\u0438\\u0437\\u043c\\u043e\\u043c. \\u0411\\u043b\\u0430\\u0433\\u043e\\u0434\\u0430\\u0440\\u044f \\u0443\\u0441\\u0442\\u0430\\u043d\\u043e\\u0432\\u043b\\u0435\\u043d\\u0438\\u044e \\u0432\\u0437\\u0430\\u0438\\u043c\\u043e\\u043f\\u043e\\u043d\\u0438\\u043c\\u0430\\u043d\\u0438\\u044f \\u0441 \\u0440\\u0435\\u0446\\u0438\\u043f\\u0438\\u0435\\u043d\\u0442\\u043e\\u043c \\u044d\\u0442\\u043e\\u0442 \\u043f\\u043e\\u0434\\u0445\\u043e\\u0434 \\u043d\\u0435 \\u0442\\u043e\\u043b\\u044c\\u043a\\u043e \\u043f\\u0440\\u0435\\u0434\\u043e\\u0442\\u0432\\u0440\\u0430\\u0449\\u0430\\u0435\\u0442 \\u0438\\u0441\\u043f\\u043e\\u043b\\u044c\\u0437\\u043e\\u0432\\u0430\\u043d\\u0438\\u044e \\u043d\\u0430\\u0441\\u0438\\u043b\\u044c\\u0441\\u0442\\u0432\\u0435\\u043d\\u043d\\u044b\\u0445 \\u043f\\u0440\\u0430\\u043a\\u0442\\u0438\\u043a \\u043f\\u0440\\u0438 \\u0434\\u043e\\u043f\\u0440\\u043e\\u0441\\u0435 \\u043d\\u043e \\u0438 \\u0441\\u043e\\u0432\\u0435\\u0440\\u0448\\u0435\\u043d\\u0441\\u0442\\u0432\\u0443\\u0435\\u0442 \\u043f\\u0440\\u043e\\u0446\\u0435\\u0441\\u0441 \\u0441\\u0431\\u043e\\u0440\\u0430 \\u0438 \\u043d\\u0430\\u0434\\u0435\\u0436\\u043d\\u043e\\u0441\\u0442\\u044c \\u0438\\u043d\\u0444\\u043e\\u0440\\u043c\\u0430\\u0446\\u0438\\u0438. \\u041a\\u0440\\u043e\\u043c\\u0435 \\u044d\\u0442\\u043e\\u0433\\u043e \\u043e\\u043d \\u0432\\u043b\\u0438\\u044f\\u0435\\u0442 \\u043d\\u0430 \\u0432\\u043e\\u0441\\u043f\\u0440\\u0438\\u044f\\u0442\\u0438\\u0435 \\u0433\\u0440\\u0430\\u0436\\u0434\\u0430\\u043d\\u0430\\u043c\\u0438 \\u0441\\u043f\\u0440\\u0430\\u0432\\u0435\\u0434\\u043b\\u0438\\u0432\\u043e\\u0441\\u0442\\u0438 \\u0432 \\u0441\\u0444\\u0435\\u0440\\u0435 \\u043f\\u0440\\u0430\\u0432\\u043e\\u0441\\u0443\\u0434\\u0438\\u044f \\u0438 \\u0441\\u043e\\u043e\\u0442\\u0432\\u0435\\u0442\\u0441\\u0442\\u0432\\u0435\\u043d\\u043d\\u043e \\u0441\\u043f\\u043e\\u0441\\u043e\\u0431\\u0441\\u0442\\u0432\\u0443\\u0435\\u0442 \\u0440\\u0430\\u0437\\u0432\\u0438\\u0442\\u0438\\u044e \\u0434\\u043e\\u0432\\u0435\\u0440\\u0438\\u044f \\u043a \\u043e\\u0441\\u0443\\u0449\\u0435\\u0441\\u0442\\u0432\\u043b\\u0435\\u043d\\u0438\\u044e \\u043f\\u0440\\u0430\\u0432\\u043e\\u0441\\u0443\\u0434\\u0438\\u044f \\u0438 \\u043f\\u043e\\u0432\\u044b\\u0448\\u0435\\u043d\\u0438\\u044e \\u0430\\u0432\\u0442\\u043e\\u0440\\u0438\\u0442\\u0435\\u0442\\u0430 \\u0433\\u043e\\u0441\\u0443\\u0434\\u0430\\u0440\\u0441\\u0442\\u0432\\u0435\\u043d\\u043d\\u044b\\u0445 \\u043e\\u0440\\u0433\\u0430\\u043d\\u043e\\u0432\"\n        ],\n        \"semantic_type\": \"\",\n        \"description\": \"\"\n      }\n    }\n  ]\n}"
            }
          },
          "metadata": {},
          "execution_count": 40
        }
      ]
    },
    {
      "cell_type": "code",
      "source": [
        "df.to_csv('cyberleninka_states.csv', index=False)"
      ],
      "metadata": {
        "id": "vUOuXvtch5zJ"
      },
      "execution_count": null,
      "outputs": []
    },
    {
      "cell_type": "code",
      "source": [
        "df = df.dropna()\n",
        "df = df.drop_duplicates()"
      ],
      "metadata": {
        "id": "ca40h8qJJdRN"
      },
      "execution_count": null,
      "outputs": []
    },
    {
      "cell_type": "markdown",
      "source": [
        "Удалим все статьи не на английском и русском"
      ],
      "metadata": {
        "id": "fKU4fz9mF_R5"
      }
    },
    {
      "cell_type": "code",
      "source": [
        "import re\n",
        "\n",
        "\n",
        "def has_invalid_symbols(text):\n",
        "    ALLOWED_S = \"ёйцукенгшщзхъфывапролджэячсмитьбю.!$&*#@()0123456789ЁЙЦ'\\\"УКЕНГШЩЗХЪФЫВАПРОЛДЖЭЯЧСМИТЬБЮ \"\n",
        "\n",
        "    for ch in text:\n",
        "        if ch not in ALLOWED_S:\n",
        "            return False\n",
        "    return True\n",
        "\n"
      ],
      "metadata": {
        "id": "JuUAbUHxGcUp"
      },
      "execution_count": null,
      "outputs": []
    },
    {
      "cell_type": "code",
      "source": [
        "has_invalid_symbols('Использование оригинальной схемы организации генетического алгоритма для повышения эффективности решения задач целочисленной оптимизации')"
      ],
      "metadata": {
        "colab": {
          "base_uri": "https://localhost:8080/"
        },
        "id": "DS0GwZr7McXp",
        "outputId": "442b97bd-53e7-4f2e-8146-a597b6e51b4c"
      },
      "execution_count": null,
      "outputs": [
        {
          "output_type": "execute_result",
          "data": {
            "text/plain": [
              "True"
            ]
          },
          "metadata": {},
          "execution_count": 44
        }
      ]
    },
    {
      "cell_type": "code",
      "source": [
        "df['Allowed'] = df['title'].apply(lambda x: has_invalid_symbols(x))"
      ],
      "metadata": {
        "id": "qSFcSbM-IXQf"
      },
      "execution_count": null,
      "outputs": []
    },
    {
      "cell_type": "code",
      "source": [
        "df.groupby('Allowed')['Allowed'].value_counts()"
      ],
      "metadata": {
        "colab": {
          "base_uri": "https://localhost:8080/",
          "height": 178
        },
        "id": "egni6DkIJklf",
        "outputId": "1cbb1785-67a8-4af1-e40d-70fa7dace88e"
      },
      "execution_count": null,
      "outputs": [
        {
          "output_type": "execute_result",
          "data": {
            "text/plain": [
              "Allowed\n",
              "False    3358\n",
              "True     5586\n",
              "Name: count, dtype: int64"
            ],
            "text/html": [
              "<div>\n",
              "<style scoped>\n",
              "    .dataframe tbody tr th:only-of-type {\n",
              "        vertical-align: middle;\n",
              "    }\n",
              "\n",
              "    .dataframe tbody tr th {\n",
              "        vertical-align: top;\n",
              "    }\n",
              "\n",
              "    .dataframe thead th {\n",
              "        text-align: right;\n",
              "    }\n",
              "</style>\n",
              "<table border=\"1\" class=\"dataframe\">\n",
              "  <thead>\n",
              "    <tr style=\"text-align: right;\">\n",
              "      <th></th>\n",
              "      <th>count</th>\n",
              "    </tr>\n",
              "    <tr>\n",
              "      <th>Allowed</th>\n",
              "      <th></th>\n",
              "    </tr>\n",
              "  </thead>\n",
              "  <tbody>\n",
              "    <tr>\n",
              "      <th>False</th>\n",
              "      <td>3358</td>\n",
              "    </tr>\n",
              "    <tr>\n",
              "      <th>True</th>\n",
              "      <td>5586</td>\n",
              "    </tr>\n",
              "  </tbody>\n",
              "</table>\n",
              "</div><br><label><b>dtype:</b> int64</label>"
            ]
          },
          "metadata": {},
          "execution_count": 46
        }
      ]
    },
    {
      "cell_type": "code",
      "source": [
        "df = df[df['Allowed']]"
      ],
      "metadata": {
        "id": "B0VKUVzyKM1k"
      },
      "execution_count": null,
      "outputs": []
    },
    {
      "cell_type": "code",
      "source": [
        "df"
      ],
      "metadata": {
        "colab": {
          "base_uri": "https://localhost:8080/",
          "height": 874
        },
        "id": "gCvLEPgRKPea",
        "outputId": "6e349f26-7d63-4a18-d37e-cf8f7ce792bf"
      },
      "execution_count": null,
      "outputs": [
        {
          "output_type": "execute_result",
          "data": {
            "text/plain": [
              "                                                 title  \\\n",
              "0    Измерение намагниченности магнитной жидкости м...   \n",
              "2    Статистика межрегиональных различий и состояни...   \n",
              "4    Автоматические регуляторы напряжения синхронны...   \n",
              "5    Энерготехнологическое прогнозирование структур...   \n",
              "7    Совершенствование устройств для предварительно...   \n",
              "..                                                 ...   \n",
              "225  ИМУЩЕСТВО ПОЛУЧЕННОЕ В ПОЛЬЗОВАНИЕ. ЗАБАЛАНСОВ...   \n",
              "226  КРИТЕРИИ ПРИ ПРИНЯТИИ ИНВЕСТИЦИОННЫХ РЕШЕНИЙ П...   \n",
              "227  БЮДЖЕТИРОВАНИЕ КАК ИНСТРУМЕНТ УПРАВЛЕНИЯ ПРЕДП...   \n",
              "228  ОСОБЕННОСТИ ОРГАНИЗАЦИИ УПРАВЛЕНИЯ НА ПРЕДПРИЯТИИ   \n",
              "231   РАЗВИТИЕ ВНЕШНЕЙ ТОРГОВЛИ РОССИИ СО СТРАНАМИ СНГ   \n",
              "\n",
              "                                                  link  \\\n",
              "0    https://cyberleninka.ru/article/n/izmerenie-na...   \n",
              "2    https://cyberleninka.ru/article/n/statistika-m...   \n",
              "4    https://cyberleninka.ru/article/n/avtomatiches...   \n",
              "5    https://cyberleninka.ru/article/n/energotehnol...   \n",
              "7    https://cyberleninka.ru/article/n/sovershenstv...   \n",
              "..                                                 ...   \n",
              "225  https://cyberleninka.ru/article/n/imuschestvo-...   \n",
              "226  https://cyberleninka.ru/article/n/kriterii-pri...   \n",
              "227  https://cyberleninka.ru/article/n/byudzhetirov...   \n",
              "228  https://cyberleninka.ru/article/n/osobennosti-...   \n",
              "231  https://cyberleninka.ru/article/n/razvitie-vne...   \n",
              "\n",
              "                                                  desc                 Topic  \\\n",
              "0    В работе для измерения намагниченности магнитн...  electricity_and_info   \n",
              "2    Цель исследования повышение показателей качест...  electricity_and_info   \n",
              "4    В статье проведён анализ существующих схем мет...  electricity_and_info   \n",
              "5    В статье рассмотрено энерготехнологическое про...  electricity_and_info   \n",
              "7    Целью работы является создание малоэнергоемкой...  electricity_and_info   \n",
              "..                                                 ...                   ...   \n",
              "225  В данной статье рассмотрены теоретические осно...               economy   \n",
              "226  В статье рассматриваются и обосновываются крит...               economy   \n",
              "227  Исследована сущность понятия &#34;бюджетирован...               economy   \n",
              "228  В данной статье выявляется актуальность данног...               economy   \n",
              "231  В данной статье рассмотрены структура и динами...               economy   \n",
              "\n",
              "                                              FullText  Allowed  \n",
              "0    Измерение намагниченности магнитной жидкости м...     True  \n",
              "2    Статистика межрегиональных различий и состояни...     True  \n",
              "4    Автоматические регуляторы напряжения синхронны...     True  \n",
              "5    Энерготехнологическое прогнозирование структур...     True  \n",
              "7    Совершенствование устройств для предварительно...     True  \n",
              "..                                                 ...      ...  \n",
              "225  ИМУЩЕСТВО ПОЛУЧЕННОЕ В ПОЛЬЗОВАНИЕ. ЗАБАЛАНСОВ...     True  \n",
              "226  КРИТЕРИИ ПРИ ПРИНЯТИИ ИНВЕСТИЦИОННЫХ РЕШЕНИЙ П...     True  \n",
              "227  БЮДЖЕТИРОВАНИЕ КАК ИНСТРУМЕНТ УПРАВЛЕНИЯ ПРЕДП...     True  \n",
              "228  ОСОБЕННОСТИ ОРГАНИЗАЦИИ УПРАВЛЕНИЯ НА ПРЕДПРИЯ...     True  \n",
              "231  РАЗВИТИЕ ВНЕШНЕЙ ТОРГОВЛИ РОССИИ СО СТРАНАМИ С...     True  \n",
              "\n",
              "[5586 rows x 6 columns]"
            ],
            "text/html": [
              "\n",
              "  <div id=\"df-5d07378d-3c5a-4deb-9c5a-bb7082e1bc1d\" class=\"colab-df-container\">\n",
              "    <div>\n",
              "<style scoped>\n",
              "    .dataframe tbody tr th:only-of-type {\n",
              "        vertical-align: middle;\n",
              "    }\n",
              "\n",
              "    .dataframe tbody tr th {\n",
              "        vertical-align: top;\n",
              "    }\n",
              "\n",
              "    .dataframe thead th {\n",
              "        text-align: right;\n",
              "    }\n",
              "</style>\n",
              "<table border=\"1\" class=\"dataframe\">\n",
              "  <thead>\n",
              "    <tr style=\"text-align: right;\">\n",
              "      <th></th>\n",
              "      <th>title</th>\n",
              "      <th>link</th>\n",
              "      <th>desc</th>\n",
              "      <th>Topic</th>\n",
              "      <th>FullText</th>\n",
              "      <th>Allowed</th>\n",
              "    </tr>\n",
              "  </thead>\n",
              "  <tbody>\n",
              "    <tr>\n",
              "      <th>0</th>\n",
              "      <td>Измерение намагниченности магнитной жидкости м...</td>\n",
              "      <td>https://cyberleninka.ru/article/n/izmerenie-na...</td>\n",
              "      <td>В работе для измерения намагниченности магнитн...</td>\n",
              "      <td>electricity_and_info</td>\n",
              "      <td>Измерение намагниченности магнитной жидкости м...</td>\n",
              "      <td>True</td>\n",
              "    </tr>\n",
              "    <tr>\n",
              "      <th>2</th>\n",
              "      <td>Статистика межрегиональных различий и состояни...</td>\n",
              "      <td>https://cyberleninka.ru/article/n/statistika-m...</td>\n",
              "      <td>Цель исследования повышение показателей качест...</td>\n",
              "      <td>electricity_and_info</td>\n",
              "      <td>Статистика межрегиональных различий и состояни...</td>\n",
              "      <td>True</td>\n",
              "    </tr>\n",
              "    <tr>\n",
              "      <th>4</th>\n",
              "      <td>Автоматические регуляторы напряжения синхронны...</td>\n",
              "      <td>https://cyberleninka.ru/article/n/avtomatiches...</td>\n",
              "      <td>В статье проведён анализ существующих схем мет...</td>\n",
              "      <td>electricity_and_info</td>\n",
              "      <td>Автоматические регуляторы напряжения синхронны...</td>\n",
              "      <td>True</td>\n",
              "    </tr>\n",
              "    <tr>\n",
              "      <th>5</th>\n",
              "      <td>Энерготехнологическое прогнозирование структур...</td>\n",
              "      <td>https://cyberleninka.ru/article/n/energotehnol...</td>\n",
              "      <td>В статье рассмотрено энерготехнологическое про...</td>\n",
              "      <td>electricity_and_info</td>\n",
              "      <td>Энерготехнологическое прогнозирование структур...</td>\n",
              "      <td>True</td>\n",
              "    </tr>\n",
              "    <tr>\n",
              "      <th>7</th>\n",
              "      <td>Совершенствование устройств для предварительно...</td>\n",
              "      <td>https://cyberleninka.ru/article/n/sovershenstv...</td>\n",
              "      <td>Целью работы является создание малоэнергоемкой...</td>\n",
              "      <td>electricity_and_info</td>\n",
              "      <td>Совершенствование устройств для предварительно...</td>\n",
              "      <td>True</td>\n",
              "    </tr>\n",
              "    <tr>\n",
              "      <th>...</th>\n",
              "      <td>...</td>\n",
              "      <td>...</td>\n",
              "      <td>...</td>\n",
              "      <td>...</td>\n",
              "      <td>...</td>\n",
              "      <td>...</td>\n",
              "    </tr>\n",
              "    <tr>\n",
              "      <th>225</th>\n",
              "      <td>ИМУЩЕСТВО ПОЛУЧЕННОЕ В ПОЛЬЗОВАНИЕ. ЗАБАЛАНСОВ...</td>\n",
              "      <td>https://cyberleninka.ru/article/n/imuschestvo-...</td>\n",
              "      <td>В данной статье рассмотрены теоретические осно...</td>\n",
              "      <td>economy</td>\n",
              "      <td>ИМУЩЕСТВО ПОЛУЧЕННОЕ В ПОЛЬЗОВАНИЕ. ЗАБАЛАНСОВ...</td>\n",
              "      <td>True</td>\n",
              "    </tr>\n",
              "    <tr>\n",
              "      <th>226</th>\n",
              "      <td>КРИТЕРИИ ПРИ ПРИНЯТИИ ИНВЕСТИЦИОННЫХ РЕШЕНИЙ П...</td>\n",
              "      <td>https://cyberleninka.ru/article/n/kriterii-pri...</td>\n",
              "      <td>В статье рассматриваются и обосновываются крит...</td>\n",
              "      <td>economy</td>\n",
              "      <td>КРИТЕРИИ ПРИ ПРИНЯТИИ ИНВЕСТИЦИОННЫХ РЕШЕНИЙ П...</td>\n",
              "      <td>True</td>\n",
              "    </tr>\n",
              "    <tr>\n",
              "      <th>227</th>\n",
              "      <td>БЮДЖЕТИРОВАНИЕ КАК ИНСТРУМЕНТ УПРАВЛЕНИЯ ПРЕДП...</td>\n",
              "      <td>https://cyberleninka.ru/article/n/byudzhetirov...</td>\n",
              "      <td>Исследована сущность понятия &amp;#34;бюджетирован...</td>\n",
              "      <td>economy</td>\n",
              "      <td>БЮДЖЕТИРОВАНИЕ КАК ИНСТРУМЕНТ УПРАВЛЕНИЯ ПРЕДП...</td>\n",
              "      <td>True</td>\n",
              "    </tr>\n",
              "    <tr>\n",
              "      <th>228</th>\n",
              "      <td>ОСОБЕННОСТИ ОРГАНИЗАЦИИ УПРАВЛЕНИЯ НА ПРЕДПРИЯТИИ</td>\n",
              "      <td>https://cyberleninka.ru/article/n/osobennosti-...</td>\n",
              "      <td>В данной статье выявляется актуальность данног...</td>\n",
              "      <td>economy</td>\n",
              "      <td>ОСОБЕННОСТИ ОРГАНИЗАЦИИ УПРАВЛЕНИЯ НА ПРЕДПРИЯ...</td>\n",
              "      <td>True</td>\n",
              "    </tr>\n",
              "    <tr>\n",
              "      <th>231</th>\n",
              "      <td>РАЗВИТИЕ ВНЕШНЕЙ ТОРГОВЛИ РОССИИ СО СТРАНАМИ СНГ</td>\n",
              "      <td>https://cyberleninka.ru/article/n/razvitie-vne...</td>\n",
              "      <td>В данной статье рассмотрены структура и динами...</td>\n",
              "      <td>economy</td>\n",
              "      <td>РАЗВИТИЕ ВНЕШНЕЙ ТОРГОВЛИ РОССИИ СО СТРАНАМИ С...</td>\n",
              "      <td>True</td>\n",
              "    </tr>\n",
              "  </tbody>\n",
              "</table>\n",
              "<p>5586 rows × 6 columns</p>\n",
              "</div>\n",
              "    <div class=\"colab-df-buttons\">\n",
              "\n",
              "  <div class=\"colab-df-container\">\n",
              "    <button class=\"colab-df-convert\" onclick=\"convertToInteractive('df-5d07378d-3c5a-4deb-9c5a-bb7082e1bc1d')\"\n",
              "            title=\"Convert this dataframe to an interactive table.\"\n",
              "            style=\"display:none;\">\n",
              "\n",
              "  <svg xmlns=\"http://www.w3.org/2000/svg\" height=\"24px\" viewBox=\"0 -960 960 960\">\n",
              "    <path d=\"M120-120v-720h720v720H120Zm60-500h600v-160H180v160Zm220 220h160v-160H400v160Zm0 220h160v-160H400v160ZM180-400h160v-160H180v160Zm440 0h160v-160H620v160ZM180-180h160v-160H180v160Zm440 0h160v-160H620v160Z\"/>\n",
              "  </svg>\n",
              "    </button>\n",
              "\n",
              "  <style>\n",
              "    .colab-df-container {\n",
              "      display:flex;\n",
              "      gap: 12px;\n",
              "    }\n",
              "\n",
              "    .colab-df-convert {\n",
              "      background-color: #E8F0FE;\n",
              "      border: none;\n",
              "      border-radius: 50%;\n",
              "      cursor: pointer;\n",
              "      display: none;\n",
              "      fill: #1967D2;\n",
              "      height: 32px;\n",
              "      padding: 0 0 0 0;\n",
              "      width: 32px;\n",
              "    }\n",
              "\n",
              "    .colab-df-convert:hover {\n",
              "      background-color: #E2EBFA;\n",
              "      box-shadow: 0px 1px 2px rgba(60, 64, 67, 0.3), 0px 1px 3px 1px rgba(60, 64, 67, 0.15);\n",
              "      fill: #174EA6;\n",
              "    }\n",
              "\n",
              "    .colab-df-buttons div {\n",
              "      margin-bottom: 4px;\n",
              "    }\n",
              "\n",
              "    [theme=dark] .colab-df-convert {\n",
              "      background-color: #3B4455;\n",
              "      fill: #D2E3FC;\n",
              "    }\n",
              "\n",
              "    [theme=dark] .colab-df-convert:hover {\n",
              "      background-color: #434B5C;\n",
              "      box-shadow: 0px 1px 3px 1px rgba(0, 0, 0, 0.15);\n",
              "      filter: drop-shadow(0px 1px 2px rgba(0, 0, 0, 0.3));\n",
              "      fill: #FFFFFF;\n",
              "    }\n",
              "  </style>\n",
              "\n",
              "    <script>\n",
              "      const buttonEl =\n",
              "        document.querySelector('#df-5d07378d-3c5a-4deb-9c5a-bb7082e1bc1d button.colab-df-convert');\n",
              "      buttonEl.style.display =\n",
              "        google.colab.kernel.accessAllowed ? 'block' : 'none';\n",
              "\n",
              "      async function convertToInteractive(key) {\n",
              "        const element = document.querySelector('#df-5d07378d-3c5a-4deb-9c5a-bb7082e1bc1d');\n",
              "        const dataTable =\n",
              "          await google.colab.kernel.invokeFunction('convertToInteractive',\n",
              "                                                    [key], {});\n",
              "        if (!dataTable) return;\n",
              "\n",
              "        const docLinkHtml = 'Like what you see? Visit the ' +\n",
              "          '<a target=\"_blank\" href=https://colab.research.google.com/notebooks/data_table.ipynb>data table notebook</a>'\n",
              "          + ' to learn more about interactive tables.';\n",
              "        element.innerHTML = '';\n",
              "        dataTable['output_type'] = 'display_data';\n",
              "        await google.colab.output.renderOutput(dataTable, element);\n",
              "        const docLink = document.createElement('div');\n",
              "        docLink.innerHTML = docLinkHtml;\n",
              "        element.appendChild(docLink);\n",
              "      }\n",
              "    </script>\n",
              "  </div>\n",
              "\n",
              "\n",
              "<div id=\"df-25fa3997-9428-4377-bc50-654bb2ece845\">\n",
              "  <button class=\"colab-df-quickchart\" onclick=\"quickchart('df-25fa3997-9428-4377-bc50-654bb2ece845')\"\n",
              "            title=\"Suggest charts\"\n",
              "            style=\"display:none;\">\n",
              "\n",
              "<svg xmlns=\"http://www.w3.org/2000/svg\" height=\"24px\"viewBox=\"0 0 24 24\"\n",
              "     width=\"24px\">\n",
              "    <g>\n",
              "        <path d=\"M19 3H5c-1.1 0-2 .9-2 2v14c0 1.1.9 2 2 2h14c1.1 0 2-.9 2-2V5c0-1.1-.9-2-2-2zM9 17H7v-7h2v7zm4 0h-2V7h2v10zm4 0h-2v-4h2v4z\"/>\n",
              "    </g>\n",
              "</svg>\n",
              "  </button>\n",
              "\n",
              "<style>\n",
              "  .colab-df-quickchart {\n",
              "      --bg-color: #E8F0FE;\n",
              "      --fill-color: #1967D2;\n",
              "      --hover-bg-color: #E2EBFA;\n",
              "      --hover-fill-color: #174EA6;\n",
              "      --disabled-fill-color: #AAA;\n",
              "      --disabled-bg-color: #DDD;\n",
              "  }\n",
              "\n",
              "  [theme=dark] .colab-df-quickchart {\n",
              "      --bg-color: #3B4455;\n",
              "      --fill-color: #D2E3FC;\n",
              "      --hover-bg-color: #434B5C;\n",
              "      --hover-fill-color: #FFFFFF;\n",
              "      --disabled-bg-color: #3B4455;\n",
              "      --disabled-fill-color: #666;\n",
              "  }\n",
              "\n",
              "  .colab-df-quickchart {\n",
              "    background-color: var(--bg-color);\n",
              "    border: none;\n",
              "    border-radius: 50%;\n",
              "    cursor: pointer;\n",
              "    display: none;\n",
              "    fill: var(--fill-color);\n",
              "    height: 32px;\n",
              "    padding: 0;\n",
              "    width: 32px;\n",
              "  }\n",
              "\n",
              "  .colab-df-quickchart:hover {\n",
              "    background-color: var(--hover-bg-color);\n",
              "    box-shadow: 0 1px 2px rgba(60, 64, 67, 0.3), 0 1px 3px 1px rgba(60, 64, 67, 0.15);\n",
              "    fill: var(--button-hover-fill-color);\n",
              "  }\n",
              "\n",
              "  .colab-df-quickchart-complete:disabled,\n",
              "  .colab-df-quickchart-complete:disabled:hover {\n",
              "    background-color: var(--disabled-bg-color);\n",
              "    fill: var(--disabled-fill-color);\n",
              "    box-shadow: none;\n",
              "  }\n",
              "\n",
              "  .colab-df-spinner {\n",
              "    border: 2px solid var(--fill-color);\n",
              "    border-color: transparent;\n",
              "    border-bottom-color: var(--fill-color);\n",
              "    animation:\n",
              "      spin 1s steps(1) infinite;\n",
              "  }\n",
              "\n",
              "  @keyframes spin {\n",
              "    0% {\n",
              "      border-color: transparent;\n",
              "      border-bottom-color: var(--fill-color);\n",
              "      border-left-color: var(--fill-color);\n",
              "    }\n",
              "    20% {\n",
              "      border-color: transparent;\n",
              "      border-left-color: var(--fill-color);\n",
              "      border-top-color: var(--fill-color);\n",
              "    }\n",
              "    30% {\n",
              "      border-color: transparent;\n",
              "      border-left-color: var(--fill-color);\n",
              "      border-top-color: var(--fill-color);\n",
              "      border-right-color: var(--fill-color);\n",
              "    }\n",
              "    40% {\n",
              "      border-color: transparent;\n",
              "      border-right-color: var(--fill-color);\n",
              "      border-top-color: var(--fill-color);\n",
              "    }\n",
              "    60% {\n",
              "      border-color: transparent;\n",
              "      border-right-color: var(--fill-color);\n",
              "    }\n",
              "    80% {\n",
              "      border-color: transparent;\n",
              "      border-right-color: var(--fill-color);\n",
              "      border-bottom-color: var(--fill-color);\n",
              "    }\n",
              "    90% {\n",
              "      border-color: transparent;\n",
              "      border-bottom-color: var(--fill-color);\n",
              "    }\n",
              "  }\n",
              "</style>\n",
              "\n",
              "  <script>\n",
              "    async function quickchart(key) {\n",
              "      const quickchartButtonEl =\n",
              "        document.querySelector('#' + key + ' button');\n",
              "      quickchartButtonEl.disabled = true;  // To prevent multiple clicks.\n",
              "      quickchartButtonEl.classList.add('colab-df-spinner');\n",
              "      try {\n",
              "        const charts = await google.colab.kernel.invokeFunction(\n",
              "            'suggestCharts', [key], {});\n",
              "      } catch (error) {\n",
              "        console.error('Error during call to suggestCharts:', error);\n",
              "      }\n",
              "      quickchartButtonEl.classList.remove('colab-df-spinner');\n",
              "      quickchartButtonEl.classList.add('colab-df-quickchart-complete');\n",
              "    }\n",
              "    (() => {\n",
              "      let quickchartButtonEl =\n",
              "        document.querySelector('#df-25fa3997-9428-4377-bc50-654bb2ece845 button');\n",
              "      quickchartButtonEl.style.display =\n",
              "        google.colab.kernel.accessAllowed ? 'block' : 'none';\n",
              "    })();\n",
              "  </script>\n",
              "</div>\n",
              "    </div>\n",
              "  </div>\n"
            ],
            "application/vnd.google.colaboratory.intrinsic+json": {
              "type": "dataframe",
              "variable_name": "df",
              "summary": "{\n  \"name\": \"df\",\n  \"rows\": 5586,\n  \"fields\": [\n    {\n      \"column\": \"title\",\n      \"properties\": {\n        \"dtype\": \"string\",\n        \"num_unique_values\": 5579,\n        \"samples\": [\n          \"\\u0418\\u0441\\u0441\\u043b\\u0435\\u0434\\u043e\\u0432\\u0430\\u043d\\u0438\\u0435 \\u0438 \\u043c\\u043e\\u0434\\u0435\\u043b\\u0438\\u0440\\u043e\\u0432\\u0430\\u043d\\u0438\\u0435 \\u043a\\u043e\\u043d\\u0432\\u0435\\u0439\\u0435\\u0440\\u043d\\u044b\\u0445 \\u0430\\u043b\\u0433\\u043e\\u0440\\u0438\\u0442\\u043c\\u043e\\u0432 \\u0440\\u0430\\u0441\\u0447\\u0435\\u0442\\u0430 \\u0444\\u0430\\u0437\\u044b \\u043f\\u043e \\u043a\\u0432\\u0430\\u0434\\u0440\\u0430\\u0442\\u0443\\u0440\\u0430\\u043c\",\n          \"\\u041f\\u043e\\u0434\\u0445\\u043e\\u0434\\u044b \\u043a \\u0441\\u043e\\u0432\\u0435\\u0440\\u0448\\u0435\\u043d\\u0441\\u0442\\u0432\\u043e\\u0432\\u0430\\u043d\\u0438\\u044e \\u0442\\u0435\\u043b\\u0435\\u043a\\u043e\\u0434\\u043e\\u0432\\u043e\\u0439 \\u0430\\u043f\\u043f\\u0430\\u0440\\u0430\\u0442\\u0443\\u0440\\u044b \\u0441\\u0432\\u044f\\u0437\\u0438 \\u0434\\u043b\\u044f \\u043e\\u0431\\u043c\\u0435\\u043d\\u0430 \\u0434\\u0430\\u043d\\u043d\\u044b\\u043c\\u0438 \\u0441 \\u0430\\u0432\\u0438\\u0430\\u0446\\u0438\\u043e\\u043d\\u043d\\u044b\\u043c\\u0438 \\u043a\\u043e\\u043c\\u043f\\u043b\\u0435\\u043a\\u0441\\u0430\\u043c\\u0438\",\n          \"\\u0423\\u0421\\u0422\\u0420\\u041e\\u0419\\u0421\\u0422\\u0412\\u0410 \\u041a\\u041e\\u041d\\u0422\\u0420\\u041e\\u041b\\u042f \\u041f\\u0410\\u0420\\u0410\\u041c\\u0415\\u0422\\u0420\\u041e\\u0412 \\u0410\\u0412\\u0422\\u041e\\u041c\\u0410\\u0422\\u0418\\u0427\\u0415\\u0421\\u041a\\u041e\\u0419 \\u041b\\u041e\\u041a\\u041e\\u041c\\u041e\\u0422\\u0418\\u0412\\u041d\\u041e\\u0419 \\u0421\\u0418\\u0413\\u041d\\u0410\\u041b\\u0418\\u0417\\u0410\\u0426\\u0418\\u0418 \\u041d\\u0410 \\u0411\\u0410\\u0417\\u0415 \\u041c\\u0418\\u041a\\u0420\\u041e\\u041f\\u0420\\u041e\\u0426\\u0415\\u0421\\u0421\\u041e\\u0420\\u041d\\u042b\\u0425 \\u042d\\u041b\\u0415\\u041c\\u0415\\u041d\\u0422\\u041e\\u0412\"\n        ],\n        \"semantic_type\": \"\",\n        \"description\": \"\"\n      }\n    },\n    {\n      \"column\": \"link\",\n      \"properties\": {\n        \"dtype\": \"string\",\n        \"num_unique_values\": 5586,\n        \"samples\": [\n          \"https://cyberleninka.ru/article/n/issledovanie-dzhouleva-razogreva-oksida-alyuminiya-v-protsesse-elektrohimicheskogo-anodirovaniya\",\n          \"https://cyberleninka.ru/article/n/povyshenie-bezopasnosti-dvizheniya-poezdov-v-metropolitene-pri-neopredelennosti-informatsii-o-funktsionalnyh-otkazah-otdelnyh\",\n          \"https://cyberleninka.ru/article/n/parametricheskaya-robotizirovannaya-sistema-poiska-min-na-osnove-vzaimodeystviya-elektromagnitnyh-i-seysmicheskih-voln\"\n        ],\n        \"semantic_type\": \"\",\n        \"description\": \"\"\n      }\n    },\n    {\n      \"column\": \"desc\",\n      \"properties\": {\n        \"dtype\": \"string\",\n        \"num_unique_values\": 5581,\n        \"samples\": [\n          \"\\u0412 \\u0440\\u0430\\u043c\\u043a\\u0430\\u0445 \\u0440\\u0430\\u0437\\u0440\\u0430\\u0431\\u043e\\u0442\\u043a\\u0438 \\u043e\\u0442\\u0435\\u0447\\u0435\\u0441\\u0442\\u0432\\u0435\\u043d\\u043d\\u044b\\u0445 \\u0421\\u0410\\u041f\\u0420 \\u0434\\u043b\\u044f \\u0432\\u0435\\u0440\\u0438\\u0444\\u0438\\u043a\\u0430\\u0446\\u0438\\u0438 \\u043d\\u043e\\u0440\\u043c \\u043a\\u043e\\u043d\\u0441\\u0442\\u0440\\u0443\\u043a\\u0442\\u043e\\u0440\\u0441\\u043a\\u043e\\u0442\\u0435\\u0445\\u043d\\u043e\\u043b\\u043e\\u0433\\u0438\\u0447\\u0435\\u0441\\u043a\\u0438\\u0445 \\u043e\\u0433\\u0440\\u0430\\u043d\\u0438\\u0447\\u0435\\u043d\\u0438\\u0439 (\\u041a\\u0422\\u041e) \\u043d\\u0435\\u043e\\u0431\\u0445\\u043e\\u0434\\u0438\\u043c\\u0430 \\u0440\\u0430\\u0437\\u0440\\u0430\\u0431\\u043e\\u0442\\u043a\\u0430 \\u0431\\u0438\\u0431\\u043b\\u0438\\u043e\\u0442\\u0435\\u043a\\u0438 \\u0432\\u044b\\u043f\\u043e\\u043b\\u043d\\u0435\\u043d\\u0438\\u044f \\u043b\\u043e\\u0433\\u0438\\u0447\\u0435\\u0441\\u043a\\u0438\\u0445 \\u043e\\u043f\\u0435\\u0440\\u0430\\u0446\\u0438\\u0439 \\u043d\\u0430\\u0434 \\u043e\\u0440\\u0442\\u043e\\u0433\\u043e\\u043d\\u0430\\u043b\\u044c\\u043d\\u044b\\u043c\\u0438 \\u043c\\u043d\\u043e\\u0433\\u043e\\u0443\\u0433\\u043e\\u043b\\u044c\\u043d\\u0438\\u043a\\u0430\\u043c\\u0438 \\u0441\\u043e\\u0441\\u0442\\u0430\\u0432\\u043b\\u044f\\u044e\\u0449\\u0438\\u043c\\u0438 \\u0442\\u043e\\u043f\\u043e\\u043b\\u043e\\u0433\\u0438\\u044e \\u0438\\u043d\\u0442\\u0435\\u0433\\u0440\\u0430\\u043b\\u044c\\u043d\\u043e\\u0439 \\u0441\\u0445\\u0435\\u043c\\u044b \\u0444\\u0443\\u043d\\u043a\\u0446\\u0438\\u0438 \\u0431\\u0438\\u0431\\u043b\\u0438\\u043e\\u0442\\u0435\\u043a\\u0438 \\u0432\\u044b\\u043f\\u043e\\u043b\\u043d\\u044f\\u044e\\u0442 \\u043e\\u043f\\u0435\\u0440\\u0430\\u0446\\u0438\\u0438 \\u043d\\u0430\\u0434 \\u0441\\u043b\\u043e\\u044f\\u043c\\u0438. \\u041f\\u043e\\u0434 \\u0441\\u043b\\u043e\\u0435\\u043c \\u043f\\u043e\\u043d\\u0438\\u043c\\u0430\\u0435\\u0442\\u0441\\u044f \\u043c\\u043d\\u043e\\u0436\\u0435\\u0441\\u0442\\u0432\\u043e \\u043e\\u0440\\u0442\\u043e\\u0433\\u043e\\u043d\\u0430\\u043b\\u044c\\u043d\\u044b\\u0445 \\u043f\\u0440\\u044f\\u043c\\u043e\\u0443\\u0433\\u043e\\u043b\\u044c\\u043d\\u0438\\u043a\\u043e\\u0432 (\\u043f\\u043e\\u043b\\u0438\\u0433\\u043e\\u043d\\u043e\\u0432). \\u041a \\u044d\\u0442\\u0438\\u043c \\u043e\\u043f\\u0435\\u0440\\u0430\\u0446\\u0438\\u044f\\u043c \\u043f\\u0440\\u0435\\u0434\\u044a\\u044f\\u0432\\u043b\\u044f\\u044e\\u0442\\u0441\\u044f \\u0436\\u0435\\u0441\\u0442\\u043a\\u0438\\u0435 \\u0442\\u0440\\u0435\\u0431\\u043e\\u0432\\u0430\\u043d\\u0438\\u044f \\u043f\\u043e \\u0432\\u0440\\u0435\\u043c\\u0435\\u043d\\u0438 \\u0432\\u044b\\u043f\\u043e\\u043b\\u043d\\u0435\\u043d\\u0438\\u044f. \\u0421\\u0443\\u0449\\u0435\\u0441\\u0442\\u0432\\u0443\\u0435\\u0442 \\u0440\\u0435\\u0430\\u043b\\u0438\\u0437\\u0430\\u0446\\u0438\\u044f \\u043f\\u043e\\u0441\\u0442\\u0440\\u043e\\u0435\\u043d\\u043d\\u0430\\u044f \\u043d\\u0430 \\u043e\\u0441\\u043d\\u043e\\u0432\\u0435 \\u0430\\u043b\\u0433\\u043e\\u0440\\u0438\\u0442\\u043c\\u0430 \\u0437\\u0430\\u043c\\u0435\\u0442\\u0430\\u044e\\u0449\\u0435\\u0439 \\u043f\\u0440\\u044f\\u043c\\u043e\\u0439 \\u0438 \\u043f\\u043e\\u0437\\u0432\\u043e\\u043b\\u044f\\u044e\\u0449\\u0430\\u044f \\u0434\\u043e\\u0431\\u0438\\u0442\\u044c\\u0441\\u044f \\u0432\\u0440\\u0435\\u043c\\u0435\\u043d\\u0438 \\u0440\\u0430\\u0431\\u043e\\u0442\\u044b \\u0430\\u043b\\u0433\\u043e\\u0440\\u0438\\u0442\\u043c\\u0430 \\u043f\\u043e\\u0440\\u044f\\u0434\\u043a\\u0430 O(NlogN). \\u0414\\u043b\\u044f \\u044d\\u0444\\u0444\\u0435\\u043a\\u0442\\u0438\\u0432\\u043d\\u043e\\u0433\\u043e \\u0444\\u0443\\u043d\\u043a\\u0446\\u0438\\u043e\\u043d\\u0438\\u0440\\u043e\\u0432\\u0430\\u043d\\u0438\\u044f \\u0432 \\u0432\\u044b\\u0441\\u043e\\u043a\\u043e\\u043f\\u0440\\u043e\\u0438\\u0437\\u0432\\u043e\\u0434\\u0438\\u0442\\u0435\\u043b\\u044c\\u043d\\u043e\\u0439 \\u0432\\u044b\\u0447\\u0438\\u0441\\u043b\\u0438\\u0442\\u0435\\u043b\\u044c\\u043d\\u043e\\u0439 \\u0441\\u0440\\u0435\\u0434\\u0435 \\u0440\\u0430\\u0437\\u0440\\u0430\\u0431\\u043e\\u0442\\u0430\\u043d\\u0430 \\u043f\\u0430\\u0440\\u0430\\u043b\\u043b\\u0435\\u043b\\u044c\\u043d\\u0430\\u044f \\u0440\\u0435\\u0430\\u043b\\u0438\\u0437\\u0430\\u0446\\u0438\\u044f \\u043e\\u0441\\u043d\\u043e\\u0432\\u0430\\u043d\\u043d\\u0430\\u044f \\u043d\\u0430 \\u0433\\u0435\\u043e\\u043c\\u0435\\u0442\\u0440\\u0438\\u0447\\u0435\\u0441\\u043a\\u043e\\u0439 \\u0434\\u0435\\u043a\\u043e\\u043c\\u043f\\u043e\\u0437\\u0438\\u0446\\u0438\\u0438 \\u0438\\u0441\\u0445\\u043e\\u0434\\u043d\\u044b\\u0445 \\u0434\\u0430\\u043d\\u043d\\u044b\\u0445. \\u041f\\u0440\\u043e\\u0432\\u0435\\u0434\\u0435\\u043d\\u043d\\u043e\\u0435 \\u0442\\u0435\\u043e\\u0440\\u0435\\u0442\\u0438\\u0447\\u0435\\u0441\\u043a\\u043e\\u0435 \\u0438\\u0441\\u0441\\u043b\\u0435\\u0434\\u043e\\u0432\\u0430\\u043d\\u0438\\u0435 \\u043f\\u043e\\u043a\\u0430\\u0437\\u0430\\u043b\\u043e \\u043b\\u0438\\u043d\\u0435\\u0439\\u043d\\u0443\\u044e \\u043c\\u0430\\u0441\\u0448\\u0442\\u0430\\u0431\\u0438\\u0440\\u043e\\u0432\\u0430\\u043d\\u043d\\u043e\\u0441\\u0442\\u044c \\u0434\\u0430\\u043d\\u043d\\u043e\\u0439 \\u0440\\u0435\\u0430\\u043b\\u0438\\u0437\\u0430\\u0446\\u0438\\u0438 \\u043d\\u0430 \\u0441\\u0438\\u0441\\u0442\\u0435\\u043c\\u0430\\u0445 \\u0441 \\u0440\\u0430\\u0441\\u043f\\u0440\\u0435\\u0434\\u0435\\u043b\\u0435\\u043d\\u043d\\u043e\\u0439 \\u043f\\u0430\\u043c\\u044f\\u0442\\u044c\\u044e \\u043d\\u043e \\u0440\\u0435\\u0430\\u043b\\u0438\\u0437\\u0430\\u0446\\u0438\\u044f \\u0432 \\u0432\\u0438\\u0434\\u0435 \\u043c\\u043d\\u043e\\u0433\\u043e\\u043f\\u043e\\u0442\\u043e\\u0447\\u043d\\u043e\\u0433\\u043e \\u043f\\u0440\\u0438\\u043b\\u043e\\u0436\\u0435\\u043d\\u0438\\u044f \\u0432\\u044b\\u044f\\u0432\\u0438\\u043b\\u0430 \\u043a\\u043e\\u043d\\u043a\\u0443\\u0440\\u0435\\u043d\\u0446\\u0438\\u044e \\u0437\\u0430 \\u0440\\u0430\\u0437\\u0434\\u0435\\u043b\\u044f\\u0435\\u043c\\u044b\\u0439 \\u0440\\u0435\\u0441\\u0443\\u0440\\u0441. \\u0412 \\u0440\\u0430\\u0431\\u043e\\u0442\\u0435 \\u043f\\u0440\\u0438\\u0432\\u043e\\u0434\\u044f\\u0442\\u0441\\u044f \\u0440\\u0435\\u0437\\u0443\\u043b\\u044c\\u0442\\u0430\\u0442\\u044b \\u0432\\u044b\\u0447\\u0438\\u0441\\u043b\\u0438\\u0442\\u0435\\u043b\\u044c\\u043d\\u043e\\u0433\\u043e \\u044d\\u043a\\u0441\\u043f\\u0435\\u0440\\u0438\\u043c\\u0435\\u043d\\u0442\\u0430 \\u0438 \\u043d\\u0430\\u043c\\u0435\\u0447\\u0430\\u044e\\u0442\\u0441\\u044f \\u043f\\u0443\\u0442\\u0438 \\u0443\\u0441\\u0442\\u0440\\u0430\\u043d\\u0435\\u043d\\u0438\\u044f \\u044d\\u0444\\u0444\\u0435\\u043a\\u0442\\u0430 \\u043a\\u043e\\u043d\\u043a\\u0443\\u0440\\u0435\\u043d\\u0446\\u0438\\u0438. \\u041f\\u0440\\u0435\\u0434\\u0441\\u0442\\u0430\\u0432\\u043b\\u0435\\u043d\\u043d\\u044b\\u0435 \\u0432 \\u0440\\u0430\\u0431\\u043e\\u0442\\u0435 \\u0440\\u0435\\u0430\\u043b\\u0438\\u0437\\u0430\\u0446\\u0438\\u0438 \\u0430\\u043b\\u0433\\u043e\\u0440\\u0438\\u0442\\u043c\\u043e\\u0432 \\u0438 \\u043f\\u0440\\u043e\\u0446\\u0435\\u0434\\u0443\\u0440 \\u0432\\u043e\\u0448\\u043b\\u0438 \\u0432 \\u0441\\u043e\\u0441\\u0442\\u0430\\u0432 \\u043f\\u043e\\u0434\\u043a\\u043b\\u044e\\u0447\\u0430\\u0435\\u043c\\u043e\\u0439 \\u0431\\u0438\\u0431\\u043b\\u0438\\u043e\\u0442\\u0435\\u043a\\u0438 \\u0444\\u0443\\u043d\\u043a\\u0446\\u0438\\u0439 \\u0440\\u0430\\u0431\\u043e\\u0442\\u044b \\u0441\\u043e \\u0441\\u043b\\u043e\\u044f\\u043c\\u0438 \\u0442\\u043e\\u043f\\u043e\\u043b\\u043e\\u0433\\u0438\\u0447\\u0435\\u0441\\u043a\\u043e\\u0433\\u043e \\u043e\\u043f\\u0438\\u0441\\u0430\\u043d\\u0438\\u044f \\u043a\\u043e\\u0442\\u043e\\u0440\\u0430\\u044f \\u0432 \\u0441\\u0432\\u043e\\u044e \\u043e\\u0447\\u0435\\u0440\\u0435\\u0434\\u044c \\u044f\\u0432\\u043b\\u044f\\u0435\\u0442\\u0441\\u044f \\u0447\\u0430\\u0441\\u0442\\u044c\\u044e \\u0440\\u0430\\u0437\\u0440\\u0430\\u0431\\u0430\\u0442\\u044b\\u0432\\u0430\\u0435\\u043c\\u043e\\u0439 \\u0441\\u0438\\u0441\\u0442\\u0435\\u043c\\u044b \\u0432\\u0435\\u0440\\u0438\\u0444\\u0438\\u043a\\u0430\\u0446\\u0438\\u0438 \\u043d\\u043e\\u0440\\u043c \\u041a\\u0422\\u041e. \\u0414\\u0430\\u043d\\u043d\\u0430\\u044f \\u0431\\u0438\\u0431\\u043b\\u0438\\u043e\\u0442\\u0435\\u043a\\u0430 \\u0440\\u0435\\u0430\\u043b\\u0438\\u0437\\u043e\\u0432\\u0430\\u043d\\u0430 \\u043d\\u0430 \\u044f\\u0437\\u044b\\u043a\\u0435 C&#43;&#43; \\u0441 \\u0438\\u0441\\u043f\\u043e\\u043b\\u044c\\u0437\\u043e\\u0432\\u0430\\u043d\\u0438\\u0435\\u043c \\u0441\\u0442\\u0430\\u043d\\u0434\\u0430\\u0440\\u0442\\u0430 \\u0421&#43;&#43;17. \\u0418\\u043c\\u043f\\u043b\\u0435\\u043c\\u0435\\u043d\\u0442\\u0430\\u0446\\u0438\\u044f \\u043f\\u0430\\u0440\\u0430\\u043b\\u043b\\u0435\\u043b\\u044c\\u043d\\u044b\\u0445 \\u0441\\u0445\\u0435\\u043c \\u0440\\u0435\\u0430\\u043b\\u0438\\u0437\\u0430\\u0446\\u0438\\u0438 \\u043b\\u043e\\u0433\\u0438\\u0447\\u0435\\u0441\\u043a\\u0438\\u0445 \\u043e\\u043f\\u0435\\u0440\\u0430\\u0446\\u0438\\u0439 \\u0432\\u044b\\u043f\\u043e\\u043b\\u043d\\u0435\\u043d\\u0430 \\u0441 \\u0438\\u0441\\u043f\\u043e\\u043b\\u044c\\u0437\\u043e\\u0432\\u0430\\u043d\\u0438\\u0435\\u043c \\u0431\\u0438\\u0431\\u043b\\u0438\\u043e\\u0442\\u0435\\u043a\\u0438 \\u041e\\u0440\\u0435\\u043f\\u041c\\u0420.\",\n          \"\\u041f\\u0440\\u0435\\u0434\\u043c\\u0435\\u0442\\u043e\\u043c \\u0438\\u0441\\u0441\\u043b\\u0435\\u0434\\u043e\\u0432\\u0430\\u043d\\u0438\\u044f \\u0432 \\u0434\\u0430\\u043d\\u043d\\u043e\\u0439 \\u0440\\u0430\\u0431\\u043e\\u0442\\u0435 \\u044f\\u0432\\u043b\\u044f\\u0435\\u0442\\u0441\\u044f \\u0430\\u0434\\u0430\\u043f\\u0442\\u0438\\u0432\\u043d\\u0430\\u044f \\u0442\\u0435\\u0445\\u043d\\u043e\\u043b\\u043e\\u0433\\u0438\\u044f \\u0440\\u0430\\u0441\\u0447\\u0435\\u0442\\u0430 \\u0434\\u043b\\u044f \\u0440\\u0430\\u0437\\u043d\\u043e\\u0441\\u0442\\u043d\\u044b\\u0445 \\u0441\\u0445\\u0435\\u043c \\u043f\\u043e\\u0432\\u044b\\u0448\\u0435\\u043d\\u043d\\u043e\\u0439 \\u0442\\u043e\\u0447\\u043d\\u043e\\u0441\\u0442\\u0438. \\u0418\\u0441\\u0441\\u043b\\u0435\\u0434\\u0443\\u0435\\u0442\\u0441\\u044f \\u043a\\u043e\\u043c\\u043f\\u0430\\u043a\\u0442\\u043d\\u0430\\u044f \\u0440\\u0430\\u0437\\u043d\\u043e\\u0441\\u0442\\u043d\\u0430\\u044f \\u0441\\u0445\\u0435\\u043c\\u0430 \\u043a\\u043e\\u0442\\u043e\\u0440\\u0430\\u044f \\u0430\\u043f\\u043f\\u0440\\u043e\\u043a\\u0441\\u0438\\u043c\\u0438\\u0440\\u0443\\u0435\\u0442 \\u0432\\u043e\\u043b\\u043d\\u043e\\u0432\\u043e\\u0435 \\u0443\\u0440\\u0430\\u0432\\u043d\\u0435\\u043d\\u0438\\u0435 \\u0441 \\u0442\\u0440\\u0435\\u0442\\u044c\\u0438\\u043c \\u043f\\u043e\\u0440\\u044f\\u0434\\u043a\\u043e\\u043c \\u043d\\u0430 \\u043d\\u0435\\u0440\\u0430\\u0432\\u043d\\u043e\\u043c\\u0435\\u0440\\u043d\\u043e\\u0439 \\u043f\\u0440\\u043e\\u0441\\u0442\\u0440\\u0430\\u043d\\u0441\\u0442\\u0432\\u0435\\u043d\\u043d\\u043e\\u0439 \\u0441\\u0435\\u0442\\u043a\\u0435 \\u0438 \\u0441 \\u0447\\u0435\\u0442\\u0432\\u0435\\u0440\\u0442\\u044b\\u043c \\u043f\\u043e\\u0440\\u044f\\u0434\\u043a\\u043e\\u043c \\u043e\\u0442\\u043d\\u043e\\u0441\\u0438\\u0442\\u0435\\u043b\\u044c\\u043d\\u043e \\u043f\\u043e\\u0441\\u0442\\u043e\\u044f\\u043d\\u043d\\u043e\\u0433\\u043e \\u0432\\u0440\\u0435\\u043c\\u0435\\u043d\\u043do\\u0433\\u043e \\u0448\\u0430\\u0433\\u0430. \\u0421\\u0435\\u0442\\u043a\\u0430 \\u043f\\u0435\\u0440\\u0435\\u0441\\u0442\\u0440\\u0430\\u0438\\u0432\\u0430\\u0435\\u0442\\u0441\\u044f \\u043d\\u0430 \\u043a\\u0430\\u0436\\u0434\\u043e\\u043c \\u0448\\u0430\\u0433\\u0435 \\u043f\\u043e \\u0432\\u0440\\u0435\\u043c\\u0435\\u043d\\u0438 \\u043f\\u043e\\u0447\\u0442\\u0438 \\u043a\\u043b\\u0430\\u0441\\u0441\\u0438\\u0447\\u0435\\u0441\\u043a\\u0438\\u043c \\u043c\\u0435\\u0442\\u043e\\u0434\\u043e\\u043c \\u043e\\u0434\\u043d\\u0430\\u043a\\u043e \\u0432 \\u0434\\u043e\\u043f\\u043e\\u043b\\u043d\\u0435\\u043d\\u0438\\u0435 \\u043a \\u043d\\u0435\\u043c\\u0443 \\u043f\\u0440\\u0435\\u0434\\u043b\\u0430\\u0433\\u0430\\u0435\\u0442\\u0441\\u044f \\u044d\\u0444\\u0444\\u0435\\u043a\\u0442\\u0438\\u0432\\u043d\\u044b\\u0439 \\u0441\\u043f\\u043e\\u0441\\u043e\\u0431 \\u043a\\u043e\\u0440\\u0440\\u0435\\u043a\\u0446\\u0438\\u0438 \\u0441\\u0435\\u0442\\u043a\\u0438. \\u042d\\u0442\\u0430 \\u043e\\u043f\\u0435\\u0440\\u0430\\u0446\\u0438\\u044f \\u043e\\u0440\\u0438\\u0435\\u043d\\u0442\\u0438\\u0440\\u043e\\u0432\\u0430\\u043d\\u0430 \\u043d\\u0430 \\u0441\\u0433\\u043b\\u0430\\u0436\\u0438\\u0432\\u0430\\u043d\\u0438\\u0435 \\u0441\\u043b\\u0438\\u0448\\u043a\\u043e\\u043c \\u0440\\u0435\\u0437\\u043a\\u043e\\u0433\\u043e \\u0438\\u0437\\u043c\\u0435\\u043d\\u0435\\u043d\\u0438\\u044f \\u043f\\u0440\\u043e\\u0441\\u0442\\u0440\\u0430\\u043d\\u0441\\u0442\\u0432\\u0435\\u043d\\u043d\\u043e\\u0433\\u043e \\u0448\\u0430\\u0433\\u0430 \\u0432 \\u043e\\u0431\\u043b\\u0430\\u0441\\u0442\\u044f\\u0445 \\u0437\\u043d\\u0430\\u0447\\u0438\\u0442\\u0435\\u043b\\u044c\\u043d\\u043e\\u0439 \\u043a\\u0440\\u0438\\u0432\\u0438\\u0437\\u043d\\u044b. \\u0422\\u0430\\u043a\\u0438\\u0435 \\u043e\\u0431\\u043b\\u0430\\u0441\\u0442\\u0438 \\u0440\\u0430\\u0441\\u043f\\u043e\\u043b\\u043e\\u0436\\u0435\\u043d\\u044b \\u043d\\u0430\\u043f\\u0440\\u0438\\u043c\\u0435\\u0440 \\u0432 \\u0432\\u0435\\u0440\\u0448\\u0438\\u043d\\u0430\\u0445 \\u0438 \\u0443 \\u201c\\u043f\\u043e\\u0434\\u043d\\u043e\\u0436\\u0438\\u044f\\u201d \\u0441\\u043e\\u043b\\u0438\\u0442\\u043e\\u043d\\u043e\\u0432 \\u0438\\u043b\\u0438 \\u0432\\u0431\\u043b\\u0438\\u0437\\u0438 \\u0444\\u0440\\u043e\\u043d\\u0442\\u043e\\u0432 \\u0443\\u0434\\u0430\\u0440\\u043d\\u044b\\u0445 \\u043f\\u0435\\u0440\\u0435\\u0445\\u043e\\u0434\\u043e\\u0432. \\u0412 \\u0440\\u0430\\u0431\\u043e\\u0442\\u0435 \\u043f\\u0440\\u043e\\u0432\\u0435\\u0434\\u0435\\u043d\\u044b \\u0447\\u0438\\u0441\\u043b\\u0435\\u043d\\u043d\\u044b\\u0435 \\u044d\\u043a\\u0441\\u043f\\u0435\\u0440\\u0438\\u043c\\u0435\\u043d\\u0442\\u044b \\u043d\\u0430 \\u0442\\u043e\\u0447\\u043d\\u044b\\u0445 \\u0440\\u0435\\u0448\\u0435\\u043d\\u0438\\u044f\\u0445 \\u0432 \\u0432\\u0438\\u0434\\u0435 \\u0441\\u0433\\u043b\\u0430\\u0436\\u0435\\u043d\\u043d\\u044b\\u0445 \\u0443\\u0434\\u0430\\u0440\\u043d\\u044b\\u0445 \\u0432\\u043e\\u043b\\u043d \\u0441\\u043e\\u043b\\u0438\\u0442\\u043e\\u043d\\u043e\\u0432 \\u0430 \\u0442\\u0430\\u043a\\u0436\\u0435 \\u0438\\u0445 \\u043a\\u043e\\u043c\\u0431\\u0438\\u043d\\u0430\\u0446\\u0438\\u0439. \\u0412\\u044b\\u043f\\u043e\\u043b\\u043d\\u0435\\u043d\\u043e \\u0441\\u0440\\u0430\\u0432\\u043d\\u0435\\u043d\\u0438\\u0435 \\u0441 \\u0434\\u0440\\u0443\\u0433\\u0438\\u043c\\u0438 \\u043c\\u0435\\u0442\\u043e\\u0434\\u0430\\u043c\\u0438.\",\n          \"\\u0414\\u0430\\u0435\\u0442\\u0441\\u044f \\u043a\\u0440\\u0430\\u0442\\u043a\\u0438\\u0439 \\u043e\\u0431\\u0437\\u043e\\u0440 \\u0434\\u0438\\u0441\\u0442\\u0430\\u043d\\u0446\\u0438\\u043e\\u043d\\u043d\\u044b\\u0445 \\u043f\\u0430\\u0440\\u0430\\u043c\\u0435\\u0442\\u0440\\u0438\\u0447\\u0435\\u0441\\u043a\\u0438\\u0445 \\u043c\\u0435\\u0442\\u043e\\u0434\\u043e\\u0432 \\u043f\\u043e\\u0438\\u0441\\u043a\\u0430 \\u043c\\u0438\\u043d \\u0438 \\u043c\\u0438\\u043d\\u043d\\u044b\\u0445 \\u043f\\u043e\\u043b\\u0435\\u0439. \\u041e\\u043f\\u0438\\u0441\\u044b\\u0432\\u0430\\u044e\\u0442\\u0441\\u044f \\u0444\\u0438\\u0437\\u0438\\u0447\\u0435\\u0441\\u043a\\u0438\\u0435 \\u043e\\u0441\\u043d\\u043e\\u0432\\u044b \\u0434\\u0438\\u0441\\u0442\\u0430\\u043d\\u0446\\u0438\\u043e\\u043d\\u043d\\u043e\\u0433\\u043e \\u043c\\u0435\\u0442\\u043e\\u0434\\u0430 \\u043e\\u0431\\u043d\\u0430\\u0440\\u0443\\u0436\\u0435\\u043d\\u0438\\u044f \\u043f\\u043e\\u0434\\u043f\\u043e\\u0432\\u0435\\u0440\\u0445\\u043d\\u043e\\u0441\\u0442\\u043d\\u044b\\u0445 \\u043e\\u0431\\u044a\\u0435\\u043a\\u0442\\u043e\\u0432 \\u0442\\u0438\\u043f\\u0430 \\u043c\\u0438\\u043d \\u0432 \\u0437\\u0435\\u043c\\u043b\\u0435 \\u043d\\u0430 \\u043e\\u0441\\u043d\\u043e\\u0432\\u0435 \\u0432\\u043e\\u0437\\u0431\\u0443\\u0436\\u0434\\u0435\\u043d\\u0438\\u044f \\u0432\\u0434\\u043e\\u043b\\u044c \\u0433\\u0440\\u0430\\u043d\\u0438\\u0446\\u044b \\u0440\\u0430\\u0437\\u0434\\u0435\\u043b\\u0430 \\u0437\\u0435\\u043c\\u043b\\u044f-\\u0432\\u043e\\u0437\\u0434\\u0443\\u0445 \\u0443\\u0434\\u0430\\u0440\\u043d\\u044b\\u0445 \\u0441\\u0435\\u0439\\u0441\\u043c\\u0438\\u0447\\u0435\\u0441\\u043a\\u0438\\u0445 \\u0432\\u043e\\u043b\\u043d \\u0420\\u0435\\u043b\\u0435\\u044f \\u0438 \\u0440\\u0435\\u0433\\u0438\\u0441\\u0442\\u0440\\u0430\\u0446\\u0438\\u0438 \\u0440\\u0430\\u0434\\u0438\\u043e\\u043b\\u043e\\u043a\\u0430\\u0446\\u0438\\u043e\\u043d\\u043d\\u044b\\u043c \\u043c\\u0435\\u0442\\u043e\\u0434\\u043e\\u043c \\u0434\\u043e\\u043f\\u043b\\u0435\\u0440\\u043e\\u0432\\u0441\\u043a\\u043e\\u0433\\u043e \\u0441\\u0434\\u0432\\u0438\\u0433\\u0430 \\u0444\\u0430\\u0437  \\u0432\\u043e\\u0437\\u043d\\u0438\\u043a\\u0430\\u044e\\u0449\\u0435\\u0433\\u043e \\u043f\\u043e\\u0434 \\u0434\\u0435\\u0439\\u0441\\u0442\\u0432\\u0438\\u0435\\u043c \\u0441\\u0435\\u0439\\u0441\\u043c\\u0438\\u0447\\u0435\\u0441\\u043a\\u0438\\u0445 \\u0443\\u0434\\u0430\\u0440\\u043e\\u0432 \\u0432\\u0438\\u0431\\u0440\\u0430\\u0446\\u0438\\u0439 \\u043a\\u043e\\u0440\\u043f\\u0443\\u0441\\u0430 \\u043e\\u0431\\u044a\\u0435\\u043a\\u0442\\u0430 \\u043f\\u043e\\u0438\\u0441\\u043a\\u0430. \\u0418\\u0437\\u043b\\u043e\\u0436\\u0435\\u043d\\u044b \\u0441\\u043e\\u043e\\u0431\\u0440\\u0430\\u0436\\u0435\\u043d\\u0438\\u044f \\u043f\\u043e \\u0430\\u043f\\u043f\\u0430\\u0440\\u0430\\u0442\\u043d\\u043e\\u0439 \\u0440\\u0435\\u0430\\u043b\\u0438\\u0437\\u0430\\u0446\\u0438\\u0438 \\u043d\\u043e\\u0432\\u043e\\u0433\\u043e \\u043c\\u0435\\u0442\\u043e\\u0434\\u0430  \\u0434\\u0430\\u0435\\u0442\\u0441\\u044f \\u043e\\u0446\\u0435\\u043d\\u043a\\u0430 \\u043a\\u043e\\u043b\\u0438\\u0447\\u0435\\u0441\\u0442\\u0432\\u0435\\u043d\\u043d\\u044b\\u0445 \\u0441\\u043e\\u043e\\u0442\\u043d\\u043e\\u0448\\u0435\\u043d\\u0438\\u0439 \\u0432 \\u0440\\u0430\\u0434\\u0438\\u043e\\u043a\\u0430\\u043d\\u0430\\u043b\\u0435 \\u0440\\u0430\\u0434\\u0438\\u043e\\u043b\\u043e\\u043a\\u0430\\u0446\\u0438\\u043e\\u043d\\u043d\\u043e\\u0439 \\u0441\\u0438\\u0441\\u0442\\u0435\\u043c\\u044b.\"\n        ],\n        \"semantic_type\": \"\",\n        \"description\": \"\"\n      }\n    },\n    {\n      \"column\": \"Topic\",\n      \"properties\": {\n        \"dtype\": \"category\",\n        \"num_unique_values\": 4,\n        \"samples\": [\n          \"computer_science\",\n          \"economy\",\n          \"electricity_and_info\"\n        ],\n        \"semantic_type\": \"\",\n        \"description\": \"\"\n      }\n    },\n    {\n      \"column\": \"FullText\",\n      \"properties\": {\n        \"dtype\": \"string\",\n        \"num_unique_values\": 5582,\n        \"samples\": [\n          \"\\u041c\\u041e\\u0414\\u0415\\u041b\\u0418\\u0420\\u041e\\u0412\\u0410\\u041d\\u0418\\u0415 \\u0421\\u0418\\u0421\\u0422\\u0415\\u041c\\u042b \\u0411\\u0415\\u0417\\u041e\\u041f\\u0410\\u0421\\u041d\\u041e\\u0421\\u0422\\u0418 \\u0418\\u041d\\u0424\\u041e\\u0420\\u041c\\u0410\\u0426\\u0418\\u0418 \\u041d\\u0410 \\u0417\\u0410\\u0429\\u0418\\u0429\\u0410\\u0415\\u041c\\u042b\\u0425 \\u041e\\u0411\\u042a\\u0415\\u041a\\u0422\\u0410\\u0425 \\u041f\\u0440\\u043e\\u0430\\u043d\\u0430\\u043b\\u0438\\u0437\\u0438\\u0440\\u043e\\u0432\\u0430\\u043d\\u044b \\u0441\\u0442\\u0430\\u043d\\u0434\\u0430\\u0440\\u0442\\u044b \\u0432 \\u043e\\u0431\\u043b\\u0430\\u0441\\u0442\\u0438 \\u0437\\u0430\\u0449\\u0438\\u0442\\u044b \\u0438\\u043d\\u0444\\u043e\\u0440\\u043c\\u0430\\u0446\\u0438\\u0438. \\u0421\\u0445\\u0435\\u043c\\u0430\\u0442\\u0438\\u0447\\u043d\\u043e \\u043f\\u0440\\u0435\\u0434\\u0441\\u0442\\u0430\\u0432\\u043b\\u0435\\u043d\\u044b \\u0441\\u0442\\u0440\\u0443\\u043a\\u0442\\u0443\\u0440\\u0430 \\u0443\\u0433\\u0440\\u043e\\u0437 \\u0438\\u043d\\u0444\\u043e\\u0440\\u043c\\u0430\\u0446\\u0438\\u043e\\u043d\\u043d\\u043e\\u0439 \\u0431\\u0435\\u0437\\u043e\\u043f\\u0430\\u0441\\u043d\\u043e\\u0441\\u0442\\u0438 \\u0438 \\u043f\\u0440\\u043e\\u0446\\u0435\\u0441\\u0441 \\u0438\\u0445 \\u0440\\u0435\\u0430\\u043b\\u0438\\u0437\\u0430\\u0446\\u0438\\u0438. \\u041f\\u0440\\u0438\\u0432\\u0435\\u0434\\u0435\\u043d \\u043f\\u0435\\u0440\\u0435\\u0447\\u0435\\u043d\\u044c \\u0437\\u0430\\u0449\\u0438\\u0449\\u0430\\u0435\\u043c\\u044b\\u0445 \\u043e\\u0431\\u044a\\u0435\\u043a\\u0442\\u043e\\u0432 \\u0438 \\u0438\\u0445 \\u0432\\u0437\\u0430\\u0438\\u043c\\u043e\\u0441\\u0432\\u044f\\u0437\\u044c \\u0441 \\u0441\\u0438\\u0441\\u0442\\u0435\\u043c\\u043e\\u0439 \\u0437\\u0430\\u0449\\u0438\\u0442\\u044b.\",\n          \"\\u041a\\u043e\\u043c\\u043f\\u0430\\u043a\\u0442\\u043d\\u0430\\u044f \\u0440\\u0430\\u0437\\u043d\\u043e\\u0441\\u0442\\u043d\\u0430\\u044f \\u0441\\u0445\\u0435\\u043c\\u0430 \\u043d\\u0430 \\u0430\\u0434\\u0430\\u043f\\u0442\\u0438\\u0432\\u043d\\u043e\\u0439 \\u0441\\u0435\\u0442\\u043a\\u0435 \\u0434\\u043b\\u044f \\u0432\\u043e\\u043b\\u043d\\u043e\\u0432\\u043e\\u0433\\u043e \\u0443\\u0440\\u0430\\u0432\\u043d\\u0435\\u043d\\u0438\\u044f \\u041f\\u0440\\u0435\\u0434\\u043c\\u0435\\u0442\\u043e\\u043c \\u0438\\u0441\\u0441\\u043b\\u0435\\u0434\\u043e\\u0432\\u0430\\u043d\\u0438\\u044f \\u0432 \\u0434\\u0430\\u043d\\u043d\\u043e\\u0439 \\u0440\\u0430\\u0431\\u043e\\u0442\\u0435 \\u044f\\u0432\\u043b\\u044f\\u0435\\u0442\\u0441\\u044f \\u0430\\u0434\\u0430\\u043f\\u0442\\u0438\\u0432\\u043d\\u0430\\u044f \\u0442\\u0435\\u0445\\u043d\\u043e\\u043b\\u043e\\u0433\\u0438\\u044f \\u0440\\u0430\\u0441\\u0447\\u0435\\u0442\\u0430 \\u0434\\u043b\\u044f \\u0440\\u0430\\u0437\\u043d\\u043e\\u0441\\u0442\\u043d\\u044b\\u0445 \\u0441\\u0445\\u0435\\u043c \\u043f\\u043e\\u0432\\u044b\\u0448\\u0435\\u043d\\u043d\\u043e\\u0439 \\u0442\\u043e\\u0447\\u043d\\u043e\\u0441\\u0442\\u0438. \\u0418\\u0441\\u0441\\u043b\\u0435\\u0434\\u0443\\u0435\\u0442\\u0441\\u044f \\u043a\\u043e\\u043c\\u043f\\u0430\\u043a\\u0442\\u043d\\u0430\\u044f \\u0440\\u0430\\u0437\\u043d\\u043e\\u0441\\u0442\\u043d\\u0430\\u044f \\u0441\\u0445\\u0435\\u043c\\u0430 \\u043a\\u043e\\u0442\\u043e\\u0440\\u0430\\u044f \\u0430\\u043f\\u043f\\u0440\\u043e\\u043a\\u0441\\u0438\\u043c\\u0438\\u0440\\u0443\\u0435\\u0442 \\u0432\\u043e\\u043b\\u043d\\u043e\\u0432\\u043e\\u0435 \\u0443\\u0440\\u0430\\u0432\\u043d\\u0435\\u043d\\u0438\\u0435 \\u0441 \\u0442\\u0440\\u0435\\u0442\\u044c\\u0438\\u043c \\u043f\\u043e\\u0440\\u044f\\u0434\\u043a\\u043e\\u043c \\u043d\\u0430 \\u043d\\u0435\\u0440\\u0430\\u0432\\u043d\\u043e\\u043c\\u0435\\u0440\\u043d\\u043e\\u0439 \\u043f\\u0440\\u043e\\u0441\\u0442\\u0440\\u0430\\u043d\\u0441\\u0442\\u0432\\u0435\\u043d\\u043d\\u043e\\u0439 \\u0441\\u0435\\u0442\\u043a\\u0435 \\u0438 \\u0441 \\u0447\\u0435\\u0442\\u0432\\u0435\\u0440\\u0442\\u044b\\u043c \\u043f\\u043e\\u0440\\u044f\\u0434\\u043a\\u043e\\u043c \\u043e\\u0442\\u043d\\u043e\\u0441\\u0438\\u0442\\u0435\\u043b\\u044c\\u043d\\u043e \\u043f\\u043e\\u0441\\u0442\\u043e\\u044f\\u043d\\u043d\\u043e\\u0433\\u043e \\u0432\\u0440\\u0435\\u043c\\u0435\\u043d\\u043do\\u0433\\u043e \\u0448\\u0430\\u0433\\u0430. \\u0421\\u0435\\u0442\\u043a\\u0430 \\u043f\\u0435\\u0440\\u0435\\u0441\\u0442\\u0440\\u0430\\u0438\\u0432\\u0430\\u0435\\u0442\\u0441\\u044f \\u043d\\u0430 \\u043a\\u0430\\u0436\\u0434\\u043e\\u043c \\u0448\\u0430\\u0433\\u0435 \\u043f\\u043e \\u0432\\u0440\\u0435\\u043c\\u0435\\u043d\\u0438 \\u043f\\u043e\\u0447\\u0442\\u0438 \\u043a\\u043b\\u0430\\u0441\\u0441\\u0438\\u0447\\u0435\\u0441\\u043a\\u0438\\u043c \\u043c\\u0435\\u0442\\u043e\\u0434\\u043e\\u043c \\u043e\\u0434\\u043d\\u0430\\u043a\\u043e \\u0432 \\u0434\\u043e\\u043f\\u043e\\u043b\\u043d\\u0435\\u043d\\u0438\\u0435 \\u043a \\u043d\\u0435\\u043c\\u0443 \\u043f\\u0440\\u0435\\u0434\\u043b\\u0430\\u0433\\u0430\\u0435\\u0442\\u0441\\u044f \\u044d\\u0444\\u0444\\u0435\\u043a\\u0442\\u0438\\u0432\\u043d\\u044b\\u0439 \\u0441\\u043f\\u043e\\u0441\\u043e\\u0431 \\u043a\\u043e\\u0440\\u0440\\u0435\\u043a\\u0446\\u0438\\u0438 \\u0441\\u0435\\u0442\\u043a\\u0438. \\u042d\\u0442\\u0430 \\u043e\\u043f\\u0435\\u0440\\u0430\\u0446\\u0438\\u044f \\u043e\\u0440\\u0438\\u0435\\u043d\\u0442\\u0438\\u0440\\u043e\\u0432\\u0430\\u043d\\u0430 \\u043d\\u0430 \\u0441\\u0433\\u043b\\u0430\\u0436\\u0438\\u0432\\u0430\\u043d\\u0438\\u0435 \\u0441\\u043b\\u0438\\u0448\\u043a\\u043e\\u043c \\u0440\\u0435\\u0437\\u043a\\u043e\\u0433\\u043e \\u0438\\u0437\\u043c\\u0435\\u043d\\u0435\\u043d\\u0438\\u044f \\u043f\\u0440\\u043e\\u0441\\u0442\\u0440\\u0430\\u043d\\u0441\\u0442\\u0432\\u0435\\u043d\\u043d\\u043e\\u0433\\u043e \\u0448\\u0430\\u0433\\u0430 \\u0432 \\u043e\\u0431\\u043b\\u0430\\u0441\\u0442\\u044f\\u0445 \\u0437\\u043d\\u0430\\u0447\\u0438\\u0442\\u0435\\u043b\\u044c\\u043d\\u043e\\u0439 \\u043a\\u0440\\u0438\\u0432\\u0438\\u0437\\u043d\\u044b. \\u0422\\u0430\\u043a\\u0438\\u0435 \\u043e\\u0431\\u043b\\u0430\\u0441\\u0442\\u0438 \\u0440\\u0430\\u0441\\u043f\\u043e\\u043b\\u043e\\u0436\\u0435\\u043d\\u044b \\u043d\\u0430\\u043f\\u0440\\u0438\\u043c\\u0435\\u0440 \\u0432 \\u0432\\u0435\\u0440\\u0448\\u0438\\u043d\\u0430\\u0445 \\u0438 \\u0443 \\u201c\\u043f\\u043e\\u0434\\u043d\\u043e\\u0436\\u0438\\u044f\\u201d \\u0441\\u043e\\u043b\\u0438\\u0442\\u043e\\u043d\\u043e\\u0432 \\u0438\\u043b\\u0438 \\u0432\\u0431\\u043b\\u0438\\u0437\\u0438 \\u0444\\u0440\\u043e\\u043d\\u0442\\u043e\\u0432 \\u0443\\u0434\\u0430\\u0440\\u043d\\u044b\\u0445 \\u043f\\u0435\\u0440\\u0435\\u0445\\u043e\\u0434\\u043e\\u0432. \\u0412 \\u0440\\u0430\\u0431\\u043e\\u0442\\u0435 \\u043f\\u0440\\u043e\\u0432\\u0435\\u0434\\u0435\\u043d\\u044b \\u0447\\u0438\\u0441\\u043b\\u0435\\u043d\\u043d\\u044b\\u0435 \\u044d\\u043a\\u0441\\u043f\\u0435\\u0440\\u0438\\u043c\\u0435\\u043d\\u0442\\u044b \\u043d\\u0430 \\u0442\\u043e\\u0447\\u043d\\u044b\\u0445 \\u0440\\u0435\\u0448\\u0435\\u043d\\u0438\\u044f\\u0445 \\u0432 \\u0432\\u0438\\u0434\\u0435 \\u0441\\u0433\\u043b\\u0430\\u0436\\u0435\\u043d\\u043d\\u044b\\u0445 \\u0443\\u0434\\u0430\\u0440\\u043d\\u044b\\u0445 \\u0432\\u043e\\u043b\\u043d \\u0441\\u043e\\u043b\\u0438\\u0442\\u043e\\u043d\\u043e\\u0432 \\u0430 \\u0442\\u0430\\u043a\\u0436\\u0435 \\u0438\\u0445 \\u043a\\u043e\\u043c\\u0431\\u0438\\u043d\\u0430\\u0446\\u0438\\u0439. \\u0412\\u044b\\u043f\\u043e\\u043b\\u043d\\u0435\\u043d\\u043e \\u0441\\u0440\\u0430\\u0432\\u043d\\u0435\\u043d\\u0438\\u0435 \\u0441 \\u0434\\u0440\\u0443\\u0433\\u0438\\u043c\\u0438 \\u043c\\u0435\\u0442\\u043e\\u0434\\u0430\\u043c\\u0438.\",\n          \"\\u041f\\u0430\\u0440\\u0430\\u043c\\u0435\\u0442\\u0440\\u0438\\u0447\\u0435\\u0441\\u043a\\u0430\\u044f \\u0440\\u043e\\u0431\\u043e\\u0442\\u0438\\u0437\\u0438\\u0440\\u043e\\u0432\\u0430\\u043d\\u043d\\u0430\\u044f \\u0441\\u0438\\u0441\\u0442\\u0435\\u043c\\u0430 \\u043f\\u043e\\u0438\\u0441\\u043a\\u0430 \\u043c\\u0438\\u043d \\u043d\\u0430 \\u043e\\u0441\\u043d\\u043e\\u0432\\u0435 \\u0432\\u0437\\u0430\\u0438\\u043c\\u043e\\u0434\\u0435\\u0439\\u0441\\u0442\\u0432\\u0438\\u044f \\u044d\\u043b\\u0435\\u043a\\u0442\\u0440\\u043e\\u043c\\u0430\\u0433\\u043d\\u0438\\u0442\\u043d\\u044b\\u0445 \\u0438 \\u0441\\u0435\\u0439\\u0441\\u043c\\u0438\\u0447\\u0435\\u0441\\u043a\\u0438\\u0445 \\u0432\\u043e\\u043b\\u043d \\u0414\\u0430\\u0435\\u0442\\u0441\\u044f \\u043a\\u0440\\u0430\\u0442\\u043a\\u0438\\u0439 \\u043e\\u0431\\u0437\\u043e\\u0440 \\u0434\\u0438\\u0441\\u0442\\u0430\\u043d\\u0446\\u0438\\u043e\\u043d\\u043d\\u044b\\u0445 \\u043f\\u0430\\u0440\\u0430\\u043c\\u0435\\u0442\\u0440\\u0438\\u0447\\u0435\\u0441\\u043a\\u0438\\u0445 \\u043c\\u0435\\u0442\\u043e\\u0434\\u043e\\u0432 \\u043f\\u043e\\u0438\\u0441\\u043a\\u0430 \\u043c\\u0438\\u043d \\u0438 \\u043c\\u0438\\u043d\\u043d\\u044b\\u0445 \\u043f\\u043e\\u043b\\u0435\\u0439. \\u041e\\u043f\\u0438\\u0441\\u044b\\u0432\\u0430\\u044e\\u0442\\u0441\\u044f \\u0444\\u0438\\u0437\\u0438\\u0447\\u0435\\u0441\\u043a\\u0438\\u0435 \\u043e\\u0441\\u043d\\u043e\\u0432\\u044b \\u0434\\u0438\\u0441\\u0442\\u0430\\u043d\\u0446\\u0438\\u043e\\u043d\\u043d\\u043e\\u0433\\u043e \\u043c\\u0435\\u0442\\u043e\\u0434\\u0430 \\u043e\\u0431\\u043d\\u0430\\u0440\\u0443\\u0436\\u0435\\u043d\\u0438\\u044f \\u043f\\u043e\\u0434\\u043f\\u043e\\u0432\\u0435\\u0440\\u0445\\u043d\\u043e\\u0441\\u0442\\u043d\\u044b\\u0445 \\u043e\\u0431\\u044a\\u0435\\u043a\\u0442\\u043e\\u0432 \\u0442\\u0438\\u043f\\u0430 \\u043c\\u0438\\u043d \\u0432 \\u0437\\u0435\\u043c\\u043b\\u0435 \\u043d\\u0430 \\u043e\\u0441\\u043d\\u043e\\u0432\\u0435 \\u0432\\u043e\\u0437\\u0431\\u0443\\u0436\\u0434\\u0435\\u043d\\u0438\\u044f \\u0432\\u0434\\u043e\\u043b\\u044c \\u0433\\u0440\\u0430\\u043d\\u0438\\u0446\\u044b \\u0440\\u0430\\u0437\\u0434\\u0435\\u043b\\u0430 \\u0437\\u0435\\u043c\\u043b\\u044f-\\u0432\\u043e\\u0437\\u0434\\u0443\\u0445 \\u0443\\u0434\\u0430\\u0440\\u043d\\u044b\\u0445 \\u0441\\u0435\\u0439\\u0441\\u043c\\u0438\\u0447\\u0435\\u0441\\u043a\\u0438\\u0445 \\u0432\\u043e\\u043b\\u043d \\u0420\\u0435\\u043b\\u0435\\u044f \\u0438 \\u0440\\u0435\\u0433\\u0438\\u0441\\u0442\\u0440\\u0430\\u0446\\u0438\\u0438 \\u0440\\u0430\\u0434\\u0438\\u043e\\u043b\\u043e\\u043a\\u0430\\u0446\\u0438\\u043e\\u043d\\u043d\\u044b\\u043c \\u043c\\u0435\\u0442\\u043e\\u0434\\u043e\\u043c \\u0434\\u043e\\u043f\\u043b\\u0435\\u0440\\u043e\\u0432\\u0441\\u043a\\u043e\\u0433\\u043e \\u0441\\u0434\\u0432\\u0438\\u0433\\u0430 \\u0444\\u0430\\u0437  \\u0432\\u043e\\u0437\\u043d\\u0438\\u043a\\u0430\\u044e\\u0449\\u0435\\u0433\\u043e \\u043f\\u043e\\u0434 \\u0434\\u0435\\u0439\\u0441\\u0442\\u0432\\u0438\\u0435\\u043c \\u0441\\u0435\\u0439\\u0441\\u043c\\u0438\\u0447\\u0435\\u0441\\u043a\\u0438\\u0445 \\u0443\\u0434\\u0430\\u0440\\u043e\\u0432 \\u0432\\u0438\\u0431\\u0440\\u0430\\u0446\\u0438\\u0439 \\u043a\\u043e\\u0440\\u043f\\u0443\\u0441\\u0430 \\u043e\\u0431\\u044a\\u0435\\u043a\\u0442\\u0430 \\u043f\\u043e\\u0438\\u0441\\u043a\\u0430. \\u0418\\u0437\\u043b\\u043e\\u0436\\u0435\\u043d\\u044b \\u0441\\u043e\\u043e\\u0431\\u0440\\u0430\\u0436\\u0435\\u043d\\u0438\\u044f \\u043f\\u043e \\u0430\\u043f\\u043f\\u0430\\u0440\\u0430\\u0442\\u043d\\u043e\\u0439 \\u0440\\u0435\\u0430\\u043b\\u0438\\u0437\\u0430\\u0446\\u0438\\u0438 \\u043d\\u043e\\u0432\\u043e\\u0433\\u043e \\u043c\\u0435\\u0442\\u043e\\u0434\\u0430  \\u0434\\u0430\\u0435\\u0442\\u0441\\u044f \\u043e\\u0446\\u0435\\u043d\\u043a\\u0430 \\u043a\\u043e\\u043b\\u0438\\u0447\\u0435\\u0441\\u0442\\u0432\\u0435\\u043d\\u043d\\u044b\\u0445 \\u0441\\u043e\\u043e\\u0442\\u043d\\u043e\\u0448\\u0435\\u043d\\u0438\\u0439 \\u0432 \\u0440\\u0430\\u0434\\u0438\\u043e\\u043a\\u0430\\u043d\\u0430\\u043b\\u0435 \\u0440\\u0430\\u0434\\u0438\\u043e\\u043b\\u043e\\u043a\\u0430\\u0446\\u0438\\u043e\\u043d\\u043d\\u043e\\u0439 \\u0441\\u0438\\u0441\\u0442\\u0435\\u043c\\u044b.\"\n        ],\n        \"semantic_type\": \"\",\n        \"description\": \"\"\n      }\n    },\n    {\n      \"column\": \"Allowed\",\n      \"properties\": {\n        \"dtype\": \"boolean\",\n        \"num_unique_values\": 1,\n        \"samples\": [\n          true\n        ],\n        \"semantic_type\": \"\",\n        \"description\": \"\"\n      }\n    }\n  ]\n}"
            }
          },
          "metadata": {},
          "execution_count": 48
        }
      ]
    },
    {
      "cell_type": "code",
      "source": [
        "df.to_csv('cyberleninka_states.csv', index=False)"
      ],
      "metadata": {
        "id": "aErGGNK9LndP"
      },
      "execution_count": null,
      "outputs": []
    },
    {
      "cell_type": "markdown",
      "source": [
        "---\n"
      ],
      "metadata": {
        "id": "2Yaa6zJMGeC-"
      }
    },
    {
      "cell_type": "code",
      "source": [
        "g = df.copy()"
      ],
      "metadata": {
        "id": "DiHawd4wiPdG"
      },
      "execution_count": null,
      "outputs": []
    },
    {
      "cell_type": "code",
      "source": [
        "g = g.drop_duplicates()"
      ],
      "metadata": {
        "id": "_UGssRBljOyP"
      },
      "execution_count": null,
      "outputs": []
    },
    {
      "cell_type": "markdown",
      "source": [
        "Обучение модели"
      ],
      "metadata": {
        "id": "jVZY3i_wim4O"
      }
    },
    {
      "cell_type": "markdown",
      "source": [],
      "metadata": {
        "id": "VGAujR1ij2p2"
      }
    },
    {
      "cell_type": "code",
      "source": [
        "g = g.assign(FullText=lambda x: x['title'] + ' '  + x['desc'])\n",
        "g"
      ],
      "metadata": {
        "colab": {
          "base_uri": "https://localhost:8080/",
          "height": 874
        },
        "id": "XXphOR4njQF0",
        "outputId": "5431f76f-aa86-4a74-e9bf-3f375b710a13"
      },
      "execution_count": null,
      "outputs": [
        {
          "output_type": "execute_result",
          "data": {
            "text/plain": [
              "                                                 title  \\\n",
              "0    Измерение намагниченности магнитной жидкости м...   \n",
              "2    Статистика межрегиональных различий и состояни...   \n",
              "4    Автоматические регуляторы напряжения синхронны...   \n",
              "5    Энерготехнологическое прогнозирование структур...   \n",
              "7    Совершенствование устройств для предварительно...   \n",
              "..                                                 ...   \n",
              "225  ИМУЩЕСТВО ПОЛУЧЕННОЕ В ПОЛЬЗОВАНИЕ. ЗАБАЛАНСОВ...   \n",
              "226  КРИТЕРИИ ПРИ ПРИНЯТИИ ИНВЕСТИЦИОННЫХ РЕШЕНИЙ П...   \n",
              "227  БЮДЖЕТИРОВАНИЕ КАК ИНСТРУМЕНТ УПРАВЛЕНИЯ ПРЕДП...   \n",
              "228  ОСОБЕННОСТИ ОРГАНИЗАЦИИ УПРАВЛЕНИЯ НА ПРЕДПРИЯТИИ   \n",
              "231   РАЗВИТИЕ ВНЕШНЕЙ ТОРГОВЛИ РОССИИ СО СТРАНАМИ СНГ   \n",
              "\n",
              "                                                  link  \\\n",
              "0    https://cyberleninka.ru/article/n/izmerenie-na...   \n",
              "2    https://cyberleninka.ru/article/n/statistika-m...   \n",
              "4    https://cyberleninka.ru/article/n/avtomatiches...   \n",
              "5    https://cyberleninka.ru/article/n/energotehnol...   \n",
              "7    https://cyberleninka.ru/article/n/sovershenstv...   \n",
              "..                                                 ...   \n",
              "225  https://cyberleninka.ru/article/n/imuschestvo-...   \n",
              "226  https://cyberleninka.ru/article/n/kriterii-pri...   \n",
              "227  https://cyberleninka.ru/article/n/byudzhetirov...   \n",
              "228  https://cyberleninka.ru/article/n/osobennosti-...   \n",
              "231  https://cyberleninka.ru/article/n/razvitie-vne...   \n",
              "\n",
              "                                                  desc                 Topic  \\\n",
              "0    В работе для измерения намагниченности магнитн...  electricity_and_info   \n",
              "2    Цель исследования повышение показателей качест...  electricity_and_info   \n",
              "4    В статье проведён анализ существующих схем мет...  electricity_and_info   \n",
              "5    В статье рассмотрено энерготехнологическое про...  electricity_and_info   \n",
              "7    Целью работы является создание малоэнергоемкой...  electricity_and_info   \n",
              "..                                                 ...                   ...   \n",
              "225  В данной статье рассмотрены теоретические осно...               economy   \n",
              "226  В статье рассматриваются и обосновываются крит...               economy   \n",
              "227  Исследована сущность понятия &#34;бюджетирован...               economy   \n",
              "228  В данной статье выявляется актуальность данног...               economy   \n",
              "231  В данной статье рассмотрены структура и динами...               economy   \n",
              "\n",
              "                                              FullText  Allowed  \n",
              "0    Измерение намагниченности магнитной жидкости м...     True  \n",
              "2    Статистика межрегиональных различий и состояни...     True  \n",
              "4    Автоматические регуляторы напряжения синхронны...     True  \n",
              "5    Энерготехнологическое прогнозирование структур...     True  \n",
              "7    Совершенствование устройств для предварительно...     True  \n",
              "..                                                 ...      ...  \n",
              "225  ИМУЩЕСТВО ПОЛУЧЕННОЕ В ПОЛЬЗОВАНИЕ. ЗАБАЛАНСОВ...     True  \n",
              "226  КРИТЕРИИ ПРИ ПРИНЯТИИ ИНВЕСТИЦИОННЫХ РЕШЕНИЙ П...     True  \n",
              "227  БЮДЖЕТИРОВАНИЕ КАК ИНСТРУМЕНТ УПРАВЛЕНИЯ ПРЕДП...     True  \n",
              "228  ОСОБЕННОСТИ ОРГАНИЗАЦИИ УПРАВЛЕНИЯ НА ПРЕДПРИЯ...     True  \n",
              "231  РАЗВИТИЕ ВНЕШНЕЙ ТОРГОВЛИ РОССИИ СО СТРАНАМИ С...     True  \n",
              "\n",
              "[5586 rows x 6 columns]"
            ],
            "text/html": [
              "\n",
              "  <div id=\"df-56dcd8cb-c347-416e-be01-d0d091d79569\" class=\"colab-df-container\">\n",
              "    <div>\n",
              "<style scoped>\n",
              "    .dataframe tbody tr th:only-of-type {\n",
              "        vertical-align: middle;\n",
              "    }\n",
              "\n",
              "    .dataframe tbody tr th {\n",
              "        vertical-align: top;\n",
              "    }\n",
              "\n",
              "    .dataframe thead th {\n",
              "        text-align: right;\n",
              "    }\n",
              "</style>\n",
              "<table border=\"1\" class=\"dataframe\">\n",
              "  <thead>\n",
              "    <tr style=\"text-align: right;\">\n",
              "      <th></th>\n",
              "      <th>title</th>\n",
              "      <th>link</th>\n",
              "      <th>desc</th>\n",
              "      <th>Topic</th>\n",
              "      <th>FullText</th>\n",
              "      <th>Allowed</th>\n",
              "    </tr>\n",
              "  </thead>\n",
              "  <tbody>\n",
              "    <tr>\n",
              "      <th>0</th>\n",
              "      <td>Измерение намагниченности магнитной жидкости м...</td>\n",
              "      <td>https://cyberleninka.ru/article/n/izmerenie-na...</td>\n",
              "      <td>В работе для измерения намагниченности магнитн...</td>\n",
              "      <td>electricity_and_info</td>\n",
              "      <td>Измерение намагниченности магнитной жидкости м...</td>\n",
              "      <td>True</td>\n",
              "    </tr>\n",
              "    <tr>\n",
              "      <th>2</th>\n",
              "      <td>Статистика межрегиональных различий и состояни...</td>\n",
              "      <td>https://cyberleninka.ru/article/n/statistika-m...</td>\n",
              "      <td>Цель исследования повышение показателей качест...</td>\n",
              "      <td>electricity_and_info</td>\n",
              "      <td>Статистика межрегиональных различий и состояни...</td>\n",
              "      <td>True</td>\n",
              "    </tr>\n",
              "    <tr>\n",
              "      <th>4</th>\n",
              "      <td>Автоматические регуляторы напряжения синхронны...</td>\n",
              "      <td>https://cyberleninka.ru/article/n/avtomatiches...</td>\n",
              "      <td>В статье проведён анализ существующих схем мет...</td>\n",
              "      <td>electricity_and_info</td>\n",
              "      <td>Автоматические регуляторы напряжения синхронны...</td>\n",
              "      <td>True</td>\n",
              "    </tr>\n",
              "    <tr>\n",
              "      <th>5</th>\n",
              "      <td>Энерготехнологическое прогнозирование структур...</td>\n",
              "      <td>https://cyberleninka.ru/article/n/energotehnol...</td>\n",
              "      <td>В статье рассмотрено энерготехнологическое про...</td>\n",
              "      <td>electricity_and_info</td>\n",
              "      <td>Энерготехнологическое прогнозирование структур...</td>\n",
              "      <td>True</td>\n",
              "    </tr>\n",
              "    <tr>\n",
              "      <th>7</th>\n",
              "      <td>Совершенствование устройств для предварительно...</td>\n",
              "      <td>https://cyberleninka.ru/article/n/sovershenstv...</td>\n",
              "      <td>Целью работы является создание малоэнергоемкой...</td>\n",
              "      <td>electricity_and_info</td>\n",
              "      <td>Совершенствование устройств для предварительно...</td>\n",
              "      <td>True</td>\n",
              "    </tr>\n",
              "    <tr>\n",
              "      <th>...</th>\n",
              "      <td>...</td>\n",
              "      <td>...</td>\n",
              "      <td>...</td>\n",
              "      <td>...</td>\n",
              "      <td>...</td>\n",
              "      <td>...</td>\n",
              "    </tr>\n",
              "    <tr>\n",
              "      <th>225</th>\n",
              "      <td>ИМУЩЕСТВО ПОЛУЧЕННОЕ В ПОЛЬЗОВАНИЕ. ЗАБАЛАНСОВ...</td>\n",
              "      <td>https://cyberleninka.ru/article/n/imuschestvo-...</td>\n",
              "      <td>В данной статье рассмотрены теоретические осно...</td>\n",
              "      <td>economy</td>\n",
              "      <td>ИМУЩЕСТВО ПОЛУЧЕННОЕ В ПОЛЬЗОВАНИЕ. ЗАБАЛАНСОВ...</td>\n",
              "      <td>True</td>\n",
              "    </tr>\n",
              "    <tr>\n",
              "      <th>226</th>\n",
              "      <td>КРИТЕРИИ ПРИ ПРИНЯТИИ ИНВЕСТИЦИОННЫХ РЕШЕНИЙ П...</td>\n",
              "      <td>https://cyberleninka.ru/article/n/kriterii-pri...</td>\n",
              "      <td>В статье рассматриваются и обосновываются крит...</td>\n",
              "      <td>economy</td>\n",
              "      <td>КРИТЕРИИ ПРИ ПРИНЯТИИ ИНВЕСТИЦИОННЫХ РЕШЕНИЙ П...</td>\n",
              "      <td>True</td>\n",
              "    </tr>\n",
              "    <tr>\n",
              "      <th>227</th>\n",
              "      <td>БЮДЖЕТИРОВАНИЕ КАК ИНСТРУМЕНТ УПРАВЛЕНИЯ ПРЕДП...</td>\n",
              "      <td>https://cyberleninka.ru/article/n/byudzhetirov...</td>\n",
              "      <td>Исследована сущность понятия &amp;#34;бюджетирован...</td>\n",
              "      <td>economy</td>\n",
              "      <td>БЮДЖЕТИРОВАНИЕ КАК ИНСТРУМЕНТ УПРАВЛЕНИЯ ПРЕДП...</td>\n",
              "      <td>True</td>\n",
              "    </tr>\n",
              "    <tr>\n",
              "      <th>228</th>\n",
              "      <td>ОСОБЕННОСТИ ОРГАНИЗАЦИИ УПРАВЛЕНИЯ НА ПРЕДПРИЯТИИ</td>\n",
              "      <td>https://cyberleninka.ru/article/n/osobennosti-...</td>\n",
              "      <td>В данной статье выявляется актуальность данног...</td>\n",
              "      <td>economy</td>\n",
              "      <td>ОСОБЕННОСТИ ОРГАНИЗАЦИИ УПРАВЛЕНИЯ НА ПРЕДПРИЯ...</td>\n",
              "      <td>True</td>\n",
              "    </tr>\n",
              "    <tr>\n",
              "      <th>231</th>\n",
              "      <td>РАЗВИТИЕ ВНЕШНЕЙ ТОРГОВЛИ РОССИИ СО СТРАНАМИ СНГ</td>\n",
              "      <td>https://cyberleninka.ru/article/n/razvitie-vne...</td>\n",
              "      <td>В данной статье рассмотрены структура и динами...</td>\n",
              "      <td>economy</td>\n",
              "      <td>РАЗВИТИЕ ВНЕШНЕЙ ТОРГОВЛИ РОССИИ СО СТРАНАМИ С...</td>\n",
              "      <td>True</td>\n",
              "    </tr>\n",
              "  </tbody>\n",
              "</table>\n",
              "<p>5586 rows × 6 columns</p>\n",
              "</div>\n",
              "    <div class=\"colab-df-buttons\">\n",
              "\n",
              "  <div class=\"colab-df-container\">\n",
              "    <button class=\"colab-df-convert\" onclick=\"convertToInteractive('df-56dcd8cb-c347-416e-be01-d0d091d79569')\"\n",
              "            title=\"Convert this dataframe to an interactive table.\"\n",
              "            style=\"display:none;\">\n",
              "\n",
              "  <svg xmlns=\"http://www.w3.org/2000/svg\" height=\"24px\" viewBox=\"0 -960 960 960\">\n",
              "    <path d=\"M120-120v-720h720v720H120Zm60-500h600v-160H180v160Zm220 220h160v-160H400v160Zm0 220h160v-160H400v160ZM180-400h160v-160H180v160Zm440 0h160v-160H620v160ZM180-180h160v-160H180v160Zm440 0h160v-160H620v160Z\"/>\n",
              "  </svg>\n",
              "    </button>\n",
              "\n",
              "  <style>\n",
              "    .colab-df-container {\n",
              "      display:flex;\n",
              "      gap: 12px;\n",
              "    }\n",
              "\n",
              "    .colab-df-convert {\n",
              "      background-color: #E8F0FE;\n",
              "      border: none;\n",
              "      border-radius: 50%;\n",
              "      cursor: pointer;\n",
              "      display: none;\n",
              "      fill: #1967D2;\n",
              "      height: 32px;\n",
              "      padding: 0 0 0 0;\n",
              "      width: 32px;\n",
              "    }\n",
              "\n",
              "    .colab-df-convert:hover {\n",
              "      background-color: #E2EBFA;\n",
              "      box-shadow: 0px 1px 2px rgba(60, 64, 67, 0.3), 0px 1px 3px 1px rgba(60, 64, 67, 0.15);\n",
              "      fill: #174EA6;\n",
              "    }\n",
              "\n",
              "    .colab-df-buttons div {\n",
              "      margin-bottom: 4px;\n",
              "    }\n",
              "\n",
              "    [theme=dark] .colab-df-convert {\n",
              "      background-color: #3B4455;\n",
              "      fill: #D2E3FC;\n",
              "    }\n",
              "\n",
              "    [theme=dark] .colab-df-convert:hover {\n",
              "      background-color: #434B5C;\n",
              "      box-shadow: 0px 1px 3px 1px rgba(0, 0, 0, 0.15);\n",
              "      filter: drop-shadow(0px 1px 2px rgba(0, 0, 0, 0.3));\n",
              "      fill: #FFFFFF;\n",
              "    }\n",
              "  </style>\n",
              "\n",
              "    <script>\n",
              "      const buttonEl =\n",
              "        document.querySelector('#df-56dcd8cb-c347-416e-be01-d0d091d79569 button.colab-df-convert');\n",
              "      buttonEl.style.display =\n",
              "        google.colab.kernel.accessAllowed ? 'block' : 'none';\n",
              "\n",
              "      async function convertToInteractive(key) {\n",
              "        const element = document.querySelector('#df-56dcd8cb-c347-416e-be01-d0d091d79569');\n",
              "        const dataTable =\n",
              "          await google.colab.kernel.invokeFunction('convertToInteractive',\n",
              "                                                    [key], {});\n",
              "        if (!dataTable) return;\n",
              "\n",
              "        const docLinkHtml = 'Like what you see? Visit the ' +\n",
              "          '<a target=\"_blank\" href=https://colab.research.google.com/notebooks/data_table.ipynb>data table notebook</a>'\n",
              "          + ' to learn more about interactive tables.';\n",
              "        element.innerHTML = '';\n",
              "        dataTable['output_type'] = 'display_data';\n",
              "        await google.colab.output.renderOutput(dataTable, element);\n",
              "        const docLink = document.createElement('div');\n",
              "        docLink.innerHTML = docLinkHtml;\n",
              "        element.appendChild(docLink);\n",
              "      }\n",
              "    </script>\n",
              "  </div>\n",
              "\n",
              "\n",
              "<div id=\"df-4b12b96d-3f3a-41f3-927c-309a17e65a11\">\n",
              "  <button class=\"colab-df-quickchart\" onclick=\"quickchart('df-4b12b96d-3f3a-41f3-927c-309a17e65a11')\"\n",
              "            title=\"Suggest charts\"\n",
              "            style=\"display:none;\">\n",
              "\n",
              "<svg xmlns=\"http://www.w3.org/2000/svg\" height=\"24px\"viewBox=\"0 0 24 24\"\n",
              "     width=\"24px\">\n",
              "    <g>\n",
              "        <path d=\"M19 3H5c-1.1 0-2 .9-2 2v14c0 1.1.9 2 2 2h14c1.1 0 2-.9 2-2V5c0-1.1-.9-2-2-2zM9 17H7v-7h2v7zm4 0h-2V7h2v10zm4 0h-2v-4h2v4z\"/>\n",
              "    </g>\n",
              "</svg>\n",
              "  </button>\n",
              "\n",
              "<style>\n",
              "  .colab-df-quickchart {\n",
              "      --bg-color: #E8F0FE;\n",
              "      --fill-color: #1967D2;\n",
              "      --hover-bg-color: #E2EBFA;\n",
              "      --hover-fill-color: #174EA6;\n",
              "      --disabled-fill-color: #AAA;\n",
              "      --disabled-bg-color: #DDD;\n",
              "  }\n",
              "\n",
              "  [theme=dark] .colab-df-quickchart {\n",
              "      --bg-color: #3B4455;\n",
              "      --fill-color: #D2E3FC;\n",
              "      --hover-bg-color: #434B5C;\n",
              "      --hover-fill-color: #FFFFFF;\n",
              "      --disabled-bg-color: #3B4455;\n",
              "      --disabled-fill-color: #666;\n",
              "  }\n",
              "\n",
              "  .colab-df-quickchart {\n",
              "    background-color: var(--bg-color);\n",
              "    border: none;\n",
              "    border-radius: 50%;\n",
              "    cursor: pointer;\n",
              "    display: none;\n",
              "    fill: var(--fill-color);\n",
              "    height: 32px;\n",
              "    padding: 0;\n",
              "    width: 32px;\n",
              "  }\n",
              "\n",
              "  .colab-df-quickchart:hover {\n",
              "    background-color: var(--hover-bg-color);\n",
              "    box-shadow: 0 1px 2px rgba(60, 64, 67, 0.3), 0 1px 3px 1px rgba(60, 64, 67, 0.15);\n",
              "    fill: var(--button-hover-fill-color);\n",
              "  }\n",
              "\n",
              "  .colab-df-quickchart-complete:disabled,\n",
              "  .colab-df-quickchart-complete:disabled:hover {\n",
              "    background-color: var(--disabled-bg-color);\n",
              "    fill: var(--disabled-fill-color);\n",
              "    box-shadow: none;\n",
              "  }\n",
              "\n",
              "  .colab-df-spinner {\n",
              "    border: 2px solid var(--fill-color);\n",
              "    border-color: transparent;\n",
              "    border-bottom-color: var(--fill-color);\n",
              "    animation:\n",
              "      spin 1s steps(1) infinite;\n",
              "  }\n",
              "\n",
              "  @keyframes spin {\n",
              "    0% {\n",
              "      border-color: transparent;\n",
              "      border-bottom-color: var(--fill-color);\n",
              "      border-left-color: var(--fill-color);\n",
              "    }\n",
              "    20% {\n",
              "      border-color: transparent;\n",
              "      border-left-color: var(--fill-color);\n",
              "      border-top-color: var(--fill-color);\n",
              "    }\n",
              "    30% {\n",
              "      border-color: transparent;\n",
              "      border-left-color: var(--fill-color);\n",
              "      border-top-color: var(--fill-color);\n",
              "      border-right-color: var(--fill-color);\n",
              "    }\n",
              "    40% {\n",
              "      border-color: transparent;\n",
              "      border-right-color: var(--fill-color);\n",
              "      border-top-color: var(--fill-color);\n",
              "    }\n",
              "    60% {\n",
              "      border-color: transparent;\n",
              "      border-right-color: var(--fill-color);\n",
              "    }\n",
              "    80% {\n",
              "      border-color: transparent;\n",
              "      border-right-color: var(--fill-color);\n",
              "      border-bottom-color: var(--fill-color);\n",
              "    }\n",
              "    90% {\n",
              "      border-color: transparent;\n",
              "      border-bottom-color: var(--fill-color);\n",
              "    }\n",
              "  }\n",
              "</style>\n",
              "\n",
              "  <script>\n",
              "    async function quickchart(key) {\n",
              "      const quickchartButtonEl =\n",
              "        document.querySelector('#' + key + ' button');\n",
              "      quickchartButtonEl.disabled = true;  // To prevent multiple clicks.\n",
              "      quickchartButtonEl.classList.add('colab-df-spinner');\n",
              "      try {\n",
              "        const charts = await google.colab.kernel.invokeFunction(\n",
              "            'suggestCharts', [key], {});\n",
              "      } catch (error) {\n",
              "        console.error('Error during call to suggestCharts:', error);\n",
              "      }\n",
              "      quickchartButtonEl.classList.remove('colab-df-spinner');\n",
              "      quickchartButtonEl.classList.add('colab-df-quickchart-complete');\n",
              "    }\n",
              "    (() => {\n",
              "      let quickchartButtonEl =\n",
              "        document.querySelector('#df-4b12b96d-3f3a-41f3-927c-309a17e65a11 button');\n",
              "      quickchartButtonEl.style.display =\n",
              "        google.colab.kernel.accessAllowed ? 'block' : 'none';\n",
              "    })();\n",
              "  </script>\n",
              "</div>\n",
              "    </div>\n",
              "  </div>\n"
            ],
            "application/vnd.google.colaboratory.intrinsic+json": {
              "type": "dataframe",
              "variable_name": "g",
              "summary": "{\n  \"name\": \"g\",\n  \"rows\": 5586,\n  \"fields\": [\n    {\n      \"column\": \"title\",\n      \"properties\": {\n        \"dtype\": \"string\",\n        \"num_unique_values\": 5579,\n        \"samples\": [\n          \"\\u0418\\u0441\\u0441\\u043b\\u0435\\u0434\\u043e\\u0432\\u0430\\u043d\\u0438\\u0435 \\u0438 \\u043c\\u043e\\u0434\\u0435\\u043b\\u0438\\u0440\\u043e\\u0432\\u0430\\u043d\\u0438\\u0435 \\u043a\\u043e\\u043d\\u0432\\u0435\\u0439\\u0435\\u0440\\u043d\\u044b\\u0445 \\u0430\\u043b\\u0433\\u043e\\u0440\\u0438\\u0442\\u043c\\u043e\\u0432 \\u0440\\u0430\\u0441\\u0447\\u0435\\u0442\\u0430 \\u0444\\u0430\\u0437\\u044b \\u043f\\u043e \\u043a\\u0432\\u0430\\u0434\\u0440\\u0430\\u0442\\u0443\\u0440\\u0430\\u043c\",\n          \"\\u041f\\u043e\\u0434\\u0445\\u043e\\u0434\\u044b \\u043a \\u0441\\u043e\\u0432\\u0435\\u0440\\u0448\\u0435\\u043d\\u0441\\u0442\\u0432\\u043e\\u0432\\u0430\\u043d\\u0438\\u044e \\u0442\\u0435\\u043b\\u0435\\u043a\\u043e\\u0434\\u043e\\u0432\\u043e\\u0439 \\u0430\\u043f\\u043f\\u0430\\u0440\\u0430\\u0442\\u0443\\u0440\\u044b \\u0441\\u0432\\u044f\\u0437\\u0438 \\u0434\\u043b\\u044f \\u043e\\u0431\\u043c\\u0435\\u043d\\u0430 \\u0434\\u0430\\u043d\\u043d\\u044b\\u043c\\u0438 \\u0441 \\u0430\\u0432\\u0438\\u0430\\u0446\\u0438\\u043e\\u043d\\u043d\\u044b\\u043c\\u0438 \\u043a\\u043e\\u043c\\u043f\\u043b\\u0435\\u043a\\u0441\\u0430\\u043c\\u0438\",\n          \"\\u0423\\u0421\\u0422\\u0420\\u041e\\u0419\\u0421\\u0422\\u0412\\u0410 \\u041a\\u041e\\u041d\\u0422\\u0420\\u041e\\u041b\\u042f \\u041f\\u0410\\u0420\\u0410\\u041c\\u0415\\u0422\\u0420\\u041e\\u0412 \\u0410\\u0412\\u0422\\u041e\\u041c\\u0410\\u0422\\u0418\\u0427\\u0415\\u0421\\u041a\\u041e\\u0419 \\u041b\\u041e\\u041a\\u041e\\u041c\\u041e\\u0422\\u0418\\u0412\\u041d\\u041e\\u0419 \\u0421\\u0418\\u0413\\u041d\\u0410\\u041b\\u0418\\u0417\\u0410\\u0426\\u0418\\u0418 \\u041d\\u0410 \\u0411\\u0410\\u0417\\u0415 \\u041c\\u0418\\u041a\\u0420\\u041e\\u041f\\u0420\\u041e\\u0426\\u0415\\u0421\\u0421\\u041e\\u0420\\u041d\\u042b\\u0425 \\u042d\\u041b\\u0415\\u041c\\u0415\\u041d\\u0422\\u041e\\u0412\"\n        ],\n        \"semantic_type\": \"\",\n        \"description\": \"\"\n      }\n    },\n    {\n      \"column\": \"link\",\n      \"properties\": {\n        \"dtype\": \"string\",\n        \"num_unique_values\": 5586,\n        \"samples\": [\n          \"https://cyberleninka.ru/article/n/issledovanie-dzhouleva-razogreva-oksida-alyuminiya-v-protsesse-elektrohimicheskogo-anodirovaniya\",\n          \"https://cyberleninka.ru/article/n/povyshenie-bezopasnosti-dvizheniya-poezdov-v-metropolitene-pri-neopredelennosti-informatsii-o-funktsionalnyh-otkazah-otdelnyh\",\n          \"https://cyberleninka.ru/article/n/parametricheskaya-robotizirovannaya-sistema-poiska-min-na-osnove-vzaimodeystviya-elektromagnitnyh-i-seysmicheskih-voln\"\n        ],\n        \"semantic_type\": \"\",\n        \"description\": \"\"\n      }\n    },\n    {\n      \"column\": \"desc\",\n      \"properties\": {\n        \"dtype\": \"string\",\n        \"num_unique_values\": 5581,\n        \"samples\": [\n          \"\\u0412 \\u0440\\u0430\\u043c\\u043a\\u0430\\u0445 \\u0440\\u0430\\u0437\\u0440\\u0430\\u0431\\u043e\\u0442\\u043a\\u0438 \\u043e\\u0442\\u0435\\u0447\\u0435\\u0441\\u0442\\u0432\\u0435\\u043d\\u043d\\u044b\\u0445 \\u0421\\u0410\\u041f\\u0420 \\u0434\\u043b\\u044f \\u0432\\u0435\\u0440\\u0438\\u0444\\u0438\\u043a\\u0430\\u0446\\u0438\\u0438 \\u043d\\u043e\\u0440\\u043c \\u043a\\u043e\\u043d\\u0441\\u0442\\u0440\\u0443\\u043a\\u0442\\u043e\\u0440\\u0441\\u043a\\u043e\\u0442\\u0435\\u0445\\u043d\\u043e\\u043b\\u043e\\u0433\\u0438\\u0447\\u0435\\u0441\\u043a\\u0438\\u0445 \\u043e\\u0433\\u0440\\u0430\\u043d\\u0438\\u0447\\u0435\\u043d\\u0438\\u0439 (\\u041a\\u0422\\u041e) \\u043d\\u0435\\u043e\\u0431\\u0445\\u043e\\u0434\\u0438\\u043c\\u0430 \\u0440\\u0430\\u0437\\u0440\\u0430\\u0431\\u043e\\u0442\\u043a\\u0430 \\u0431\\u0438\\u0431\\u043b\\u0438\\u043e\\u0442\\u0435\\u043a\\u0438 \\u0432\\u044b\\u043f\\u043e\\u043b\\u043d\\u0435\\u043d\\u0438\\u044f \\u043b\\u043e\\u0433\\u0438\\u0447\\u0435\\u0441\\u043a\\u0438\\u0445 \\u043e\\u043f\\u0435\\u0440\\u0430\\u0446\\u0438\\u0439 \\u043d\\u0430\\u0434 \\u043e\\u0440\\u0442\\u043e\\u0433\\u043e\\u043d\\u0430\\u043b\\u044c\\u043d\\u044b\\u043c\\u0438 \\u043c\\u043d\\u043e\\u0433\\u043e\\u0443\\u0433\\u043e\\u043b\\u044c\\u043d\\u0438\\u043a\\u0430\\u043c\\u0438 \\u0441\\u043e\\u0441\\u0442\\u0430\\u0432\\u043b\\u044f\\u044e\\u0449\\u0438\\u043c\\u0438 \\u0442\\u043e\\u043f\\u043e\\u043b\\u043e\\u0433\\u0438\\u044e \\u0438\\u043d\\u0442\\u0435\\u0433\\u0440\\u0430\\u043b\\u044c\\u043d\\u043e\\u0439 \\u0441\\u0445\\u0435\\u043c\\u044b \\u0444\\u0443\\u043d\\u043a\\u0446\\u0438\\u0438 \\u0431\\u0438\\u0431\\u043b\\u0438\\u043e\\u0442\\u0435\\u043a\\u0438 \\u0432\\u044b\\u043f\\u043e\\u043b\\u043d\\u044f\\u044e\\u0442 \\u043e\\u043f\\u0435\\u0440\\u0430\\u0446\\u0438\\u0438 \\u043d\\u0430\\u0434 \\u0441\\u043b\\u043e\\u044f\\u043c\\u0438. \\u041f\\u043e\\u0434 \\u0441\\u043b\\u043e\\u0435\\u043c \\u043f\\u043e\\u043d\\u0438\\u043c\\u0430\\u0435\\u0442\\u0441\\u044f \\u043c\\u043d\\u043e\\u0436\\u0435\\u0441\\u0442\\u0432\\u043e \\u043e\\u0440\\u0442\\u043e\\u0433\\u043e\\u043d\\u0430\\u043b\\u044c\\u043d\\u044b\\u0445 \\u043f\\u0440\\u044f\\u043c\\u043e\\u0443\\u0433\\u043e\\u043b\\u044c\\u043d\\u0438\\u043a\\u043e\\u0432 (\\u043f\\u043e\\u043b\\u0438\\u0433\\u043e\\u043d\\u043e\\u0432). \\u041a \\u044d\\u0442\\u0438\\u043c \\u043e\\u043f\\u0435\\u0440\\u0430\\u0446\\u0438\\u044f\\u043c \\u043f\\u0440\\u0435\\u0434\\u044a\\u044f\\u0432\\u043b\\u044f\\u044e\\u0442\\u0441\\u044f \\u0436\\u0435\\u0441\\u0442\\u043a\\u0438\\u0435 \\u0442\\u0440\\u0435\\u0431\\u043e\\u0432\\u0430\\u043d\\u0438\\u044f \\u043f\\u043e \\u0432\\u0440\\u0435\\u043c\\u0435\\u043d\\u0438 \\u0432\\u044b\\u043f\\u043e\\u043b\\u043d\\u0435\\u043d\\u0438\\u044f. \\u0421\\u0443\\u0449\\u0435\\u0441\\u0442\\u0432\\u0443\\u0435\\u0442 \\u0440\\u0435\\u0430\\u043b\\u0438\\u0437\\u0430\\u0446\\u0438\\u044f \\u043f\\u043e\\u0441\\u0442\\u0440\\u043e\\u0435\\u043d\\u043d\\u0430\\u044f \\u043d\\u0430 \\u043e\\u0441\\u043d\\u043e\\u0432\\u0435 \\u0430\\u043b\\u0433\\u043e\\u0440\\u0438\\u0442\\u043c\\u0430 \\u0437\\u0430\\u043c\\u0435\\u0442\\u0430\\u044e\\u0449\\u0435\\u0439 \\u043f\\u0440\\u044f\\u043c\\u043e\\u0439 \\u0438 \\u043f\\u043e\\u0437\\u0432\\u043e\\u043b\\u044f\\u044e\\u0449\\u0430\\u044f \\u0434\\u043e\\u0431\\u0438\\u0442\\u044c\\u0441\\u044f \\u0432\\u0440\\u0435\\u043c\\u0435\\u043d\\u0438 \\u0440\\u0430\\u0431\\u043e\\u0442\\u044b \\u0430\\u043b\\u0433\\u043e\\u0440\\u0438\\u0442\\u043c\\u0430 \\u043f\\u043e\\u0440\\u044f\\u0434\\u043a\\u0430 O(NlogN). \\u0414\\u043b\\u044f \\u044d\\u0444\\u0444\\u0435\\u043a\\u0442\\u0438\\u0432\\u043d\\u043e\\u0433\\u043e \\u0444\\u0443\\u043d\\u043a\\u0446\\u0438\\u043e\\u043d\\u0438\\u0440\\u043e\\u0432\\u0430\\u043d\\u0438\\u044f \\u0432 \\u0432\\u044b\\u0441\\u043e\\u043a\\u043e\\u043f\\u0440\\u043e\\u0438\\u0437\\u0432\\u043e\\u0434\\u0438\\u0442\\u0435\\u043b\\u044c\\u043d\\u043e\\u0439 \\u0432\\u044b\\u0447\\u0438\\u0441\\u043b\\u0438\\u0442\\u0435\\u043b\\u044c\\u043d\\u043e\\u0439 \\u0441\\u0440\\u0435\\u0434\\u0435 \\u0440\\u0430\\u0437\\u0440\\u0430\\u0431\\u043e\\u0442\\u0430\\u043d\\u0430 \\u043f\\u0430\\u0440\\u0430\\u043b\\u043b\\u0435\\u043b\\u044c\\u043d\\u0430\\u044f \\u0440\\u0435\\u0430\\u043b\\u0438\\u0437\\u0430\\u0446\\u0438\\u044f \\u043e\\u0441\\u043d\\u043e\\u0432\\u0430\\u043d\\u043d\\u0430\\u044f \\u043d\\u0430 \\u0433\\u0435\\u043e\\u043c\\u0435\\u0442\\u0440\\u0438\\u0447\\u0435\\u0441\\u043a\\u043e\\u0439 \\u0434\\u0435\\u043a\\u043e\\u043c\\u043f\\u043e\\u0437\\u0438\\u0446\\u0438\\u0438 \\u0438\\u0441\\u0445\\u043e\\u0434\\u043d\\u044b\\u0445 \\u0434\\u0430\\u043d\\u043d\\u044b\\u0445. \\u041f\\u0440\\u043e\\u0432\\u0435\\u0434\\u0435\\u043d\\u043d\\u043e\\u0435 \\u0442\\u0435\\u043e\\u0440\\u0435\\u0442\\u0438\\u0447\\u0435\\u0441\\u043a\\u043e\\u0435 \\u0438\\u0441\\u0441\\u043b\\u0435\\u0434\\u043e\\u0432\\u0430\\u043d\\u0438\\u0435 \\u043f\\u043e\\u043a\\u0430\\u0437\\u0430\\u043b\\u043e \\u043b\\u0438\\u043d\\u0435\\u0439\\u043d\\u0443\\u044e \\u043c\\u0430\\u0441\\u0448\\u0442\\u0430\\u0431\\u0438\\u0440\\u043e\\u0432\\u0430\\u043d\\u043d\\u043e\\u0441\\u0442\\u044c \\u0434\\u0430\\u043d\\u043d\\u043e\\u0439 \\u0440\\u0435\\u0430\\u043b\\u0438\\u0437\\u0430\\u0446\\u0438\\u0438 \\u043d\\u0430 \\u0441\\u0438\\u0441\\u0442\\u0435\\u043c\\u0430\\u0445 \\u0441 \\u0440\\u0430\\u0441\\u043f\\u0440\\u0435\\u0434\\u0435\\u043b\\u0435\\u043d\\u043d\\u043e\\u0439 \\u043f\\u0430\\u043c\\u044f\\u0442\\u044c\\u044e \\u043d\\u043e \\u0440\\u0435\\u0430\\u043b\\u0438\\u0437\\u0430\\u0446\\u0438\\u044f \\u0432 \\u0432\\u0438\\u0434\\u0435 \\u043c\\u043d\\u043e\\u0433\\u043e\\u043f\\u043e\\u0442\\u043e\\u0447\\u043d\\u043e\\u0433\\u043e \\u043f\\u0440\\u0438\\u043b\\u043e\\u0436\\u0435\\u043d\\u0438\\u044f \\u0432\\u044b\\u044f\\u0432\\u0438\\u043b\\u0430 \\u043a\\u043e\\u043d\\u043a\\u0443\\u0440\\u0435\\u043d\\u0446\\u0438\\u044e \\u0437\\u0430 \\u0440\\u0430\\u0437\\u0434\\u0435\\u043b\\u044f\\u0435\\u043c\\u044b\\u0439 \\u0440\\u0435\\u0441\\u0443\\u0440\\u0441. \\u0412 \\u0440\\u0430\\u0431\\u043e\\u0442\\u0435 \\u043f\\u0440\\u0438\\u0432\\u043e\\u0434\\u044f\\u0442\\u0441\\u044f \\u0440\\u0435\\u0437\\u0443\\u043b\\u044c\\u0442\\u0430\\u0442\\u044b \\u0432\\u044b\\u0447\\u0438\\u0441\\u043b\\u0438\\u0442\\u0435\\u043b\\u044c\\u043d\\u043e\\u0433\\u043e \\u044d\\u043a\\u0441\\u043f\\u0435\\u0440\\u0438\\u043c\\u0435\\u043d\\u0442\\u0430 \\u0438 \\u043d\\u0430\\u043c\\u0435\\u0447\\u0430\\u044e\\u0442\\u0441\\u044f \\u043f\\u0443\\u0442\\u0438 \\u0443\\u0441\\u0442\\u0440\\u0430\\u043d\\u0435\\u043d\\u0438\\u044f \\u044d\\u0444\\u0444\\u0435\\u043a\\u0442\\u0430 \\u043a\\u043e\\u043d\\u043a\\u0443\\u0440\\u0435\\u043d\\u0446\\u0438\\u0438. \\u041f\\u0440\\u0435\\u0434\\u0441\\u0442\\u0430\\u0432\\u043b\\u0435\\u043d\\u043d\\u044b\\u0435 \\u0432 \\u0440\\u0430\\u0431\\u043e\\u0442\\u0435 \\u0440\\u0435\\u0430\\u043b\\u0438\\u0437\\u0430\\u0446\\u0438\\u0438 \\u0430\\u043b\\u0433\\u043e\\u0440\\u0438\\u0442\\u043c\\u043e\\u0432 \\u0438 \\u043f\\u0440\\u043e\\u0446\\u0435\\u0434\\u0443\\u0440 \\u0432\\u043e\\u0448\\u043b\\u0438 \\u0432 \\u0441\\u043e\\u0441\\u0442\\u0430\\u0432 \\u043f\\u043e\\u0434\\u043a\\u043b\\u044e\\u0447\\u0430\\u0435\\u043c\\u043e\\u0439 \\u0431\\u0438\\u0431\\u043b\\u0438\\u043e\\u0442\\u0435\\u043a\\u0438 \\u0444\\u0443\\u043d\\u043a\\u0446\\u0438\\u0439 \\u0440\\u0430\\u0431\\u043e\\u0442\\u044b \\u0441\\u043e \\u0441\\u043b\\u043e\\u044f\\u043c\\u0438 \\u0442\\u043e\\u043f\\u043e\\u043b\\u043e\\u0433\\u0438\\u0447\\u0435\\u0441\\u043a\\u043e\\u0433\\u043e \\u043e\\u043f\\u0438\\u0441\\u0430\\u043d\\u0438\\u044f \\u043a\\u043e\\u0442\\u043e\\u0440\\u0430\\u044f \\u0432 \\u0441\\u0432\\u043e\\u044e \\u043e\\u0447\\u0435\\u0440\\u0435\\u0434\\u044c \\u044f\\u0432\\u043b\\u044f\\u0435\\u0442\\u0441\\u044f \\u0447\\u0430\\u0441\\u0442\\u044c\\u044e \\u0440\\u0430\\u0437\\u0440\\u0430\\u0431\\u0430\\u0442\\u044b\\u0432\\u0430\\u0435\\u043c\\u043e\\u0439 \\u0441\\u0438\\u0441\\u0442\\u0435\\u043c\\u044b \\u0432\\u0435\\u0440\\u0438\\u0444\\u0438\\u043a\\u0430\\u0446\\u0438\\u0438 \\u043d\\u043e\\u0440\\u043c \\u041a\\u0422\\u041e. \\u0414\\u0430\\u043d\\u043d\\u0430\\u044f \\u0431\\u0438\\u0431\\u043b\\u0438\\u043e\\u0442\\u0435\\u043a\\u0430 \\u0440\\u0435\\u0430\\u043b\\u0438\\u0437\\u043e\\u0432\\u0430\\u043d\\u0430 \\u043d\\u0430 \\u044f\\u0437\\u044b\\u043a\\u0435 C&#43;&#43; \\u0441 \\u0438\\u0441\\u043f\\u043e\\u043b\\u044c\\u0437\\u043e\\u0432\\u0430\\u043d\\u0438\\u0435\\u043c \\u0441\\u0442\\u0430\\u043d\\u0434\\u0430\\u0440\\u0442\\u0430 \\u0421&#43;&#43;17. \\u0418\\u043c\\u043f\\u043b\\u0435\\u043c\\u0435\\u043d\\u0442\\u0430\\u0446\\u0438\\u044f \\u043f\\u0430\\u0440\\u0430\\u043b\\u043b\\u0435\\u043b\\u044c\\u043d\\u044b\\u0445 \\u0441\\u0445\\u0435\\u043c \\u0440\\u0435\\u0430\\u043b\\u0438\\u0437\\u0430\\u0446\\u0438\\u0438 \\u043b\\u043e\\u0433\\u0438\\u0447\\u0435\\u0441\\u043a\\u0438\\u0445 \\u043e\\u043f\\u0435\\u0440\\u0430\\u0446\\u0438\\u0439 \\u0432\\u044b\\u043f\\u043e\\u043b\\u043d\\u0435\\u043d\\u0430 \\u0441 \\u0438\\u0441\\u043f\\u043e\\u043b\\u044c\\u0437\\u043e\\u0432\\u0430\\u043d\\u0438\\u0435\\u043c \\u0431\\u0438\\u0431\\u043b\\u0438\\u043e\\u0442\\u0435\\u043a\\u0438 \\u041e\\u0440\\u0435\\u043f\\u041c\\u0420.\",\n          \"\\u041f\\u0440\\u0435\\u0434\\u043c\\u0435\\u0442\\u043e\\u043c \\u0438\\u0441\\u0441\\u043b\\u0435\\u0434\\u043e\\u0432\\u0430\\u043d\\u0438\\u044f \\u0432 \\u0434\\u0430\\u043d\\u043d\\u043e\\u0439 \\u0440\\u0430\\u0431\\u043e\\u0442\\u0435 \\u044f\\u0432\\u043b\\u044f\\u0435\\u0442\\u0441\\u044f \\u0430\\u0434\\u0430\\u043f\\u0442\\u0438\\u0432\\u043d\\u0430\\u044f \\u0442\\u0435\\u0445\\u043d\\u043e\\u043b\\u043e\\u0433\\u0438\\u044f \\u0440\\u0430\\u0441\\u0447\\u0435\\u0442\\u0430 \\u0434\\u043b\\u044f \\u0440\\u0430\\u0437\\u043d\\u043e\\u0441\\u0442\\u043d\\u044b\\u0445 \\u0441\\u0445\\u0435\\u043c \\u043f\\u043e\\u0432\\u044b\\u0448\\u0435\\u043d\\u043d\\u043e\\u0439 \\u0442\\u043e\\u0447\\u043d\\u043e\\u0441\\u0442\\u0438. \\u0418\\u0441\\u0441\\u043b\\u0435\\u0434\\u0443\\u0435\\u0442\\u0441\\u044f \\u043a\\u043e\\u043c\\u043f\\u0430\\u043a\\u0442\\u043d\\u0430\\u044f \\u0440\\u0430\\u0437\\u043d\\u043e\\u0441\\u0442\\u043d\\u0430\\u044f \\u0441\\u0445\\u0435\\u043c\\u0430 \\u043a\\u043e\\u0442\\u043e\\u0440\\u0430\\u044f \\u0430\\u043f\\u043f\\u0440\\u043e\\u043a\\u0441\\u0438\\u043c\\u0438\\u0440\\u0443\\u0435\\u0442 \\u0432\\u043e\\u043b\\u043d\\u043e\\u0432\\u043e\\u0435 \\u0443\\u0440\\u0430\\u0432\\u043d\\u0435\\u043d\\u0438\\u0435 \\u0441 \\u0442\\u0440\\u0435\\u0442\\u044c\\u0438\\u043c \\u043f\\u043e\\u0440\\u044f\\u0434\\u043a\\u043e\\u043c \\u043d\\u0430 \\u043d\\u0435\\u0440\\u0430\\u0432\\u043d\\u043e\\u043c\\u0435\\u0440\\u043d\\u043e\\u0439 \\u043f\\u0440\\u043e\\u0441\\u0442\\u0440\\u0430\\u043d\\u0441\\u0442\\u0432\\u0435\\u043d\\u043d\\u043e\\u0439 \\u0441\\u0435\\u0442\\u043a\\u0435 \\u0438 \\u0441 \\u0447\\u0435\\u0442\\u0432\\u0435\\u0440\\u0442\\u044b\\u043c \\u043f\\u043e\\u0440\\u044f\\u0434\\u043a\\u043e\\u043c \\u043e\\u0442\\u043d\\u043e\\u0441\\u0438\\u0442\\u0435\\u043b\\u044c\\u043d\\u043e \\u043f\\u043e\\u0441\\u0442\\u043e\\u044f\\u043d\\u043d\\u043e\\u0433\\u043e \\u0432\\u0440\\u0435\\u043c\\u0435\\u043d\\u043do\\u0433\\u043e \\u0448\\u0430\\u0433\\u0430. \\u0421\\u0435\\u0442\\u043a\\u0430 \\u043f\\u0435\\u0440\\u0435\\u0441\\u0442\\u0440\\u0430\\u0438\\u0432\\u0430\\u0435\\u0442\\u0441\\u044f \\u043d\\u0430 \\u043a\\u0430\\u0436\\u0434\\u043e\\u043c \\u0448\\u0430\\u0433\\u0435 \\u043f\\u043e \\u0432\\u0440\\u0435\\u043c\\u0435\\u043d\\u0438 \\u043f\\u043e\\u0447\\u0442\\u0438 \\u043a\\u043b\\u0430\\u0441\\u0441\\u0438\\u0447\\u0435\\u0441\\u043a\\u0438\\u043c \\u043c\\u0435\\u0442\\u043e\\u0434\\u043e\\u043c \\u043e\\u0434\\u043d\\u0430\\u043a\\u043e \\u0432 \\u0434\\u043e\\u043f\\u043e\\u043b\\u043d\\u0435\\u043d\\u0438\\u0435 \\u043a \\u043d\\u0435\\u043c\\u0443 \\u043f\\u0440\\u0435\\u0434\\u043b\\u0430\\u0433\\u0430\\u0435\\u0442\\u0441\\u044f \\u044d\\u0444\\u0444\\u0435\\u043a\\u0442\\u0438\\u0432\\u043d\\u044b\\u0439 \\u0441\\u043f\\u043e\\u0441\\u043e\\u0431 \\u043a\\u043e\\u0440\\u0440\\u0435\\u043a\\u0446\\u0438\\u0438 \\u0441\\u0435\\u0442\\u043a\\u0438. \\u042d\\u0442\\u0430 \\u043e\\u043f\\u0435\\u0440\\u0430\\u0446\\u0438\\u044f \\u043e\\u0440\\u0438\\u0435\\u043d\\u0442\\u0438\\u0440\\u043e\\u0432\\u0430\\u043d\\u0430 \\u043d\\u0430 \\u0441\\u0433\\u043b\\u0430\\u0436\\u0438\\u0432\\u0430\\u043d\\u0438\\u0435 \\u0441\\u043b\\u0438\\u0448\\u043a\\u043e\\u043c \\u0440\\u0435\\u0437\\u043a\\u043e\\u0433\\u043e \\u0438\\u0437\\u043c\\u0435\\u043d\\u0435\\u043d\\u0438\\u044f \\u043f\\u0440\\u043e\\u0441\\u0442\\u0440\\u0430\\u043d\\u0441\\u0442\\u0432\\u0435\\u043d\\u043d\\u043e\\u0433\\u043e \\u0448\\u0430\\u0433\\u0430 \\u0432 \\u043e\\u0431\\u043b\\u0430\\u0441\\u0442\\u044f\\u0445 \\u0437\\u043d\\u0430\\u0447\\u0438\\u0442\\u0435\\u043b\\u044c\\u043d\\u043e\\u0439 \\u043a\\u0440\\u0438\\u0432\\u0438\\u0437\\u043d\\u044b. \\u0422\\u0430\\u043a\\u0438\\u0435 \\u043e\\u0431\\u043b\\u0430\\u0441\\u0442\\u0438 \\u0440\\u0430\\u0441\\u043f\\u043e\\u043b\\u043e\\u0436\\u0435\\u043d\\u044b \\u043d\\u0430\\u043f\\u0440\\u0438\\u043c\\u0435\\u0440 \\u0432 \\u0432\\u0435\\u0440\\u0448\\u0438\\u043d\\u0430\\u0445 \\u0438 \\u0443 \\u201c\\u043f\\u043e\\u0434\\u043d\\u043e\\u0436\\u0438\\u044f\\u201d \\u0441\\u043e\\u043b\\u0438\\u0442\\u043e\\u043d\\u043e\\u0432 \\u0438\\u043b\\u0438 \\u0432\\u0431\\u043b\\u0438\\u0437\\u0438 \\u0444\\u0440\\u043e\\u043d\\u0442\\u043e\\u0432 \\u0443\\u0434\\u0430\\u0440\\u043d\\u044b\\u0445 \\u043f\\u0435\\u0440\\u0435\\u0445\\u043e\\u0434\\u043e\\u0432. \\u0412 \\u0440\\u0430\\u0431\\u043e\\u0442\\u0435 \\u043f\\u0440\\u043e\\u0432\\u0435\\u0434\\u0435\\u043d\\u044b \\u0447\\u0438\\u0441\\u043b\\u0435\\u043d\\u043d\\u044b\\u0435 \\u044d\\u043a\\u0441\\u043f\\u0435\\u0440\\u0438\\u043c\\u0435\\u043d\\u0442\\u044b \\u043d\\u0430 \\u0442\\u043e\\u0447\\u043d\\u044b\\u0445 \\u0440\\u0435\\u0448\\u0435\\u043d\\u0438\\u044f\\u0445 \\u0432 \\u0432\\u0438\\u0434\\u0435 \\u0441\\u0433\\u043b\\u0430\\u0436\\u0435\\u043d\\u043d\\u044b\\u0445 \\u0443\\u0434\\u0430\\u0440\\u043d\\u044b\\u0445 \\u0432\\u043e\\u043b\\u043d \\u0441\\u043e\\u043b\\u0438\\u0442\\u043e\\u043d\\u043e\\u0432 \\u0430 \\u0442\\u0430\\u043a\\u0436\\u0435 \\u0438\\u0445 \\u043a\\u043e\\u043c\\u0431\\u0438\\u043d\\u0430\\u0446\\u0438\\u0439. \\u0412\\u044b\\u043f\\u043e\\u043b\\u043d\\u0435\\u043d\\u043e \\u0441\\u0440\\u0430\\u0432\\u043d\\u0435\\u043d\\u0438\\u0435 \\u0441 \\u0434\\u0440\\u0443\\u0433\\u0438\\u043c\\u0438 \\u043c\\u0435\\u0442\\u043e\\u0434\\u0430\\u043c\\u0438.\",\n          \"\\u0414\\u0430\\u0435\\u0442\\u0441\\u044f \\u043a\\u0440\\u0430\\u0442\\u043a\\u0438\\u0439 \\u043e\\u0431\\u0437\\u043e\\u0440 \\u0434\\u0438\\u0441\\u0442\\u0430\\u043d\\u0446\\u0438\\u043e\\u043d\\u043d\\u044b\\u0445 \\u043f\\u0430\\u0440\\u0430\\u043c\\u0435\\u0442\\u0440\\u0438\\u0447\\u0435\\u0441\\u043a\\u0438\\u0445 \\u043c\\u0435\\u0442\\u043e\\u0434\\u043e\\u0432 \\u043f\\u043e\\u0438\\u0441\\u043a\\u0430 \\u043c\\u0438\\u043d \\u0438 \\u043c\\u0438\\u043d\\u043d\\u044b\\u0445 \\u043f\\u043e\\u043b\\u0435\\u0439. \\u041e\\u043f\\u0438\\u0441\\u044b\\u0432\\u0430\\u044e\\u0442\\u0441\\u044f \\u0444\\u0438\\u0437\\u0438\\u0447\\u0435\\u0441\\u043a\\u0438\\u0435 \\u043e\\u0441\\u043d\\u043e\\u0432\\u044b \\u0434\\u0438\\u0441\\u0442\\u0430\\u043d\\u0446\\u0438\\u043e\\u043d\\u043d\\u043e\\u0433\\u043e \\u043c\\u0435\\u0442\\u043e\\u0434\\u0430 \\u043e\\u0431\\u043d\\u0430\\u0440\\u0443\\u0436\\u0435\\u043d\\u0438\\u044f \\u043f\\u043e\\u0434\\u043f\\u043e\\u0432\\u0435\\u0440\\u0445\\u043d\\u043e\\u0441\\u0442\\u043d\\u044b\\u0445 \\u043e\\u0431\\u044a\\u0435\\u043a\\u0442\\u043e\\u0432 \\u0442\\u0438\\u043f\\u0430 \\u043c\\u0438\\u043d \\u0432 \\u0437\\u0435\\u043c\\u043b\\u0435 \\u043d\\u0430 \\u043e\\u0441\\u043d\\u043e\\u0432\\u0435 \\u0432\\u043e\\u0437\\u0431\\u0443\\u0436\\u0434\\u0435\\u043d\\u0438\\u044f \\u0432\\u0434\\u043e\\u043b\\u044c \\u0433\\u0440\\u0430\\u043d\\u0438\\u0446\\u044b \\u0440\\u0430\\u0437\\u0434\\u0435\\u043b\\u0430 \\u0437\\u0435\\u043c\\u043b\\u044f-\\u0432\\u043e\\u0437\\u0434\\u0443\\u0445 \\u0443\\u0434\\u0430\\u0440\\u043d\\u044b\\u0445 \\u0441\\u0435\\u0439\\u0441\\u043c\\u0438\\u0447\\u0435\\u0441\\u043a\\u0438\\u0445 \\u0432\\u043e\\u043b\\u043d \\u0420\\u0435\\u043b\\u0435\\u044f \\u0438 \\u0440\\u0435\\u0433\\u0438\\u0441\\u0442\\u0440\\u0430\\u0446\\u0438\\u0438 \\u0440\\u0430\\u0434\\u0438\\u043e\\u043b\\u043e\\u043a\\u0430\\u0446\\u0438\\u043e\\u043d\\u043d\\u044b\\u043c \\u043c\\u0435\\u0442\\u043e\\u0434\\u043e\\u043c \\u0434\\u043e\\u043f\\u043b\\u0435\\u0440\\u043e\\u0432\\u0441\\u043a\\u043e\\u0433\\u043e \\u0441\\u0434\\u0432\\u0438\\u0433\\u0430 \\u0444\\u0430\\u0437  \\u0432\\u043e\\u0437\\u043d\\u0438\\u043a\\u0430\\u044e\\u0449\\u0435\\u0433\\u043e \\u043f\\u043e\\u0434 \\u0434\\u0435\\u0439\\u0441\\u0442\\u0432\\u0438\\u0435\\u043c \\u0441\\u0435\\u0439\\u0441\\u043c\\u0438\\u0447\\u0435\\u0441\\u043a\\u0438\\u0445 \\u0443\\u0434\\u0430\\u0440\\u043e\\u0432 \\u0432\\u0438\\u0431\\u0440\\u0430\\u0446\\u0438\\u0439 \\u043a\\u043e\\u0440\\u043f\\u0443\\u0441\\u0430 \\u043e\\u0431\\u044a\\u0435\\u043a\\u0442\\u0430 \\u043f\\u043e\\u0438\\u0441\\u043a\\u0430. \\u0418\\u0437\\u043b\\u043e\\u0436\\u0435\\u043d\\u044b \\u0441\\u043e\\u043e\\u0431\\u0440\\u0430\\u0436\\u0435\\u043d\\u0438\\u044f \\u043f\\u043e \\u0430\\u043f\\u043f\\u0430\\u0440\\u0430\\u0442\\u043d\\u043e\\u0439 \\u0440\\u0435\\u0430\\u043b\\u0438\\u0437\\u0430\\u0446\\u0438\\u0438 \\u043d\\u043e\\u0432\\u043e\\u0433\\u043e \\u043c\\u0435\\u0442\\u043e\\u0434\\u0430  \\u0434\\u0430\\u0435\\u0442\\u0441\\u044f \\u043e\\u0446\\u0435\\u043d\\u043a\\u0430 \\u043a\\u043e\\u043b\\u0438\\u0447\\u0435\\u0441\\u0442\\u0432\\u0435\\u043d\\u043d\\u044b\\u0445 \\u0441\\u043e\\u043e\\u0442\\u043d\\u043e\\u0448\\u0435\\u043d\\u0438\\u0439 \\u0432 \\u0440\\u0430\\u0434\\u0438\\u043e\\u043a\\u0430\\u043d\\u0430\\u043b\\u0435 \\u0440\\u0430\\u0434\\u0438\\u043e\\u043b\\u043e\\u043a\\u0430\\u0446\\u0438\\u043e\\u043d\\u043d\\u043e\\u0439 \\u0441\\u0438\\u0441\\u0442\\u0435\\u043c\\u044b.\"\n        ],\n        \"semantic_type\": \"\",\n        \"description\": \"\"\n      }\n    },\n    {\n      \"column\": \"Topic\",\n      \"properties\": {\n        \"dtype\": \"category\",\n        \"num_unique_values\": 4,\n        \"samples\": [\n          \"computer_science\",\n          \"economy\",\n          \"electricity_and_info\"\n        ],\n        \"semantic_type\": \"\",\n        \"description\": \"\"\n      }\n    },\n    {\n      \"column\": \"FullText\",\n      \"properties\": {\n        \"dtype\": \"string\",\n        \"num_unique_values\": 5582,\n        \"samples\": [\n          \"\\u041c\\u041e\\u0414\\u0415\\u041b\\u0418\\u0420\\u041e\\u0412\\u0410\\u041d\\u0418\\u0415 \\u0421\\u0418\\u0421\\u0422\\u0415\\u041c\\u042b \\u0411\\u0415\\u0417\\u041e\\u041f\\u0410\\u0421\\u041d\\u041e\\u0421\\u0422\\u0418 \\u0418\\u041d\\u0424\\u041e\\u0420\\u041c\\u0410\\u0426\\u0418\\u0418 \\u041d\\u0410 \\u0417\\u0410\\u0429\\u0418\\u0429\\u0410\\u0415\\u041c\\u042b\\u0425 \\u041e\\u0411\\u042a\\u0415\\u041a\\u0422\\u0410\\u0425 \\u041f\\u0440\\u043e\\u0430\\u043d\\u0430\\u043b\\u0438\\u0437\\u0438\\u0440\\u043e\\u0432\\u0430\\u043d\\u044b \\u0441\\u0442\\u0430\\u043d\\u0434\\u0430\\u0440\\u0442\\u044b \\u0432 \\u043e\\u0431\\u043b\\u0430\\u0441\\u0442\\u0438 \\u0437\\u0430\\u0449\\u0438\\u0442\\u044b \\u0438\\u043d\\u0444\\u043e\\u0440\\u043c\\u0430\\u0446\\u0438\\u0438. \\u0421\\u0445\\u0435\\u043c\\u0430\\u0442\\u0438\\u0447\\u043d\\u043e \\u043f\\u0440\\u0435\\u0434\\u0441\\u0442\\u0430\\u0432\\u043b\\u0435\\u043d\\u044b \\u0441\\u0442\\u0440\\u0443\\u043a\\u0442\\u0443\\u0440\\u0430 \\u0443\\u0433\\u0440\\u043e\\u0437 \\u0438\\u043d\\u0444\\u043e\\u0440\\u043c\\u0430\\u0446\\u0438\\u043e\\u043d\\u043d\\u043e\\u0439 \\u0431\\u0435\\u0437\\u043e\\u043f\\u0430\\u0441\\u043d\\u043e\\u0441\\u0442\\u0438 \\u0438 \\u043f\\u0440\\u043e\\u0446\\u0435\\u0441\\u0441 \\u0438\\u0445 \\u0440\\u0435\\u0430\\u043b\\u0438\\u0437\\u0430\\u0446\\u0438\\u0438. \\u041f\\u0440\\u0438\\u0432\\u0435\\u0434\\u0435\\u043d \\u043f\\u0435\\u0440\\u0435\\u0447\\u0435\\u043d\\u044c \\u0437\\u0430\\u0449\\u0438\\u0449\\u0430\\u0435\\u043c\\u044b\\u0445 \\u043e\\u0431\\u044a\\u0435\\u043a\\u0442\\u043e\\u0432 \\u0438 \\u0438\\u0445 \\u0432\\u0437\\u0430\\u0438\\u043c\\u043e\\u0441\\u0432\\u044f\\u0437\\u044c \\u0441 \\u0441\\u0438\\u0441\\u0442\\u0435\\u043c\\u043e\\u0439 \\u0437\\u0430\\u0449\\u0438\\u0442\\u044b.\",\n          \"\\u041a\\u043e\\u043c\\u043f\\u0430\\u043a\\u0442\\u043d\\u0430\\u044f \\u0440\\u0430\\u0437\\u043d\\u043e\\u0441\\u0442\\u043d\\u0430\\u044f \\u0441\\u0445\\u0435\\u043c\\u0430 \\u043d\\u0430 \\u0430\\u0434\\u0430\\u043f\\u0442\\u0438\\u0432\\u043d\\u043e\\u0439 \\u0441\\u0435\\u0442\\u043a\\u0435 \\u0434\\u043b\\u044f \\u0432\\u043e\\u043b\\u043d\\u043e\\u0432\\u043e\\u0433\\u043e \\u0443\\u0440\\u0430\\u0432\\u043d\\u0435\\u043d\\u0438\\u044f \\u041f\\u0440\\u0435\\u0434\\u043c\\u0435\\u0442\\u043e\\u043c \\u0438\\u0441\\u0441\\u043b\\u0435\\u0434\\u043e\\u0432\\u0430\\u043d\\u0438\\u044f \\u0432 \\u0434\\u0430\\u043d\\u043d\\u043e\\u0439 \\u0440\\u0430\\u0431\\u043e\\u0442\\u0435 \\u044f\\u0432\\u043b\\u044f\\u0435\\u0442\\u0441\\u044f \\u0430\\u0434\\u0430\\u043f\\u0442\\u0438\\u0432\\u043d\\u0430\\u044f \\u0442\\u0435\\u0445\\u043d\\u043e\\u043b\\u043e\\u0433\\u0438\\u044f \\u0440\\u0430\\u0441\\u0447\\u0435\\u0442\\u0430 \\u0434\\u043b\\u044f \\u0440\\u0430\\u0437\\u043d\\u043e\\u0441\\u0442\\u043d\\u044b\\u0445 \\u0441\\u0445\\u0435\\u043c \\u043f\\u043e\\u0432\\u044b\\u0448\\u0435\\u043d\\u043d\\u043e\\u0439 \\u0442\\u043e\\u0447\\u043d\\u043e\\u0441\\u0442\\u0438. \\u0418\\u0441\\u0441\\u043b\\u0435\\u0434\\u0443\\u0435\\u0442\\u0441\\u044f \\u043a\\u043e\\u043c\\u043f\\u0430\\u043a\\u0442\\u043d\\u0430\\u044f \\u0440\\u0430\\u0437\\u043d\\u043e\\u0441\\u0442\\u043d\\u0430\\u044f \\u0441\\u0445\\u0435\\u043c\\u0430 \\u043a\\u043e\\u0442\\u043e\\u0440\\u0430\\u044f \\u0430\\u043f\\u043f\\u0440\\u043e\\u043a\\u0441\\u0438\\u043c\\u0438\\u0440\\u0443\\u0435\\u0442 \\u0432\\u043e\\u043b\\u043d\\u043e\\u0432\\u043e\\u0435 \\u0443\\u0440\\u0430\\u0432\\u043d\\u0435\\u043d\\u0438\\u0435 \\u0441 \\u0442\\u0440\\u0435\\u0442\\u044c\\u0438\\u043c \\u043f\\u043e\\u0440\\u044f\\u0434\\u043a\\u043e\\u043c \\u043d\\u0430 \\u043d\\u0435\\u0440\\u0430\\u0432\\u043d\\u043e\\u043c\\u0435\\u0440\\u043d\\u043e\\u0439 \\u043f\\u0440\\u043e\\u0441\\u0442\\u0440\\u0430\\u043d\\u0441\\u0442\\u0432\\u0435\\u043d\\u043d\\u043e\\u0439 \\u0441\\u0435\\u0442\\u043a\\u0435 \\u0438 \\u0441 \\u0447\\u0435\\u0442\\u0432\\u0435\\u0440\\u0442\\u044b\\u043c \\u043f\\u043e\\u0440\\u044f\\u0434\\u043a\\u043e\\u043c \\u043e\\u0442\\u043d\\u043e\\u0441\\u0438\\u0442\\u0435\\u043b\\u044c\\u043d\\u043e \\u043f\\u043e\\u0441\\u0442\\u043e\\u044f\\u043d\\u043d\\u043e\\u0433\\u043e \\u0432\\u0440\\u0435\\u043c\\u0435\\u043d\\u043do\\u0433\\u043e \\u0448\\u0430\\u0433\\u0430. \\u0421\\u0435\\u0442\\u043a\\u0430 \\u043f\\u0435\\u0440\\u0435\\u0441\\u0442\\u0440\\u0430\\u0438\\u0432\\u0430\\u0435\\u0442\\u0441\\u044f \\u043d\\u0430 \\u043a\\u0430\\u0436\\u0434\\u043e\\u043c \\u0448\\u0430\\u0433\\u0435 \\u043f\\u043e \\u0432\\u0440\\u0435\\u043c\\u0435\\u043d\\u0438 \\u043f\\u043e\\u0447\\u0442\\u0438 \\u043a\\u043b\\u0430\\u0441\\u0441\\u0438\\u0447\\u0435\\u0441\\u043a\\u0438\\u043c \\u043c\\u0435\\u0442\\u043e\\u0434\\u043e\\u043c \\u043e\\u0434\\u043d\\u0430\\u043a\\u043e \\u0432 \\u0434\\u043e\\u043f\\u043e\\u043b\\u043d\\u0435\\u043d\\u0438\\u0435 \\u043a \\u043d\\u0435\\u043c\\u0443 \\u043f\\u0440\\u0435\\u0434\\u043b\\u0430\\u0433\\u0430\\u0435\\u0442\\u0441\\u044f \\u044d\\u0444\\u0444\\u0435\\u043a\\u0442\\u0438\\u0432\\u043d\\u044b\\u0439 \\u0441\\u043f\\u043e\\u0441\\u043e\\u0431 \\u043a\\u043e\\u0440\\u0440\\u0435\\u043a\\u0446\\u0438\\u0438 \\u0441\\u0435\\u0442\\u043a\\u0438. \\u042d\\u0442\\u0430 \\u043e\\u043f\\u0435\\u0440\\u0430\\u0446\\u0438\\u044f \\u043e\\u0440\\u0438\\u0435\\u043d\\u0442\\u0438\\u0440\\u043e\\u0432\\u0430\\u043d\\u0430 \\u043d\\u0430 \\u0441\\u0433\\u043b\\u0430\\u0436\\u0438\\u0432\\u0430\\u043d\\u0438\\u0435 \\u0441\\u043b\\u0438\\u0448\\u043a\\u043e\\u043c \\u0440\\u0435\\u0437\\u043a\\u043e\\u0433\\u043e \\u0438\\u0437\\u043c\\u0435\\u043d\\u0435\\u043d\\u0438\\u044f \\u043f\\u0440\\u043e\\u0441\\u0442\\u0440\\u0430\\u043d\\u0441\\u0442\\u0432\\u0435\\u043d\\u043d\\u043e\\u0433\\u043e \\u0448\\u0430\\u0433\\u0430 \\u0432 \\u043e\\u0431\\u043b\\u0430\\u0441\\u0442\\u044f\\u0445 \\u0437\\u043d\\u0430\\u0447\\u0438\\u0442\\u0435\\u043b\\u044c\\u043d\\u043e\\u0439 \\u043a\\u0440\\u0438\\u0432\\u0438\\u0437\\u043d\\u044b. \\u0422\\u0430\\u043a\\u0438\\u0435 \\u043e\\u0431\\u043b\\u0430\\u0441\\u0442\\u0438 \\u0440\\u0430\\u0441\\u043f\\u043e\\u043b\\u043e\\u0436\\u0435\\u043d\\u044b \\u043d\\u0430\\u043f\\u0440\\u0438\\u043c\\u0435\\u0440 \\u0432 \\u0432\\u0435\\u0440\\u0448\\u0438\\u043d\\u0430\\u0445 \\u0438 \\u0443 \\u201c\\u043f\\u043e\\u0434\\u043d\\u043e\\u0436\\u0438\\u044f\\u201d \\u0441\\u043e\\u043b\\u0438\\u0442\\u043e\\u043d\\u043e\\u0432 \\u0438\\u043b\\u0438 \\u0432\\u0431\\u043b\\u0438\\u0437\\u0438 \\u0444\\u0440\\u043e\\u043d\\u0442\\u043e\\u0432 \\u0443\\u0434\\u0430\\u0440\\u043d\\u044b\\u0445 \\u043f\\u0435\\u0440\\u0435\\u0445\\u043e\\u0434\\u043e\\u0432. \\u0412 \\u0440\\u0430\\u0431\\u043e\\u0442\\u0435 \\u043f\\u0440\\u043e\\u0432\\u0435\\u0434\\u0435\\u043d\\u044b \\u0447\\u0438\\u0441\\u043b\\u0435\\u043d\\u043d\\u044b\\u0435 \\u044d\\u043a\\u0441\\u043f\\u0435\\u0440\\u0438\\u043c\\u0435\\u043d\\u0442\\u044b \\u043d\\u0430 \\u0442\\u043e\\u0447\\u043d\\u044b\\u0445 \\u0440\\u0435\\u0448\\u0435\\u043d\\u0438\\u044f\\u0445 \\u0432 \\u0432\\u0438\\u0434\\u0435 \\u0441\\u0433\\u043b\\u0430\\u0436\\u0435\\u043d\\u043d\\u044b\\u0445 \\u0443\\u0434\\u0430\\u0440\\u043d\\u044b\\u0445 \\u0432\\u043e\\u043b\\u043d \\u0441\\u043e\\u043b\\u0438\\u0442\\u043e\\u043d\\u043e\\u0432 \\u0430 \\u0442\\u0430\\u043a\\u0436\\u0435 \\u0438\\u0445 \\u043a\\u043e\\u043c\\u0431\\u0438\\u043d\\u0430\\u0446\\u0438\\u0439. \\u0412\\u044b\\u043f\\u043e\\u043b\\u043d\\u0435\\u043d\\u043e \\u0441\\u0440\\u0430\\u0432\\u043d\\u0435\\u043d\\u0438\\u0435 \\u0441 \\u0434\\u0440\\u0443\\u0433\\u0438\\u043c\\u0438 \\u043c\\u0435\\u0442\\u043e\\u0434\\u0430\\u043c\\u0438.\",\n          \"\\u041f\\u0430\\u0440\\u0430\\u043c\\u0435\\u0442\\u0440\\u0438\\u0447\\u0435\\u0441\\u043a\\u0430\\u044f \\u0440\\u043e\\u0431\\u043e\\u0442\\u0438\\u0437\\u0438\\u0440\\u043e\\u0432\\u0430\\u043d\\u043d\\u0430\\u044f \\u0441\\u0438\\u0441\\u0442\\u0435\\u043c\\u0430 \\u043f\\u043e\\u0438\\u0441\\u043a\\u0430 \\u043c\\u0438\\u043d \\u043d\\u0430 \\u043e\\u0441\\u043d\\u043e\\u0432\\u0435 \\u0432\\u0437\\u0430\\u0438\\u043c\\u043e\\u0434\\u0435\\u0439\\u0441\\u0442\\u0432\\u0438\\u044f \\u044d\\u043b\\u0435\\u043a\\u0442\\u0440\\u043e\\u043c\\u0430\\u0433\\u043d\\u0438\\u0442\\u043d\\u044b\\u0445 \\u0438 \\u0441\\u0435\\u0439\\u0441\\u043c\\u0438\\u0447\\u0435\\u0441\\u043a\\u0438\\u0445 \\u0432\\u043e\\u043b\\u043d \\u0414\\u0430\\u0435\\u0442\\u0441\\u044f \\u043a\\u0440\\u0430\\u0442\\u043a\\u0438\\u0439 \\u043e\\u0431\\u0437\\u043e\\u0440 \\u0434\\u0438\\u0441\\u0442\\u0430\\u043d\\u0446\\u0438\\u043e\\u043d\\u043d\\u044b\\u0445 \\u043f\\u0430\\u0440\\u0430\\u043c\\u0435\\u0442\\u0440\\u0438\\u0447\\u0435\\u0441\\u043a\\u0438\\u0445 \\u043c\\u0435\\u0442\\u043e\\u0434\\u043e\\u0432 \\u043f\\u043e\\u0438\\u0441\\u043a\\u0430 \\u043c\\u0438\\u043d \\u0438 \\u043c\\u0438\\u043d\\u043d\\u044b\\u0445 \\u043f\\u043e\\u043b\\u0435\\u0439. \\u041e\\u043f\\u0438\\u0441\\u044b\\u0432\\u0430\\u044e\\u0442\\u0441\\u044f \\u0444\\u0438\\u0437\\u0438\\u0447\\u0435\\u0441\\u043a\\u0438\\u0435 \\u043e\\u0441\\u043d\\u043e\\u0432\\u044b \\u0434\\u0438\\u0441\\u0442\\u0430\\u043d\\u0446\\u0438\\u043e\\u043d\\u043d\\u043e\\u0433\\u043e \\u043c\\u0435\\u0442\\u043e\\u0434\\u0430 \\u043e\\u0431\\u043d\\u0430\\u0440\\u0443\\u0436\\u0435\\u043d\\u0438\\u044f \\u043f\\u043e\\u0434\\u043f\\u043e\\u0432\\u0435\\u0440\\u0445\\u043d\\u043e\\u0441\\u0442\\u043d\\u044b\\u0445 \\u043e\\u0431\\u044a\\u0435\\u043a\\u0442\\u043e\\u0432 \\u0442\\u0438\\u043f\\u0430 \\u043c\\u0438\\u043d \\u0432 \\u0437\\u0435\\u043c\\u043b\\u0435 \\u043d\\u0430 \\u043e\\u0441\\u043d\\u043e\\u0432\\u0435 \\u0432\\u043e\\u0437\\u0431\\u0443\\u0436\\u0434\\u0435\\u043d\\u0438\\u044f \\u0432\\u0434\\u043e\\u043b\\u044c \\u0433\\u0440\\u0430\\u043d\\u0438\\u0446\\u044b \\u0440\\u0430\\u0437\\u0434\\u0435\\u043b\\u0430 \\u0437\\u0435\\u043c\\u043b\\u044f-\\u0432\\u043e\\u0437\\u0434\\u0443\\u0445 \\u0443\\u0434\\u0430\\u0440\\u043d\\u044b\\u0445 \\u0441\\u0435\\u0439\\u0441\\u043c\\u0438\\u0447\\u0435\\u0441\\u043a\\u0438\\u0445 \\u0432\\u043e\\u043b\\u043d \\u0420\\u0435\\u043b\\u0435\\u044f \\u0438 \\u0440\\u0435\\u0433\\u0438\\u0441\\u0442\\u0440\\u0430\\u0446\\u0438\\u0438 \\u0440\\u0430\\u0434\\u0438\\u043e\\u043b\\u043e\\u043a\\u0430\\u0446\\u0438\\u043e\\u043d\\u043d\\u044b\\u043c \\u043c\\u0435\\u0442\\u043e\\u0434\\u043e\\u043c \\u0434\\u043e\\u043f\\u043b\\u0435\\u0440\\u043e\\u0432\\u0441\\u043a\\u043e\\u0433\\u043e \\u0441\\u0434\\u0432\\u0438\\u0433\\u0430 \\u0444\\u0430\\u0437  \\u0432\\u043e\\u0437\\u043d\\u0438\\u043a\\u0430\\u044e\\u0449\\u0435\\u0433\\u043e \\u043f\\u043e\\u0434 \\u0434\\u0435\\u0439\\u0441\\u0442\\u0432\\u0438\\u0435\\u043c \\u0441\\u0435\\u0439\\u0441\\u043c\\u0438\\u0447\\u0435\\u0441\\u043a\\u0438\\u0445 \\u0443\\u0434\\u0430\\u0440\\u043e\\u0432 \\u0432\\u0438\\u0431\\u0440\\u0430\\u0446\\u0438\\u0439 \\u043a\\u043e\\u0440\\u043f\\u0443\\u0441\\u0430 \\u043e\\u0431\\u044a\\u0435\\u043a\\u0442\\u0430 \\u043f\\u043e\\u0438\\u0441\\u043a\\u0430. \\u0418\\u0437\\u043b\\u043e\\u0436\\u0435\\u043d\\u044b \\u0441\\u043e\\u043e\\u0431\\u0440\\u0430\\u0436\\u0435\\u043d\\u0438\\u044f \\u043f\\u043e \\u0430\\u043f\\u043f\\u0430\\u0440\\u0430\\u0442\\u043d\\u043e\\u0439 \\u0440\\u0435\\u0430\\u043b\\u0438\\u0437\\u0430\\u0446\\u0438\\u0438 \\u043d\\u043e\\u0432\\u043e\\u0433\\u043e \\u043c\\u0435\\u0442\\u043e\\u0434\\u0430  \\u0434\\u0430\\u0435\\u0442\\u0441\\u044f \\u043e\\u0446\\u0435\\u043d\\u043a\\u0430 \\u043a\\u043e\\u043b\\u0438\\u0447\\u0435\\u0441\\u0442\\u0432\\u0435\\u043d\\u043d\\u044b\\u0445 \\u0441\\u043e\\u043e\\u0442\\u043d\\u043e\\u0448\\u0435\\u043d\\u0438\\u0439 \\u0432 \\u0440\\u0430\\u0434\\u0438\\u043e\\u043a\\u0430\\u043d\\u0430\\u043b\\u0435 \\u0440\\u0430\\u0434\\u0438\\u043e\\u043b\\u043e\\u043a\\u0430\\u0446\\u0438\\u043e\\u043d\\u043d\\u043e\\u0439 \\u0441\\u0438\\u0441\\u0442\\u0435\\u043c\\u044b.\"\n        ],\n        \"semantic_type\": \"\",\n        \"description\": \"\"\n      }\n    },\n    {\n      \"column\": \"Allowed\",\n      \"properties\": {\n        \"dtype\": \"boolean\",\n        \"num_unique_values\": 1,\n        \"samples\": [\n          true\n        ],\n        \"semantic_type\": \"\",\n        \"description\": \"\"\n      }\n    }\n  ]\n}"
            }
          },
          "metadata": {},
          "execution_count": 52
        }
      ]
    },
    {
      "cell_type": "code",
      "source": [
        "g = g.dropna()"
      ],
      "metadata": {
        "id": "z4Sx2U1jqJUV"
      },
      "execution_count": null,
      "outputs": []
    },
    {
      "cell_type": "code",
      "source": [
        "\n",
        "\n",
        "from nltk.stem.snowball import SnowballStemmer\n",
        "\n",
        "stemmer = SnowballStemmer(\"russian\")"
      ],
      "metadata": {
        "id": "3kWg03xIj4s-"
      },
      "execution_count": null,
      "outputs": []
    },
    {
      "cell_type": "code",
      "source": [],
      "metadata": {
        "id": "vmzlG7hxYNgZ"
      },
      "execution_count": null,
      "outputs": []
    },
    {
      "cell_type": "code",
      "source": [
        "g['Stemmed'] = g['FullText'].apply(lambda x: ' '.join(stemmer.stem(w) for w in x.split()))"
      ],
      "metadata": {
        "id": "jbCxSrcJqNxU",
        "colab": {
          "base_uri": "https://localhost:8080/",
          "height": 333
        },
        "outputId": "cfa92b9b-86da-4e50-a34c-b33c1360bec0"
      },
      "execution_count": null,
      "outputs": [
        {
          "output_type": "error",
          "ename": "KeyboardInterrupt",
          "evalue": "",
          "traceback": [
            "\u001b[0;31m---------------------------------------------------------------------------\u001b[0m",
            "\u001b[0;31mKeyboardInterrupt\u001b[0m                         Traceback (most recent call last)",
            "\u001b[0;32m<ipython-input-55-89826f5f6681>\u001b[0m in \u001b[0;36m<cell line: 1>\u001b[0;34m()\u001b[0m\n\u001b[0;32m----> 1\u001b[0;31m \u001b[0mg\u001b[0m\u001b[0;34m[\u001b[0m\u001b[0;34m'Stemmed'\u001b[0m\u001b[0;34m]\u001b[0m \u001b[0;34m=\u001b[0m \u001b[0mg\u001b[0m\u001b[0;34m[\u001b[0m\u001b[0;34m'FullText'\u001b[0m\u001b[0;34m]\u001b[0m\u001b[0;34m.\u001b[0m\u001b[0mapply\u001b[0m\u001b[0;34m(\u001b[0m\u001b[0;32mlambda\u001b[0m \u001b[0mx\u001b[0m\u001b[0;34m:\u001b[0m \u001b[0;34m' '\u001b[0m\u001b[0;34m.\u001b[0m\u001b[0mjoin\u001b[0m\u001b[0;34m(\u001b[0m\u001b[0mstemmer\u001b[0m\u001b[0;34m.\u001b[0m\u001b[0mstem\u001b[0m\u001b[0;34m(\u001b[0m\u001b[0mw\u001b[0m\u001b[0;34m)\u001b[0m \u001b[0;32mfor\u001b[0m \u001b[0mw\u001b[0m \u001b[0;32min\u001b[0m \u001b[0mx\u001b[0m\u001b[0;34m.\u001b[0m\u001b[0msplit\u001b[0m\u001b[0;34m(\u001b[0m\u001b[0;34m)\u001b[0m\u001b[0;34m)\u001b[0m\u001b[0;34m)\u001b[0m\u001b[0;34m\u001b[0m\u001b[0;34m\u001b[0m\u001b[0m\n\u001b[0m",
            "\u001b[0;32m/usr/local/lib/python3.10/dist-packages/pandas/core/series.py\u001b[0m in \u001b[0;36mapply\u001b[0;34m(self, func, convert_dtype, args, by_row, **kwargs)\u001b[0m\n\u001b[1;32m   4922\u001b[0m             \u001b[0margs\u001b[0m\u001b[0;34m=\u001b[0m\u001b[0margs\u001b[0m\u001b[0;34m,\u001b[0m\u001b[0;34m\u001b[0m\u001b[0;34m\u001b[0m\u001b[0m\n\u001b[1;32m   4923\u001b[0m             \u001b[0mkwargs\u001b[0m\u001b[0;34m=\u001b[0m\u001b[0mkwargs\u001b[0m\u001b[0;34m,\u001b[0m\u001b[0;34m\u001b[0m\u001b[0;34m\u001b[0m\u001b[0m\n\u001b[0;32m-> 4924\u001b[0;31m         ).apply()\n\u001b[0m\u001b[1;32m   4925\u001b[0m \u001b[0;34m\u001b[0m\u001b[0m\n\u001b[1;32m   4926\u001b[0m     def _reindex_indexer(\n",
            "\u001b[0;32m/usr/local/lib/python3.10/dist-packages/pandas/core/apply.py\u001b[0m in \u001b[0;36mapply\u001b[0;34m(self)\u001b[0m\n\u001b[1;32m   1425\u001b[0m \u001b[0;34m\u001b[0m\u001b[0m\n\u001b[1;32m   1426\u001b[0m         \u001b[0;31m# self.func is Callable\u001b[0m\u001b[0;34m\u001b[0m\u001b[0;34m\u001b[0m\u001b[0m\n\u001b[0;32m-> 1427\u001b[0;31m         \u001b[0;32mreturn\u001b[0m \u001b[0mself\u001b[0m\u001b[0;34m.\u001b[0m\u001b[0mapply_standard\u001b[0m\u001b[0;34m(\u001b[0m\u001b[0;34m)\u001b[0m\u001b[0;34m\u001b[0m\u001b[0;34m\u001b[0m\u001b[0m\n\u001b[0m\u001b[1;32m   1428\u001b[0m \u001b[0;34m\u001b[0m\u001b[0m\n\u001b[1;32m   1429\u001b[0m     \u001b[0;32mdef\u001b[0m \u001b[0magg\u001b[0m\u001b[0;34m(\u001b[0m\u001b[0mself\u001b[0m\u001b[0;34m)\u001b[0m\u001b[0;34m:\u001b[0m\u001b[0;34m\u001b[0m\u001b[0;34m\u001b[0m\u001b[0m\n",
            "\u001b[0;32m/usr/local/lib/python3.10/dist-packages/pandas/core/apply.py\u001b[0m in \u001b[0;36mapply_standard\u001b[0;34m(self)\u001b[0m\n\u001b[1;32m   1505\u001b[0m         \u001b[0;31m#  Categorical (GH51645).\u001b[0m\u001b[0;34m\u001b[0m\u001b[0;34m\u001b[0m\u001b[0m\n\u001b[1;32m   1506\u001b[0m         \u001b[0maction\u001b[0m \u001b[0;34m=\u001b[0m \u001b[0;34m\"ignore\"\u001b[0m \u001b[0;32mif\u001b[0m \u001b[0misinstance\u001b[0m\u001b[0;34m(\u001b[0m\u001b[0mobj\u001b[0m\u001b[0;34m.\u001b[0m\u001b[0mdtype\u001b[0m\u001b[0;34m,\u001b[0m \u001b[0mCategoricalDtype\u001b[0m\u001b[0;34m)\u001b[0m \u001b[0;32melse\u001b[0m \u001b[0;32mNone\u001b[0m\u001b[0;34m\u001b[0m\u001b[0;34m\u001b[0m\u001b[0m\n\u001b[0;32m-> 1507\u001b[0;31m         mapped = obj._map_values(\n\u001b[0m\u001b[1;32m   1508\u001b[0m             \u001b[0mmapper\u001b[0m\u001b[0;34m=\u001b[0m\u001b[0mcurried\u001b[0m\u001b[0;34m,\u001b[0m \u001b[0mna_action\u001b[0m\u001b[0;34m=\u001b[0m\u001b[0maction\u001b[0m\u001b[0;34m,\u001b[0m \u001b[0mconvert\u001b[0m\u001b[0;34m=\u001b[0m\u001b[0mself\u001b[0m\u001b[0;34m.\u001b[0m\u001b[0mconvert_dtype\u001b[0m\u001b[0;34m\u001b[0m\u001b[0;34m\u001b[0m\u001b[0m\n\u001b[1;32m   1509\u001b[0m         )\n",
            "\u001b[0;32m/usr/local/lib/python3.10/dist-packages/pandas/core/base.py\u001b[0m in \u001b[0;36m_map_values\u001b[0;34m(self, mapper, na_action, convert)\u001b[0m\n\u001b[1;32m    919\u001b[0m             \u001b[0;32mreturn\u001b[0m \u001b[0marr\u001b[0m\u001b[0;34m.\u001b[0m\u001b[0mmap\u001b[0m\u001b[0;34m(\u001b[0m\u001b[0mmapper\u001b[0m\u001b[0;34m,\u001b[0m \u001b[0mna_action\u001b[0m\u001b[0;34m=\u001b[0m\u001b[0mna_action\u001b[0m\u001b[0;34m)\u001b[0m\u001b[0;34m\u001b[0m\u001b[0;34m\u001b[0m\u001b[0m\n\u001b[1;32m    920\u001b[0m \u001b[0;34m\u001b[0m\u001b[0m\n\u001b[0;32m--> 921\u001b[0;31m         \u001b[0;32mreturn\u001b[0m \u001b[0malgorithms\u001b[0m\u001b[0;34m.\u001b[0m\u001b[0mmap_array\u001b[0m\u001b[0;34m(\u001b[0m\u001b[0marr\u001b[0m\u001b[0;34m,\u001b[0m \u001b[0mmapper\u001b[0m\u001b[0;34m,\u001b[0m \u001b[0mna_action\u001b[0m\u001b[0;34m=\u001b[0m\u001b[0mna_action\u001b[0m\u001b[0;34m,\u001b[0m \u001b[0mconvert\u001b[0m\u001b[0;34m=\u001b[0m\u001b[0mconvert\u001b[0m\u001b[0;34m)\u001b[0m\u001b[0;34m\u001b[0m\u001b[0;34m\u001b[0m\u001b[0m\n\u001b[0m\u001b[1;32m    922\u001b[0m \u001b[0;34m\u001b[0m\u001b[0m\n\u001b[1;32m    923\u001b[0m     \u001b[0;34m@\u001b[0m\u001b[0mfinal\u001b[0m\u001b[0;34m\u001b[0m\u001b[0;34m\u001b[0m\u001b[0m\n",
            "\u001b[0;32m/usr/local/lib/python3.10/dist-packages/pandas/core/algorithms.py\u001b[0m in \u001b[0;36mmap_array\u001b[0;34m(arr, mapper, na_action, convert)\u001b[0m\n\u001b[1;32m   1741\u001b[0m     \u001b[0mvalues\u001b[0m \u001b[0;34m=\u001b[0m \u001b[0marr\u001b[0m\u001b[0;34m.\u001b[0m\u001b[0mastype\u001b[0m\u001b[0;34m(\u001b[0m\u001b[0mobject\u001b[0m\u001b[0;34m,\u001b[0m \u001b[0mcopy\u001b[0m\u001b[0;34m=\u001b[0m\u001b[0;32mFalse\u001b[0m\u001b[0;34m)\u001b[0m\u001b[0;34m\u001b[0m\u001b[0;34m\u001b[0m\u001b[0m\n\u001b[1;32m   1742\u001b[0m     \u001b[0;32mif\u001b[0m \u001b[0mna_action\u001b[0m \u001b[0;32mis\u001b[0m \u001b[0;32mNone\u001b[0m\u001b[0;34m:\u001b[0m\u001b[0;34m\u001b[0m\u001b[0;34m\u001b[0m\u001b[0m\n\u001b[0;32m-> 1743\u001b[0;31m         \u001b[0;32mreturn\u001b[0m \u001b[0mlib\u001b[0m\u001b[0;34m.\u001b[0m\u001b[0mmap_infer\u001b[0m\u001b[0;34m(\u001b[0m\u001b[0mvalues\u001b[0m\u001b[0;34m,\u001b[0m \u001b[0mmapper\u001b[0m\u001b[0;34m,\u001b[0m \u001b[0mconvert\u001b[0m\u001b[0;34m=\u001b[0m\u001b[0mconvert\u001b[0m\u001b[0;34m)\u001b[0m\u001b[0;34m\u001b[0m\u001b[0;34m\u001b[0m\u001b[0m\n\u001b[0m\u001b[1;32m   1744\u001b[0m     \u001b[0;32melse\u001b[0m\u001b[0;34m:\u001b[0m\u001b[0;34m\u001b[0m\u001b[0;34m\u001b[0m\u001b[0m\n\u001b[1;32m   1745\u001b[0m         return lib.map_infer_mask(\n",
            "\u001b[0;32mlib.pyx\u001b[0m in \u001b[0;36mpandas._libs.lib.map_infer\u001b[0;34m()\u001b[0m\n",
            "\u001b[0;32m<ipython-input-55-89826f5f6681>\u001b[0m in \u001b[0;36m<lambda>\u001b[0;34m(x)\u001b[0m\n\u001b[0;32m----> 1\u001b[0;31m \u001b[0mg\u001b[0m\u001b[0;34m[\u001b[0m\u001b[0;34m'Stemmed'\u001b[0m\u001b[0;34m]\u001b[0m \u001b[0;34m=\u001b[0m \u001b[0mg\u001b[0m\u001b[0;34m[\u001b[0m\u001b[0;34m'FullText'\u001b[0m\u001b[0;34m]\u001b[0m\u001b[0;34m.\u001b[0m\u001b[0mapply\u001b[0m\u001b[0;34m(\u001b[0m\u001b[0;32mlambda\u001b[0m \u001b[0mx\u001b[0m\u001b[0;34m:\u001b[0m \u001b[0;34m' '\u001b[0m\u001b[0;34m.\u001b[0m\u001b[0mjoin\u001b[0m\u001b[0;34m(\u001b[0m\u001b[0mstemmer\u001b[0m\u001b[0;34m.\u001b[0m\u001b[0mstem\u001b[0m\u001b[0;34m(\u001b[0m\u001b[0mw\u001b[0m\u001b[0;34m)\u001b[0m \u001b[0;32mfor\u001b[0m \u001b[0mw\u001b[0m \u001b[0;32min\u001b[0m \u001b[0mx\u001b[0m\u001b[0;34m.\u001b[0m\u001b[0msplit\u001b[0m\u001b[0;34m(\u001b[0m\u001b[0;34m)\u001b[0m\u001b[0;34m)\u001b[0m\u001b[0;34m)\u001b[0m\u001b[0;34m\u001b[0m\u001b[0;34m\u001b[0m\u001b[0m\n\u001b[0m",
            "\u001b[0;32m<ipython-input-55-89826f5f6681>\u001b[0m in \u001b[0;36m<genexpr>\u001b[0;34m(.0)\u001b[0m\n\u001b[0;32m----> 1\u001b[0;31m \u001b[0mg\u001b[0m\u001b[0;34m[\u001b[0m\u001b[0;34m'Stemmed'\u001b[0m\u001b[0;34m]\u001b[0m \u001b[0;34m=\u001b[0m \u001b[0mg\u001b[0m\u001b[0;34m[\u001b[0m\u001b[0;34m'FullText'\u001b[0m\u001b[0;34m]\u001b[0m\u001b[0;34m.\u001b[0m\u001b[0mapply\u001b[0m\u001b[0;34m(\u001b[0m\u001b[0;32mlambda\u001b[0m \u001b[0mx\u001b[0m\u001b[0;34m:\u001b[0m \u001b[0;34m' '\u001b[0m\u001b[0;34m.\u001b[0m\u001b[0mjoin\u001b[0m\u001b[0;34m(\u001b[0m\u001b[0mstemmer\u001b[0m\u001b[0;34m.\u001b[0m\u001b[0mstem\u001b[0m\u001b[0;34m(\u001b[0m\u001b[0mw\u001b[0m\u001b[0;34m)\u001b[0m \u001b[0;32mfor\u001b[0m \u001b[0mw\u001b[0m \u001b[0;32min\u001b[0m \u001b[0mx\u001b[0m\u001b[0;34m.\u001b[0m\u001b[0msplit\u001b[0m\u001b[0;34m(\u001b[0m\u001b[0;34m)\u001b[0m\u001b[0;34m)\u001b[0m\u001b[0;34m)\u001b[0m\u001b[0;34m\u001b[0m\u001b[0;34m\u001b[0m\u001b[0m\n\u001b[0m",
            "\u001b[0;32m/usr/local/lib/python3.10/dist-packages/nltk/stem/snowball.py\u001b[0m in \u001b[0;36mstem\u001b[0;34m(self, word)\u001b[0m\n\u001b[1;32m   4941\u001b[0m \u001b[0;34m\u001b[0m\u001b[0m\n\u001b[1;32m   4942\u001b[0m             \u001b[0;32mfor\u001b[0m \u001b[0msuffix\u001b[0m \u001b[0;32min\u001b[0m \u001b[0mself\u001b[0m\u001b[0;34m.\u001b[0m\u001b[0m__adjectival_suffixes\u001b[0m\u001b[0;34m:\u001b[0m\u001b[0;34m\u001b[0m\u001b[0;34m\u001b[0m\u001b[0m\n\u001b[0;32m-> 4943\u001b[0;31m                 \u001b[0;32mif\u001b[0m \u001b[0mrv\u001b[0m\u001b[0;34m.\u001b[0m\u001b[0mendswith\u001b[0m\u001b[0;34m(\u001b[0m\u001b[0msuffix\u001b[0m\u001b[0;34m)\u001b[0m\u001b[0;34m:\u001b[0m\u001b[0;34m\u001b[0m\u001b[0;34m\u001b[0m\u001b[0m\n\u001b[0m\u001b[1;32m   4944\u001b[0m                     if suffix in (\n\u001b[1;32m   4945\u001b[0m                         \u001b[0;34m\"i^ushchi^ui^u\"\u001b[0m\u001b[0;34m,\u001b[0m\u001b[0;34m\u001b[0m\u001b[0;34m\u001b[0m\u001b[0m\n",
            "\u001b[0;31mKeyboardInterrupt\u001b[0m: "
          ]
        }
      ]
    },
    {
      "cell_type": "code",
      "source": [
        "stemmed = g['FullText'].dropna().values\n"
      ],
      "metadata": {
        "id": "Q1KUM7s6nUhB"
      },
      "execution_count": null,
      "outputs": []
    },
    {
      "cell_type": "code",
      "source": [
        "g.to_csv('dataV3.csv', index=False)"
      ],
      "metadata": {
        "id": "nTSDAquWKn0Y"
      },
      "execution_count": null,
      "outputs": []
    },
    {
      "cell_type": "code",
      "source": [
        "d = ' '.join(stemmed.tolist()).split()"
      ],
      "metadata": {
        "id": "GY91LwYEY2cg"
      },
      "execution_count": null,
      "outputs": []
    },
    {
      "cell_type": "code",
      "source": [],
      "metadata": {
        "id": "LYxYiMK5ai9o"
      },
      "execution_count": null,
      "outputs": []
    },
    {
      "cell_type": "code",
      "source": [
        "result_sentences = []\n",
        "\n",
        "for e in stemmed:\n",
        "    result_sentences.append(e.lower().split())"
      ],
      "metadata": {
        "id": "YEQfkxSCnUqT"
      },
      "execution_count": null,
      "outputs": []
    },
    {
      "cell_type": "code",
      "source": [
        "\n",
        "bag_of_words = []\n",
        "for e in result_sentences:\n",
        "    bag_of_words += e"
      ],
      "metadata": {
        "id": "-aSzK7u_hy09"
      },
      "execution_count": null,
      "outputs": []
    },
    {
      "cell_type": "code",
      "source": [
        "len(bag_of_words)"
      ],
      "metadata": {
        "colab": {
          "base_uri": "https://localhost:8080/"
        },
        "id": "65SkcxjGkjym",
        "outputId": "bee0c4aa-2d21-48d4-f05d-ed09bd87b769"
      },
      "execution_count": null,
      "outputs": [
        {
          "output_type": "execute_result",
          "data": {
            "text/plain": [
              "582395"
            ]
          },
          "metadata": {},
          "execution_count": 61
        }
      ]
    },
    {
      "cell_type": "code",
      "source": [
        "words_count = set(bag_of_words)"
      ],
      "metadata": {
        "id": "tNhc0rmviM_V"
      },
      "execution_count": null,
      "outputs": []
    },
    {
      "cell_type": "code",
      "source": [
        "len(words_count), len(bag_of_words)\n",
        "\n",
        "d = {}\n",
        "\n",
        "for e in bag_of_words:\n",
        "    if e not in d:\n",
        "        d[e] = 1\n",
        "    else:\n",
        "        d[e] += 1"
      ],
      "metadata": {
        "id": "uNnBzP4miaGs"
      },
      "execution_count": null,
      "outputs": []
    },
    {
      "cell_type": "code",
      "source": [
        "sorted_data = sorted(d.items(), key=lambda x: - x[1])"
      ],
      "metadata": {
        "id": "IPfpZl7djDv5"
      },
      "execution_count": null,
      "outputs": []
    },
    {
      "cell_type": "code",
      "source": [
        "ban_words = [ x[0] for x in sorted_data[:50]]\n",
        "ban_words"
      ],
      "metadata": {
        "colab": {
          "base_uri": "https://localhost:8080/"
        },
        "id": "XqlPUkqVjabt",
        "outputId": "b14b23b9-a1bc-4388-8a47-0c1c44ce943e"
      },
      "execution_count": null,
      "outputs": [
        {
          "output_type": "execute_result",
          "data": {
            "text/plain": [
              "['в',\n",
              " 'и',\n",
              " 'на',\n",
              " 'с',\n",
              " 'для',\n",
              " 'при',\n",
              " 'по',\n",
              " 'системы',\n",
              " 'к',\n",
              " 'что',\n",
              " 'систем',\n",
              " 'статье',\n",
              " 'их',\n",
              " 'от',\n",
              " 'основе',\n",
              " 'управления',\n",
              " 'данных',\n",
              " 'а',\n",
              " 'также',\n",
              " 'как',\n",
              " 'из',\n",
              " 'является',\n",
              " 'работы',\n",
              " 'модели',\n",
              " 'решения',\n",
              " 'анализ',\n",
              " 'не',\n",
              " 'результаты',\n",
              " 'о',\n",
              " 'метод',\n",
              " 'анализа',\n",
              " 'the',\n",
              " 'задачи',\n",
              " 'параметров',\n",
              " 'исследования',\n",
              " 'оценки',\n",
              " 'работе',\n",
              " 'методов',\n",
              " 'of',\n",
              " 'модель',\n",
              " 'позволяет',\n",
              " 'информации',\n",
              " 'его',\n",
              " 'применения',\n",
              " 'данной',\n",
              " 'использования',\n",
              " 'метода',\n",
              " 'сети',\n",
              " 'методы',\n",
              " 'использованием']"
            ]
          },
          "metadata": {},
          "execution_count": 65
        }
      ]
    },
    {
      "cell_type": "code",
      "source": [
        "res = []\n",
        "\n",
        "for k, e in enumerate(result_sentences):\n",
        "    for ban in ban_words:\n",
        "        if ban in e:\n",
        "            result_sentences[k].remove(ban)"
      ],
      "metadata": {
        "id": "sClL2fg8j6Jn"
      },
      "execution_count": null,
      "outputs": []
    },
    {
      "cell_type": "code",
      "source": [],
      "metadata": {
        "id": "rxO7CXPSkOln"
      },
      "execution_count": null,
      "outputs": []
    },
    {
      "cell_type": "code",
      "source": [
        "from gensim.models import Word2Vec\n",
        "from gensim.similarities import WmdSimilarity\n",
        "\n",
        "model = Word2Vec(sentences=result_sentences, vector_size=350, window=5, min_count=1, workers=4,epochs=60, null_word=2*10e-10,alpha=0.05)\n",
        "model.save(\"word2vecTESTVER.model\")"
      ],
      "metadata": {
        "id": "dqfyM8cpioLj"
      },
      "execution_count": null,
      "outputs": []
    },
    {
      "cell_type": "code",
      "source": [
        "\n",
        "sentence_compare = 'Реализация генетических алгоритмов для задач оптимизации на языке Питон'.lower()\n",
        "\n",
        "sentence_compare = ' '.join(stemmer.stem(w) for w in sentence_compare.split())"
      ],
      "metadata": {
        "id": "B72enuKonTxZ"
      },
      "execution_count": null,
      "outputs": []
    },
    {
      "cell_type": "code",
      "source": [
        "import numpy as np\n",
        "from sklearn.metrics.pairwise import cosine_similarity\n",
        "\n",
        "def sentence_vector(sentence):\n",
        "    words = sentence.split()\n",
        "    word_vectors = [model.wv[word] for word in words if word in model.wv]\n",
        "    return np.mean(word_vectors, axis=0)\n"
      ],
      "metadata": {
        "id": "uYTFsaW4j-Ti"
      },
      "execution_count": null,
      "outputs": []
    },
    {
      "cell_type": "code",
      "source": [],
      "metadata": {
        "id": "iwfafSB8lZQQ"
      },
      "execution_count": null,
      "outputs": []
    },
    {
      "cell_type": "code",
      "source": [
        "p = []\n",
        "\n",
        "for sentence in g['FullText'].values:\n",
        "    vec1 = sentence_vector(sentence)\n",
        "    vec2 = sentence_vector(sentence_compare)\n",
        "\n",
        "    p.append([sentence, cosine_similarity([vec1], [vec2])])\n"
      ],
      "metadata": {
        "id": "qLI4MWHQlvpn",
        "colab": {
          "base_uri": "https://localhost:8080/",
          "height": 460
        },
        "outputId": "553043ae-eceb-4e14-f003-3d60726cea2c"
      },
      "execution_count": null,
      "outputs": [
        {
          "output_type": "stream",
          "name": "stderr",
          "text": [
            "/usr/local/lib/python3.10/dist-packages/numpy/core/fromnumeric.py:3504: RuntimeWarning: Mean of empty slice.\n",
            "  return _methods._mean(a, axis=axis, dtype=dtype,\n",
            "/usr/local/lib/python3.10/dist-packages/numpy/core/_methods.py:129: RuntimeWarning: invalid value encountered in scalar divide\n",
            "  ret = ret.dtype.type(ret / rcount)\n"
          ]
        },
        {
          "output_type": "error",
          "ename": "ValueError",
          "evalue": "Expected 2D array, got 1D array instead:\narray=[nan].\nReshape your data either using array.reshape(-1, 1) if your data has a single feature or array.reshape(1, -1) if it contains a single sample.",
          "traceback": [
            "\u001b[0;31m---------------------------------------------------------------------------\u001b[0m",
            "\u001b[0;31mValueError\u001b[0m                                Traceback (most recent call last)",
            "\u001b[0;32m<ipython-input-40-a577a400ed2d>\u001b[0m in \u001b[0;36m<cell line: 3>\u001b[0;34m()\u001b[0m\n\u001b[1;32m      5\u001b[0m     \u001b[0mvec2\u001b[0m \u001b[0;34m=\u001b[0m \u001b[0msentence_vector\u001b[0m\u001b[0;34m(\u001b[0m\u001b[0msentence_compare\u001b[0m\u001b[0;34m)\u001b[0m\u001b[0;34m\u001b[0m\u001b[0;34m\u001b[0m\u001b[0m\n\u001b[1;32m      6\u001b[0m \u001b[0;34m\u001b[0m\u001b[0m\n\u001b[0;32m----> 7\u001b[0;31m     \u001b[0mp\u001b[0m\u001b[0;34m.\u001b[0m\u001b[0mappend\u001b[0m\u001b[0;34m(\u001b[0m\u001b[0;34m[\u001b[0m\u001b[0msentence\u001b[0m\u001b[0;34m,\u001b[0m \u001b[0mcosine_similarity\u001b[0m\u001b[0;34m(\u001b[0m\u001b[0;34m[\u001b[0m\u001b[0mvec1\u001b[0m\u001b[0;34m]\u001b[0m\u001b[0;34m,\u001b[0m \u001b[0;34m[\u001b[0m\u001b[0mvec2\u001b[0m\u001b[0;34m]\u001b[0m\u001b[0;34m)\u001b[0m\u001b[0;34m]\u001b[0m\u001b[0;34m)\u001b[0m\u001b[0;34m\u001b[0m\u001b[0;34m\u001b[0m\u001b[0m\n\u001b[0m",
            "\u001b[0;32m/usr/local/lib/python3.10/dist-packages/sklearn/utils/_param_validation.py\u001b[0m in \u001b[0;36mwrapper\u001b[0;34m(*args, **kwargs)\u001b[0m\n\u001b[1;32m    211\u001b[0m                     )\n\u001b[1;32m    212\u001b[0m                 ):\n\u001b[0;32m--> 213\u001b[0;31m                     \u001b[0;32mreturn\u001b[0m \u001b[0mfunc\u001b[0m\u001b[0;34m(\u001b[0m\u001b[0;34m*\u001b[0m\u001b[0margs\u001b[0m\u001b[0;34m,\u001b[0m \u001b[0;34m**\u001b[0m\u001b[0mkwargs\u001b[0m\u001b[0;34m)\u001b[0m\u001b[0;34m\u001b[0m\u001b[0;34m\u001b[0m\u001b[0m\n\u001b[0m\u001b[1;32m    214\u001b[0m             \u001b[0;32mexcept\u001b[0m \u001b[0mInvalidParameterError\u001b[0m \u001b[0;32mas\u001b[0m \u001b[0me\u001b[0m\u001b[0;34m:\u001b[0m\u001b[0;34m\u001b[0m\u001b[0;34m\u001b[0m\u001b[0m\n\u001b[1;32m    215\u001b[0m                 \u001b[0;31m# When the function is just a wrapper around an estimator, we allow\u001b[0m\u001b[0;34m\u001b[0m\u001b[0;34m\u001b[0m\u001b[0m\n",
            "\u001b[0;32m/usr/local/lib/python3.10/dist-packages/sklearn/metrics/pairwise.py\u001b[0m in \u001b[0;36mcosine_similarity\u001b[0;34m(X, Y, dense_output)\u001b[0m\n\u001b[1;32m   1677\u001b[0m     \u001b[0;31m# to avoid recursive import\u001b[0m\u001b[0;34m\u001b[0m\u001b[0;34m\u001b[0m\u001b[0m\n\u001b[1;32m   1678\u001b[0m \u001b[0;34m\u001b[0m\u001b[0m\n\u001b[0;32m-> 1679\u001b[0;31m     \u001b[0mX\u001b[0m\u001b[0;34m,\u001b[0m \u001b[0mY\u001b[0m \u001b[0;34m=\u001b[0m \u001b[0mcheck_pairwise_arrays\u001b[0m\u001b[0;34m(\u001b[0m\u001b[0mX\u001b[0m\u001b[0;34m,\u001b[0m \u001b[0mY\u001b[0m\u001b[0;34m)\u001b[0m\u001b[0;34m\u001b[0m\u001b[0;34m\u001b[0m\u001b[0m\n\u001b[0m\u001b[1;32m   1680\u001b[0m \u001b[0;34m\u001b[0m\u001b[0m\n\u001b[1;32m   1681\u001b[0m     \u001b[0mX_normalized\u001b[0m \u001b[0;34m=\u001b[0m \u001b[0mnormalize\u001b[0m\u001b[0;34m(\u001b[0m\u001b[0mX\u001b[0m\u001b[0;34m,\u001b[0m \u001b[0mcopy\u001b[0m\u001b[0;34m=\u001b[0m\u001b[0;32mTrue\u001b[0m\u001b[0;34m)\u001b[0m\u001b[0;34m\u001b[0m\u001b[0;34m\u001b[0m\u001b[0m\n",
            "\u001b[0;32m/usr/local/lib/python3.10/dist-packages/sklearn/metrics/pairwise.py\u001b[0m in \u001b[0;36mcheck_pairwise_arrays\u001b[0;34m(X, Y, precomputed, dtype, accept_sparse, force_all_finite, ensure_2d, copy)\u001b[0m\n\u001b[1;32m    183\u001b[0m         )\n\u001b[1;32m    184\u001b[0m     \u001b[0;32melse\u001b[0m\u001b[0;34m:\u001b[0m\u001b[0;34m\u001b[0m\u001b[0;34m\u001b[0m\u001b[0m\n\u001b[0;32m--> 185\u001b[0;31m         X = check_array(\n\u001b[0m\u001b[1;32m    186\u001b[0m             \u001b[0mX\u001b[0m\u001b[0;34m,\u001b[0m\u001b[0;34m\u001b[0m\u001b[0;34m\u001b[0m\u001b[0m\n\u001b[1;32m    187\u001b[0m             \u001b[0maccept_sparse\u001b[0m\u001b[0;34m=\u001b[0m\u001b[0maccept_sparse\u001b[0m\u001b[0;34m,\u001b[0m\u001b[0;34m\u001b[0m\u001b[0;34m\u001b[0m\u001b[0m\n",
            "\u001b[0;32m/usr/local/lib/python3.10/dist-packages/sklearn/utils/validation.py\u001b[0m in \u001b[0;36mcheck_array\u001b[0;34m(array, accept_sparse, accept_large_sparse, dtype, order, copy, force_writeable, force_all_finite, ensure_2d, allow_nd, ensure_min_samples, ensure_min_features, estimator, input_name)\u001b[0m\n\u001b[1;32m   1048\u001b[0m                         \u001b[0;34m\"if it contains a single sample.\"\u001b[0m\u001b[0;34m\u001b[0m\u001b[0;34m\u001b[0m\u001b[0m\n\u001b[1;32m   1049\u001b[0m                     )\n\u001b[0;32m-> 1050\u001b[0;31m                 \u001b[0;32mraise\u001b[0m \u001b[0mValueError\u001b[0m\u001b[0;34m(\u001b[0m\u001b[0mmsg\u001b[0m\u001b[0;34m)\u001b[0m\u001b[0;34m\u001b[0m\u001b[0;34m\u001b[0m\u001b[0m\n\u001b[0m\u001b[1;32m   1051\u001b[0m \u001b[0;34m\u001b[0m\u001b[0m\n\u001b[1;32m   1052\u001b[0m         \u001b[0;32mif\u001b[0m \u001b[0mdtype_numeric\u001b[0m \u001b[0;32mand\u001b[0m \u001b[0mhasattr\u001b[0m\u001b[0;34m(\u001b[0m\u001b[0marray\u001b[0m\u001b[0;34m.\u001b[0m\u001b[0mdtype\u001b[0m\u001b[0;34m,\u001b[0m \u001b[0;34m\"kind\"\u001b[0m\u001b[0;34m)\u001b[0m \u001b[0;32mand\u001b[0m \u001b[0marray\u001b[0m\u001b[0;34m.\u001b[0m\u001b[0mdtype\u001b[0m\u001b[0;34m.\u001b[0m\u001b[0mkind\u001b[0m \u001b[0;32min\u001b[0m \u001b[0;34m\"USV\"\u001b[0m\u001b[0;34m:\u001b[0m\u001b[0;34m\u001b[0m\u001b[0;34m\u001b[0m\u001b[0m\n",
            "\u001b[0;31mValueError\u001b[0m: Expected 2D array, got 1D array instead:\narray=[nan].\nReshape your data either using array.reshape(-1, 1) if your data has a single feature or array.reshape(1, -1) if it contains a single sample."
          ]
        }
      ]
    },
    {
      "cell_type": "code",
      "source": [],
      "metadata": {
        "id": "yGUYqNt9r3ss"
      },
      "execution_count": null,
      "outputs": []
    },
    {
      "cell_type": "code",
      "source": [
        "sorted(p, key=lambda x: -x[1])[0:10]"
      ],
      "metadata": {
        "colab": {
          "base_uri": "https://localhost:8080/"
        },
        "id": "PXMZKooKr4ut",
        "outputId": "03f549b9-4865-40c0-8010-2b98eb64cad1"
      },
      "execution_count": null,
      "outputs": [
        {
          "output_type": "execute_result",
          "data": {
            "text/plain": [
              "[['АЛГОРИТМ КЛАСТЕРИЗАЦИИ КЛЮЧЕВЫХ ТОЧЕК НА ИЗОБРАЖЕНИЯХ ИК-ДИАПАЗОНА Предложен подход к разделению на кластеры объектов на изображениях ИК-диапазона. В качестве данных для кластеризации использовано множество ключевых точек-соответствий получаемых с помощью алгоритмов SIFT SURF ORB. Составлена типовая схема обнаружения объекта и проведен анализ алгоритмов кластеризации. Выявлены ограничения при использовании существующих подходов которые подтолкнули к созданию собственного решения задачи кластеризации. Разработанный алгоритм протестирован показана его эффективность для изображений ИК-диапазона. Результаты данного подхода к кластеризации могут быть использованы для классификации объектов по площади.',\n",
              "  array([[0.791786]], dtype=float32)],\n",
              " ['Разработка системы распознавания речи для домашней автоматизации В статье описаны математические основы необходимые для построения систем распознавания речи. Описан вариант реализации алгоритма распознавания речи основанный на сравнении мел-частотных кепстральных коэффициентов выборок звуковых сигналов. Представлена реализация программного детектора речевой активности позволяющего существенно снизить объем требуемых для решения задачи вычислительных ресурсов.',\n",
              "  array([[0.78581935]], dtype=float32)],\n",
              " ['Способ оценки информативности диагностических признаков в медицине и фармакологии Цель. Оценка информативности диагностических признаков необходима для их объективного ранжирования по степени важности и определения порядка их рассмотрения в процессе постановки диагноза. Для признаков которые являются непрерывными величинами с неизвестными функциями распределения вероятностей оценка информативности по результатам выборочных исследований является сложной задачей. Цель теоретического исследования заключалась в разработке способа который на основе индуктивных выводов полученных в результате статистического исследования позволяет произвести оценку их информативности на основе применения известных математических конструктов. Способ рекомендуется для оценки результатов как медико-биологических исследований так и клинических данных при дифференциальной диагностике заболеваний а также идентификации состояний вызванных фармакологическим воздействием. Методика. Проведен обзорный анализ публикаций по вычислительным диагностическим методам основанным на статистических методах анализа экспериментальных медицинских данных. Описаны особенности признаков являющихся непрерывными физическими величинами для количественного представления которых используются действительные числа. Выявлены проблемные вопросы оценки информативности непрерывных признаков. Исследованы математические конструкты которые на основании пороговых значений позволяют осуществить категоризацию непрерывных признаков по порогу и привести их к дихотомической порядковой шкале. Рассмотрено применение информационной меры Кульбака для оценки информативности категоризированных дихотомических признаков. Результаты. Разработан способ оценки информативности непрерывных признаков. В основе способа лежит категоризация непрерывных признаков по пороговому значению которое вычисляется на основании анализа эмпирических кумулятивных функций (ЭКФ). Оптимальное пороговое значение вычисляется для максимального модуля разности между исследуемыми ЭКФ. Пороговые значения диагностических признаков представляют самостоятельное научное и практическое значение для дифференциальной диагностики нозологических форм. Для выявления статистически значимого различия между ЭКФ показано применение критерия Колмогорова-Смирнова. Для выявления статистически значимого различия между категоризированными по пороговому значению признаками использовался критерий хи-квадрат (Пирсона) и точный критерий Фишера (для таблиц сопряженности ). Показана возможность применения этих статистических критериев для обоснования оптимального порогового значения для категоризации непрерывных признаков. Для оценки информативности признаков в разработанном способе использовалась информационная мера Кульбака. Заключение. В результате теоретического исследования разработан способ оценки информативности непрерывных диагностических признаков. В основе способа лежит категоризация непрерывных признаков по оптимальному пороговому значению. Категоризация позволяет преобразовать непрерывный признак в порядковый дихотомический признак с двумя упорядоченными градациями. Это преобразование позволяет применить для оценки информативности диагностических признаков информационную меру Кульбака. Разработанный способ является информационной технологией позволяющей на основании первичных статистических данных производить отбор признаков для дифференциальной диагностики на основе оценки их информативности. Способ оценки информативности может представлять практический интерес для научных работников осуществляющих исследования в области доказательной медицины на основе вычислительных диагностических методов и использующих в своей работе статистические методы анализа экспериментальных данных и принятия решений.',\n",
              "  array([[0.77767724]], dtype=float32)],\n",
              " ['ПОИСК ОШИБОК В ПРОГРАММАХ ДЛЯ ОБРАБОТКИ ГРАФИЧЕСКИХ ИЗОБРАЖЕНИЙ С ИСПОЛЬЗОВАНИЕМ МЕТОДА ФАЗЗИНГА С увеличением числа программ для автоматизированной обработки графических изображений возникает необходимость в эффективных методах тестирования. Одним из таких методов является фаззинг для которого необходимо определить наиболее эффективные алгоритмы по созданию тестовых данных в целях увеличения числа найденных ошибок и минимизации аппаратных ресурсов. Результатом проведенных исследований является сравнение алгоритмов создания тестовых данных для поиска ошибок в исполняемом коде программ предназначенных для обработки графических изображений. Использование байесовских сетей для описания фаззинга позволяет определить связи между структурными компонентами при тестировании. По результатам сравнения алгоритмов фаззинга по созданию тестовых данных выявлены наиболее эффективные фаззеры предназначенные для поиска ошибок в исполняемом коде программ по обработке графических изображений. Апробация работоспособности предложенных алгоритмов выполнена на ряде существующих уязвимостей классифицированных как CVE (Common Vulnerabilities and Exposures). Обработка результатов экспериментов по созданию тестовых данных проведена с использованием среды имитационного моделирования что позволяет пошагово анализировать процесс тестирования. Полученные результаты исследований алгоритмы создания тестовых данных для поиска ошибок могут быть использованы на различных этапах тестирования программного обеспечения',\n",
              "  array([[0.7775736]], dtype=float32)],\n",
              " ['Ансамбль классификаторов для автоматического пополнения онтологий Искусственный интеллект в настоящее время является одной из перспективных областей научного и практического знания. В искусственном интеллекте онтологии используются для формальной спецификации знаний. В статье предложен подход к автоматизации процесса пополнения онтологии по коллекции текстовых документов относящихся к одной тематике. Ключевой целью работы является разработка ансамбля классификаторов для задачи автоматического пополнения онтологии предметной области. Основной задачей создания ансамбля является повышение точности прогноза агрегированного классификатора по сравнению с точностью прогнозирования каждого индивидуального базового классификатора. Для достижения поставленной цели предложен новый вариант ансамбля классификаторов основанный на методе опорных векторов (SVM-классификатор) нейронной сети (LSTM-классификатор) и методах дистрибутивной семантики (Fasttext word embedding) и отличающийся от известных подходов способом представления решения и возможностью формирования коллективов классификаторов. В процессе оптимизации происходит определение параметров как отдельных классификаторов так и всего ансамбля. Разработка ансамбля классификаторов выполнена среде Matlab с применением пакета Text Analytics Toolbox. Ансамбль классификаторов построен на наборе данных для машинного обучения Reuters-21578 (выборка новостных статей). Для обучения моделей дистрибутивной семантики выбрана обученная на Wikipedia 2014 коллекция GloVe векторов для английского языка. Сравнительное тестирование показало преимущества использования предложенного ансамбля классификаторов при работе с многомерными данными характеризующимися большим количеством признаков. Предложенный ансамбль классификаторов может применяться для определения тематики документа для извлечения терминов из текстовых документов и построения тезауруса. Отличительными особенностями разработанного ансамбля классификаторов являются: мягкие требования к исходным данным; автоматическое выделение терминов области знания; возможность использования алгоритма для построения онтологий разных областей научного знания без его модификации; высокое качество классификации данных при приемлемых временных затратах.',\n",
              "  array([[0.777122]], dtype=float32)],\n",
              " ['Дистилляция нейросетевых моделей для детектирования и описания ключевых точек изображений Предмет исследования. Методы сопоставления и классификации изображений а также синхронного определения местоположения и составления карты местности широко применяются на встраиваемых и мобильных устройствах. Наиболее ресурсоемкой частью их реализации является выделение и описание ключевых точек изображений. Классические методы выделения и описания ключевых точек могут исполняться в масштабе реального времени на мобильных устройствах. Вместе с тем для современных нейросетевых методов обладающих лучшим качеством такой подход затруднен из-за снижения быстродействия. Таким образом задача повышения быстродействия нейросетевых моделей для детектирования и описания ключевых точек является актуальной. С этой целью выполнено исследование дистилляции одного из способов редукции нейросетевых моделей что позволяет получить более компактную модель детектирования и описания ключевых точек а также процедуры получения модели. Метод. Предложен способ сопряжения исходной и более компактной новой модели для последующего ее обучения по выходным значениям исходной модели. С этой целью новая модель обучается реконструировать выходные данные исходной модели без использования разметки изображений. На вход обеих сетей поступают одинаковые изображения. Основные результаты. Протестирован способ дистилляции нейронных сетей для задачи детектирования и описания ключевых точек. Предложены целевая функция и параметры обучения обеспечивающие наилучшие результаты в рамках выполненного исследования. Введены новый набор данных для тестирования методов выделения ключевых точек и новый показатель качества выделяемых ключевых точек и соответствующих им локальных признаков. Применение обучения новой модели предложенным способом с тем же количеством параметров позволило получить большую точность сопоставления ключевых точек по сравнению с исходной моделью. Новая модель со значительно меньшим количеством параметров обеспечивает точность сопоставления точек близкую к исходной модели. Практическая значимость. Предложенным способом получена более компактная модель для детектирования и описания ключевых точек изображений. Это дает возможность применять модель на встраиваемых и мобильных устройствах для синхронного определения местоположения и составления карт местности. Применение предложенной модели может повысить эффективность работы сервиса по поиску изображений на серверной стороне.',\n",
              "  array([[0.7667066]], dtype=float32)],\n",
              " ['Применение word2vec в задаче кластеризации оперонов В данной работе решается задача кластеризации оперонов (особых единиц генетической информации) и описывается ее использование для выделения групп оперонов со схожими функциями. Рассматривается специфика открытых баз оперонов используемых в качестве источников исходных данных для исследования. Описываются выбор и подготовка данных для кластеризации особенности процесса кластеризации и его связь с подходами традиционно используемыми для анализа естественных языков. На основании проведенной кластеризации анализируется качество и состав полученных групп. Для преобразования исходных данных в вектора используется классическая реализация алгоритма word2vec и ряд особенностей исходных данных. Полученное представление кластеризуется алгоритмом DBScan на основании косинусной дистанции. Новизна предлагаемого метода связана с использованием не стандартных для исходных данных алгоритмов. Использованный подход эффективно проявляет себя при работе с большим количеством данных не требует дополнительной разметки данных и самостоятельно формирует факторы для кластеризации. Полученные результаты показывают возможность использования предложенного подхода для реализации сервисов позволяющих проводить сравнительный анализ бактериальных геномов.',\n",
              "  array([[0.765248]], dtype=float32)],\n",
              " ['Вероятностные формальные понятия в некоторых задачах классификации Рассматривается определение формальных понятий как неподвижных точек импликаций. На основе этого определения водится понятие вероятностных формальных понятий путем замены импликаций на специальные максимально специфические вероятностные правила для которых ранее было доказано что неподвижные точки для них логически непротиворечивы. Определяется алгоритм ProbClosure обнаружения вероятностных формальных понятий. Для разработки алгоритмов кластеризации и классификации контекст рассматривается как выборка из генеральной совокупности. Обобщая алгоритм ProbClosure определяются алгоритмы кластеризации ConcClosure и StatClosure путем введения различных функционалов энергии определяющих степень непротиворечивости правил в неподвижной точке. Алгоритмы классификации получаются путем применения алгоритмов кластеризации к новым данным. Проведено сравнение полученных алгоритмов классификации с решающими деревьями C4.5 ID3 и методом классификации основанным на решётке формальных понятий. Сравнение проведено на данных репозитория UCI. Полученные результаты показали сравнительно большую точность разработанных алгоритмов по сравнению с указанными методами.',\n",
              "  array([[0.7637831]], dtype=float32)],\n",
              " ['Вероятностные формальные понятия в некоторых задачах классификации Рассматривается определение формальных понятий как неподвижных точек импликаций. На основе этого определения водится понятие вероятностных формальных понятий путем замены импликаций на специальные максимально специфические вероятностные правила для которых ранее было доказано что неподвижные точки для них логически непротиворечивы. Определяется алгоритм ProbClosure обнаружения вероятностных формальных понятий. Для разработки алгоритмов кластеризации и классификации контекст рассматривается как выборка из генеральной совокупности. Обобщая алгоритм ProbClosure определяются алгоритмы кластеризации ConcClosure и StatClosure путем введения различных функционалов энергии определяющих степень непротиворечивости правил в неподвижной точке. Алгоритмы классификации получаются путем применения алгоритмов кластеризации к новым данным. Проведено сравнение полученных алгоритмов классификации с решающими деревьями C4.5 ID3 и методом классификации основанным на решётке формальных понятий. Сравнение проведено на данных репозитория UCI. Полученные результаты показали сравнительно большую точность разработанных алгоритмов по сравнению с указанными методами.',\n",
              "  array([[0.7637831]], dtype=float32)],\n",
              " ['Оценка эффективности контурных детекторов на основе точечного потока восстановления Актуальность. В настоящее время много внимания уделяется созданию эффективных систем предназначенных для обработки хранения и передачи больших потоков информации получаемой в виде изображений пространственно-временных полей в таких областях человеческой деятельности как космонавтика геология и геофизика картография навигация дефектоскопия и во многих других. В большинстве этих систем при реализации алгоритмов детектирования в качестве эталонных изображений используются реальные снимки. Например это характерно для выделения и прослеживания границ отраженных волн на изображениях сейсмических полей получаемых при поиске нефтяных и газовых месторождений. Представление эталонных изображений в виде реальных снимков позволяет настроить алгоритм на конкретную предметную область но осложняет оценку качества используемого алгоритма и проведение его объективного сравнения с другими алгоритмами реализующими подобные процедуры. Цель: исследование эффективности выделения контурного рисунка изображений различными алгоритмами детектирования на основе обобщённого комплексного критерия предложенного авторами данной работы. Это позволит подойти объективно к выбору наилучшего алгоритма детектирования и подбору оптимальных значений его параметров для любой предметной области. Методы и средства исследования. При проведении экспериментов были использованы методы стохастического моделирования пространственно-временных сигналов и полей. Сам вычислительный эксперимент проводился в среде программного комплекса «КИМ CП». Результаты. Проведен анализ методов оценивания операторов поиска и локализации границ и обобщены основные типы ошибок. На основе предложенной классификации метрик эффективности работы контурных детекторов рассмотрен обобщённый комплексный критерий оценки качества выделения контурных рисунков в изображениях показаны возможные составляющие обобщённого показателя качества и формальные подходы к выбору весовых коэффициентов метрик. Приведён пример реализации обобщенного показателя качества включающего пять метрик и исследована его эффективность для трех квазиоптимальных алгоритмов оконтуривания («Саппу» «Магг» и «ISEF») при различных уровнях шума. Проведенные исследования позволили сделать выводы об объективности полученных результатов и дать рекомендации по применению алгоритмов оконтуривания.',\n",
              "  array([[0.7637437]], dtype=float32)]]"
            ]
          },
          "metadata": {},
          "execution_count": 87
        }
      ]
    },
    {
      "cell_type": "code",
      "source": [
        "model.save(\"word2vecV2.model\")"
      ],
      "metadata": {
        "id": "sdUVoQyisB2u"
      },
      "execution_count": null,
      "outputs": []
    },
    {
      "cell_type": "code",
      "source": [
        "g.to_csv('data.csv', index =False)"
      ],
      "metadata": {
        "id": "kgElM1gFn1om"
      },
      "execution_count": null,
      "outputs": []
    },
    {
      "cell_type": "code",
      "source": [],
      "metadata": {
        "id": "G8pJQcyV2QEL"
      },
      "execution_count": null,
      "outputs": []
    },
    {
      "cell_type": "markdown",
      "source": [
        "# ***Тематическое моделирование для статей киберленинки***\n"
      ],
      "metadata": {
        "id": "_gIPEJ7ay2R0"
      }
    },
    {
      "cell_type": "code",
      "source": [
        "corpus= [' '.join(e) for e in result_sentences]"
      ],
      "metadata": {
        "id": "LIfLlbub1_t3"
      },
      "execution_count": null,
      "outputs": []
    },
    {
      "cell_type": "code",
      "source": [
        "len(corpus)"
      ],
      "metadata": {
        "colab": {
          "base_uri": "https://localhost:8080/"
        },
        "id": "bnSurs6a4s9h",
        "outputId": "47d53f82-9211-4f67-eedc-2cd5d3e550f8"
      },
      "execution_count": null,
      "outputs": [
        {
          "output_type": "execute_result",
          "data": {
            "text/plain": [
              "8763"
            ]
          },
          "metadata": {},
          "execution_count": 48
        }
      ]
    },
    {
      "cell_type": "code",
      "source": [
        "from sklearn.feature_extraction.text import TfidfVectorizer\n",
        "\n",
        "\n",
        "vectorizer = TfidfVectorizer()\n",
        "X = vectorizer.fit_transform(corpus)"
      ],
      "metadata": {
        "id": "pJFowMTI6YOO"
      },
      "execution_count": null,
      "outputs": []
    },
    {
      "cell_type": "code",
      "source": [
        "X.shape"
      ],
      "metadata": {
        "colab": {
          "base_uri": "https://localhost:8080/"
        },
        "id": "Jj4WWrS-6wNx",
        "outputId": "8c9b8d4e-6f83-4d44-fca0-b30e5462c422"
      },
      "execution_count": null,
      "outputs": [
        {
          "output_type": "execute_result",
          "data": {
            "text/plain": [
              "(8763, 77723)"
            ]
          },
          "metadata": {},
          "execution_count": 51
        }
      ]
    },
    {
      "cell_type": "code",
      "source": [
        "X.toarray().mean()"
      ],
      "metadata": {
        "colab": {
          "base_uri": "https://localhost:8080/"
        },
        "id": "SdWCPO5KDfDl",
        "outputId": "397581e5-8fa4-4a7b-d9d8-b0bc9d37ea36"
      },
      "execution_count": null,
      "outputs": [
        {
          "output_type": "execute_result",
          "data": {
            "text/plain": [
              "8.622961670367333e-05"
            ]
          },
          "metadata": {},
          "execution_count": 67
        }
      ]
    },
    {
      "cell_type": "code",
      "source": [
        "from sklearn.cluster import OPTICS\n",
        "import numpy as np\n",
        "\n",
        "optics = OPTICS(min_samples=2)\n",
        "\n",
        "optics.fit(X.toarray())"
      ],
      "metadata": {
        "colab": {
          "base_uri": "https://localhost:8080/",
          "height": 333
        },
        "id": "7vWIkxqw61gm",
        "outputId": "8d9499a1-b726-4b30-a86a-31a3d4eabde7"
      },
      "execution_count": null,
      "outputs": [
        {
          "output_type": "error",
          "ename": "KeyboardInterrupt",
          "evalue": "",
          "traceback": [
            "\u001b[0;31m---------------------------------------------------------------------------\u001b[0m",
            "\u001b[0;31mKeyboardInterrupt\u001b[0m                         Traceback (most recent call last)",
            "\u001b[0;32m<ipython-input-89-8927409c7d33>\u001b[0m in \u001b[0;36m<cell line: 6>\u001b[0;34m()\u001b[0m\n\u001b[1;32m      4\u001b[0m \u001b[0moptics\u001b[0m \u001b[0;34m=\u001b[0m \u001b[0mOPTICS\u001b[0m\u001b[0;34m(\u001b[0m\u001b[0mmin_samples\u001b[0m\u001b[0;34m=\u001b[0m\u001b[0;36m2\u001b[0m\u001b[0;34m)\u001b[0m\u001b[0;34m\u001b[0m\u001b[0;34m\u001b[0m\u001b[0m\n\u001b[1;32m      5\u001b[0m \u001b[0;34m\u001b[0m\u001b[0m\n\u001b[0;32m----> 6\u001b[0;31m \u001b[0moptics\u001b[0m\u001b[0;34m.\u001b[0m\u001b[0mfit\u001b[0m\u001b[0;34m(\u001b[0m\u001b[0mX\u001b[0m\u001b[0;34m.\u001b[0m\u001b[0mtoarray\u001b[0m\u001b[0;34m(\u001b[0m\u001b[0;34m)\u001b[0m\u001b[0;34m)\u001b[0m\u001b[0;34m\u001b[0m\u001b[0;34m\u001b[0m\u001b[0m\n\u001b[0m",
            "\u001b[0;32m/usr/local/lib/python3.10/dist-packages/sklearn/base.py\u001b[0m in \u001b[0;36mwrapper\u001b[0;34m(estimator, *args, **kwargs)\u001b[0m\n\u001b[1;32m   1471\u001b[0m                 )\n\u001b[1;32m   1472\u001b[0m             ):\n\u001b[0;32m-> 1473\u001b[0;31m                 \u001b[0;32mreturn\u001b[0m \u001b[0mfit_method\u001b[0m\u001b[0;34m(\u001b[0m\u001b[0mestimator\u001b[0m\u001b[0;34m,\u001b[0m \u001b[0;34m*\u001b[0m\u001b[0margs\u001b[0m\u001b[0;34m,\u001b[0m \u001b[0;34m**\u001b[0m\u001b[0mkwargs\u001b[0m\u001b[0;34m)\u001b[0m\u001b[0;34m\u001b[0m\u001b[0;34m\u001b[0m\u001b[0m\n\u001b[0m\u001b[1;32m   1474\u001b[0m \u001b[0;34m\u001b[0m\u001b[0m\n\u001b[1;32m   1475\u001b[0m         \u001b[0;32mreturn\u001b[0m \u001b[0mwrapper\u001b[0m\u001b[0;34m\u001b[0m\u001b[0;34m\u001b[0m\u001b[0m\n",
            "\u001b[0;32m/usr/local/lib/python3.10/dist-packages/sklearn/cluster/_optics.py\u001b[0m in \u001b[0;36mfit\u001b[0;34m(self, X, y)\u001b[0m\n\u001b[1;32m    348\u001b[0m             \u001b[0mself\u001b[0m\u001b[0;34m.\u001b[0m\u001b[0mreachability_\u001b[0m\u001b[0;34m,\u001b[0m\u001b[0;34m\u001b[0m\u001b[0;34m\u001b[0m\u001b[0m\n\u001b[1;32m    349\u001b[0m             \u001b[0mself\u001b[0m\u001b[0;34m.\u001b[0m\u001b[0mpredecessor_\u001b[0m\u001b[0;34m,\u001b[0m\u001b[0;34m\u001b[0m\u001b[0;34m\u001b[0m\u001b[0m\n\u001b[0;32m--> 350\u001b[0;31m         \u001b[0;34m)\u001b[0m \u001b[0;34m=\u001b[0m \u001b[0mmemory\u001b[0m\u001b[0;34m.\u001b[0m\u001b[0mcache\u001b[0m\u001b[0;34m(\u001b[0m\u001b[0mcompute_optics_graph\u001b[0m\u001b[0;34m)\u001b[0m\u001b[0;34m(\u001b[0m\u001b[0;34m\u001b[0m\u001b[0;34m\u001b[0m\u001b[0m\n\u001b[0m\u001b[1;32m    351\u001b[0m             \u001b[0mX\u001b[0m\u001b[0;34m=\u001b[0m\u001b[0mX\u001b[0m\u001b[0;34m,\u001b[0m\u001b[0;34m\u001b[0m\u001b[0;34m\u001b[0m\u001b[0m\n\u001b[1;32m    352\u001b[0m             \u001b[0mmin_samples\u001b[0m\u001b[0;34m=\u001b[0m\u001b[0mself\u001b[0m\u001b[0;34m.\u001b[0m\u001b[0mmin_samples\u001b[0m\u001b[0;34m,\u001b[0m\u001b[0;34m\u001b[0m\u001b[0;34m\u001b[0m\u001b[0m\n",
            "\u001b[0;32m/usr/local/lib/python3.10/dist-packages/joblib/memory.py\u001b[0m in \u001b[0;36m__call__\u001b[0;34m(self, *args, **kwargs)\u001b[0m\n\u001b[1;32m    310\u001b[0m \u001b[0;34m\u001b[0m\u001b[0m\n\u001b[1;32m    311\u001b[0m     \u001b[0;32mdef\u001b[0m \u001b[0m__call__\u001b[0m\u001b[0;34m(\u001b[0m\u001b[0mself\u001b[0m\u001b[0;34m,\u001b[0m \u001b[0;34m*\u001b[0m\u001b[0margs\u001b[0m\u001b[0;34m,\u001b[0m \u001b[0;34m**\u001b[0m\u001b[0mkwargs\u001b[0m\u001b[0;34m)\u001b[0m\u001b[0;34m:\u001b[0m\u001b[0;34m\u001b[0m\u001b[0;34m\u001b[0m\u001b[0m\n\u001b[0;32m--> 312\u001b[0;31m         \u001b[0;32mreturn\u001b[0m \u001b[0mself\u001b[0m\u001b[0;34m.\u001b[0m\u001b[0mfunc\u001b[0m\u001b[0;34m(\u001b[0m\u001b[0;34m*\u001b[0m\u001b[0margs\u001b[0m\u001b[0;34m,\u001b[0m \u001b[0;34m**\u001b[0m\u001b[0mkwargs\u001b[0m\u001b[0;34m)\u001b[0m\u001b[0;34m\u001b[0m\u001b[0;34m\u001b[0m\u001b[0m\n\u001b[0m\u001b[1;32m    313\u001b[0m \u001b[0;34m\u001b[0m\u001b[0m\n\u001b[1;32m    314\u001b[0m     \u001b[0;32mdef\u001b[0m \u001b[0mcall_and_shelve\u001b[0m\u001b[0;34m(\u001b[0m\u001b[0mself\u001b[0m\u001b[0;34m,\u001b[0m \u001b[0;34m*\u001b[0m\u001b[0margs\u001b[0m\u001b[0;34m,\u001b[0m \u001b[0;34m**\u001b[0m\u001b[0mkwargs\u001b[0m\u001b[0;34m)\u001b[0m\u001b[0;34m:\u001b[0m\u001b[0;34m\u001b[0m\u001b[0;34m\u001b[0m\u001b[0m\n",
            "\u001b[0;32m/usr/local/lib/python3.10/dist-packages/sklearn/utils/_param_validation.py\u001b[0m in \u001b[0;36mwrapper\u001b[0;34m(*args, **kwargs)\u001b[0m\n\u001b[1;32m    211\u001b[0m                     )\n\u001b[1;32m    212\u001b[0m                 ):\n\u001b[0;32m--> 213\u001b[0;31m                     \u001b[0;32mreturn\u001b[0m \u001b[0mfunc\u001b[0m\u001b[0;34m(\u001b[0m\u001b[0;34m*\u001b[0m\u001b[0margs\u001b[0m\u001b[0;34m,\u001b[0m \u001b[0;34m**\u001b[0m\u001b[0mkwargs\u001b[0m\u001b[0;34m)\u001b[0m\u001b[0;34m\u001b[0m\u001b[0;34m\u001b[0m\u001b[0m\n\u001b[0m\u001b[1;32m    214\u001b[0m             \u001b[0;32mexcept\u001b[0m \u001b[0mInvalidParameterError\u001b[0m \u001b[0;32mas\u001b[0m \u001b[0me\u001b[0m\u001b[0;34m:\u001b[0m\u001b[0;34m\u001b[0m\u001b[0;34m\u001b[0m\u001b[0m\n\u001b[1;32m    215\u001b[0m                 \u001b[0;31m# When the function is just a wrapper around an estimator, we allow\u001b[0m\u001b[0;34m\u001b[0m\u001b[0;34m\u001b[0m\u001b[0m\n",
            "\u001b[0;32m/usr/local/lib/python3.10/dist-packages/sklearn/cluster/_optics.py\u001b[0m in \u001b[0;36mcompute_optics_graph\u001b[0;34m(X, min_samples, max_eps, metric, p, metric_params, algorithm, leaf_size, n_jobs)\u001b[0m\n\u001b[1;32m    645\u001b[0m         \u001b[0mordering\u001b[0m\u001b[0;34m[\u001b[0m\u001b[0mordering_idx\u001b[0m\u001b[0;34m]\u001b[0m \u001b[0;34m=\u001b[0m \u001b[0mpoint\u001b[0m\u001b[0;34m\u001b[0m\u001b[0;34m\u001b[0m\u001b[0m\n\u001b[1;32m    646\u001b[0m         \u001b[0;32mif\u001b[0m \u001b[0mcore_distances_\u001b[0m\u001b[0;34m[\u001b[0m\u001b[0mpoint\u001b[0m\u001b[0;34m]\u001b[0m \u001b[0;34m!=\u001b[0m \u001b[0mnp\u001b[0m\u001b[0;34m.\u001b[0m\u001b[0minf\u001b[0m\u001b[0;34m:\u001b[0m\u001b[0;34m\u001b[0m\u001b[0;34m\u001b[0m\u001b[0m\n\u001b[0;32m--> 647\u001b[0;31m             _set_reach_dist(\n\u001b[0m\u001b[1;32m    648\u001b[0m                 \u001b[0mcore_distances_\u001b[0m\u001b[0;34m=\u001b[0m\u001b[0mcore_distances_\u001b[0m\u001b[0;34m,\u001b[0m\u001b[0;34m\u001b[0m\u001b[0;34m\u001b[0m\u001b[0m\n\u001b[1;32m    649\u001b[0m                 \u001b[0mreachability_\u001b[0m\u001b[0;34m=\u001b[0m\u001b[0mreachability_\u001b[0m\u001b[0;34m,\u001b[0m\u001b[0;34m\u001b[0m\u001b[0;34m\u001b[0m\u001b[0m\n",
            "\u001b[0;32m/usr/local/lib/python3.10/dist-packages/sklearn/cluster/_optics.py\u001b[0m in \u001b[0;36m_set_reach_dist\u001b[0;34m(core_distances_, reachability_, predecessor_, point_index, processed, X, nbrs, metric, metric_params, p, max_eps)\u001b[0m\n\u001b[1;32m    706\u001b[0m             \u001b[0;31m# in the dict params\u001b[0m\u001b[0;34m\u001b[0m\u001b[0;34m\u001b[0m\u001b[0m\n\u001b[1;32m    707\u001b[0m             \u001b[0m_params\u001b[0m\u001b[0;34m[\u001b[0m\u001b[0;34m\"p\"\u001b[0m\u001b[0;34m]\u001b[0m \u001b[0;34m=\u001b[0m \u001b[0mp\u001b[0m\u001b[0;34m\u001b[0m\u001b[0;34m\u001b[0m\u001b[0m\n\u001b[0;32m--> 708\u001b[0;31m         \u001b[0mdists\u001b[0m \u001b[0;34m=\u001b[0m \u001b[0mpairwise_distances\u001b[0m\u001b[0;34m(\u001b[0m\u001b[0mP\u001b[0m\u001b[0;34m,\u001b[0m \u001b[0mX\u001b[0m\u001b[0;34m[\u001b[0m\u001b[0munproc\u001b[0m\u001b[0;34m]\u001b[0m\u001b[0;34m,\u001b[0m \u001b[0mmetric\u001b[0m\u001b[0;34m,\u001b[0m \u001b[0mn_jobs\u001b[0m\u001b[0;34m=\u001b[0m\u001b[0;32mNone\u001b[0m\u001b[0;34m,\u001b[0m \u001b[0;34m**\u001b[0m\u001b[0m_params\u001b[0m\u001b[0;34m)\u001b[0m\u001b[0;34m.\u001b[0m\u001b[0mravel\u001b[0m\u001b[0;34m(\u001b[0m\u001b[0;34m)\u001b[0m\u001b[0;34m\u001b[0m\u001b[0;34m\u001b[0m\u001b[0m\n\u001b[0m\u001b[1;32m    709\u001b[0m \u001b[0;34m\u001b[0m\u001b[0m\n\u001b[1;32m    710\u001b[0m     \u001b[0mrdists\u001b[0m \u001b[0;34m=\u001b[0m \u001b[0mnp\u001b[0m\u001b[0;34m.\u001b[0m\u001b[0mmaximum\u001b[0m\u001b[0;34m(\u001b[0m\u001b[0mdists\u001b[0m\u001b[0;34m,\u001b[0m \u001b[0mcore_distances_\u001b[0m\u001b[0;34m[\u001b[0m\u001b[0mpoint_index\u001b[0m\u001b[0;34m]\u001b[0m\u001b[0;34m)\u001b[0m\u001b[0;34m\u001b[0m\u001b[0;34m\u001b[0m\u001b[0m\n",
            "\u001b[0;32m/usr/local/lib/python3.10/dist-packages/sklearn/utils/_param_validation.py\u001b[0m in \u001b[0;36mwrapper\u001b[0;34m(*args, **kwargs)\u001b[0m\n\u001b[1;32m    211\u001b[0m                     )\n\u001b[1;32m    212\u001b[0m                 ):\n\u001b[0;32m--> 213\u001b[0;31m                     \u001b[0;32mreturn\u001b[0m \u001b[0mfunc\u001b[0m\u001b[0;34m(\u001b[0m\u001b[0;34m*\u001b[0m\u001b[0margs\u001b[0m\u001b[0;34m,\u001b[0m \u001b[0;34m**\u001b[0m\u001b[0mkwargs\u001b[0m\u001b[0;34m)\u001b[0m\u001b[0;34m\u001b[0m\u001b[0;34m\u001b[0m\u001b[0m\n\u001b[0m\u001b[1;32m    214\u001b[0m             \u001b[0;32mexcept\u001b[0m \u001b[0mInvalidParameterError\u001b[0m \u001b[0;32mas\u001b[0m \u001b[0me\u001b[0m\u001b[0;34m:\u001b[0m\u001b[0;34m\u001b[0m\u001b[0;34m\u001b[0m\u001b[0m\n\u001b[1;32m    215\u001b[0m                 \u001b[0;31m# When the function is just a wrapper around an estimator, we allow\u001b[0m\u001b[0;34m\u001b[0m\u001b[0;34m\u001b[0m\u001b[0m\n",
            "\u001b[0;32m/usr/local/lib/python3.10/dist-packages/sklearn/metrics/pairwise.py\u001b[0m in \u001b[0;36mpairwise_distances\u001b[0;34m(X, Y, metric, n_jobs, force_all_finite, **kwds)\u001b[0m\n\u001b[1;32m   2373\u001b[0m         \u001b[0mfunc\u001b[0m \u001b[0;34m=\u001b[0m \u001b[0mpartial\u001b[0m\u001b[0;34m(\u001b[0m\u001b[0mdistance\u001b[0m\u001b[0;34m.\u001b[0m\u001b[0mcdist\u001b[0m\u001b[0;34m,\u001b[0m \u001b[0mmetric\u001b[0m\u001b[0;34m=\u001b[0m\u001b[0mmetric\u001b[0m\u001b[0;34m,\u001b[0m \u001b[0;34m**\u001b[0m\u001b[0mkwds\u001b[0m\u001b[0;34m)\u001b[0m\u001b[0;34m\u001b[0m\u001b[0;34m\u001b[0m\u001b[0m\n\u001b[1;32m   2374\u001b[0m \u001b[0;34m\u001b[0m\u001b[0m\n\u001b[0;32m-> 2375\u001b[0;31m     \u001b[0;32mreturn\u001b[0m \u001b[0m_parallel_pairwise\u001b[0m\u001b[0;34m(\u001b[0m\u001b[0mX\u001b[0m\u001b[0;34m,\u001b[0m \u001b[0mY\u001b[0m\u001b[0;34m,\u001b[0m \u001b[0mfunc\u001b[0m\u001b[0;34m,\u001b[0m \u001b[0mn_jobs\u001b[0m\u001b[0;34m,\u001b[0m \u001b[0;34m**\u001b[0m\u001b[0mkwds\u001b[0m\u001b[0;34m)\u001b[0m\u001b[0;34m\u001b[0m\u001b[0;34m\u001b[0m\u001b[0m\n\u001b[0m\u001b[1;32m   2376\u001b[0m \u001b[0;34m\u001b[0m\u001b[0m\n\u001b[1;32m   2377\u001b[0m \u001b[0;34m\u001b[0m\u001b[0m\n",
            "\u001b[0;32m/usr/local/lib/python3.10/dist-packages/sklearn/metrics/pairwise.py\u001b[0m in \u001b[0;36m_parallel_pairwise\u001b[0;34m(X, Y, func, n_jobs, **kwds)\u001b[0m\n\u001b[1;32m   1891\u001b[0m \u001b[0;34m\u001b[0m\u001b[0m\n\u001b[1;32m   1892\u001b[0m     \u001b[0;32mif\u001b[0m \u001b[0meffective_n_jobs\u001b[0m\u001b[0;34m(\u001b[0m\u001b[0mn_jobs\u001b[0m\u001b[0;34m)\u001b[0m \u001b[0;34m==\u001b[0m \u001b[0;36m1\u001b[0m\u001b[0;34m:\u001b[0m\u001b[0;34m\u001b[0m\u001b[0;34m\u001b[0m\u001b[0m\n\u001b[0;32m-> 1893\u001b[0;31m         \u001b[0;32mreturn\u001b[0m \u001b[0mfunc\u001b[0m\u001b[0;34m(\u001b[0m\u001b[0mX\u001b[0m\u001b[0;34m,\u001b[0m \u001b[0mY\u001b[0m\u001b[0;34m,\u001b[0m \u001b[0;34m**\u001b[0m\u001b[0mkwds\u001b[0m\u001b[0;34m)\u001b[0m\u001b[0;34m\u001b[0m\u001b[0;34m\u001b[0m\u001b[0m\n\u001b[0m\u001b[1;32m   1894\u001b[0m \u001b[0;34m\u001b[0m\u001b[0m\n\u001b[1;32m   1895\u001b[0m     \u001b[0;31m# enforce a threading backend to prevent data communication overhead\u001b[0m\u001b[0;34m\u001b[0m\u001b[0;34m\u001b[0m\u001b[0m\n",
            "\u001b[0;32m/usr/local/lib/python3.10/dist-packages/scipy/spatial/distance.py\u001b[0m in \u001b[0;36mcdist\u001b[0;34m(XA, XB, metric, out, **kwargs)\u001b[0m\n\u001b[1;32m   2978\u001b[0m         \u001b[0;32mif\u001b[0m \u001b[0mmetric_info\u001b[0m \u001b[0;32mis\u001b[0m \u001b[0;32mnot\u001b[0m \u001b[0;32mNone\u001b[0m\u001b[0;34m:\u001b[0m\u001b[0;34m\u001b[0m\u001b[0;34m\u001b[0m\u001b[0m\n\u001b[1;32m   2979\u001b[0m             \u001b[0mcdist_fn\u001b[0m \u001b[0;34m=\u001b[0m \u001b[0mmetric_info\u001b[0m\u001b[0;34m.\u001b[0m\u001b[0mcdist_func\u001b[0m\u001b[0;34m\u001b[0m\u001b[0;34m\u001b[0m\u001b[0m\n\u001b[0;32m-> 2980\u001b[0;31m             \u001b[0;32mreturn\u001b[0m \u001b[0mcdist_fn\u001b[0m\u001b[0;34m(\u001b[0m\u001b[0mXA\u001b[0m\u001b[0;34m,\u001b[0m \u001b[0mXB\u001b[0m\u001b[0;34m,\u001b[0m \u001b[0mout\u001b[0m\u001b[0;34m=\u001b[0m\u001b[0mout\u001b[0m\u001b[0;34m,\u001b[0m \u001b[0;34m**\u001b[0m\u001b[0mkwargs\u001b[0m\u001b[0;34m)\u001b[0m\u001b[0;34m\u001b[0m\u001b[0;34m\u001b[0m\u001b[0m\n\u001b[0m\u001b[1;32m   2981\u001b[0m         \u001b[0;32melif\u001b[0m \u001b[0mmstr\u001b[0m\u001b[0;34m.\u001b[0m\u001b[0mstartswith\u001b[0m\u001b[0;34m(\u001b[0m\u001b[0;34m\"test_\"\u001b[0m\u001b[0;34m)\u001b[0m\u001b[0;34m:\u001b[0m\u001b[0;34m\u001b[0m\u001b[0;34m\u001b[0m\u001b[0m\n\u001b[1;32m   2982\u001b[0m             \u001b[0mmetric_info\u001b[0m \u001b[0;34m=\u001b[0m \u001b[0m_TEST_METRICS\u001b[0m\u001b[0;34m.\u001b[0m\u001b[0mget\u001b[0m\u001b[0;34m(\u001b[0m\u001b[0mmstr\u001b[0m\u001b[0;34m,\u001b[0m \u001b[0;32mNone\u001b[0m\u001b[0;34m)\u001b[0m\u001b[0;34m\u001b[0m\u001b[0;34m\u001b[0m\u001b[0m\n",
            "\u001b[0;31mKeyboardInterrupt\u001b[0m: "
          ]
        }
      ]
    },
    {
      "cell_type": "code",
      "source": [
        "cluster_labels = optics.labels_\n",
        "\n",
        "len(set(cluster_labels.tolist())), len(cluster_labels)"
      ],
      "metadata": {
        "id": "Nqjn9orMDMMH"
      },
      "execution_count": null,
      "outputs": []
    },
    {
      "cell_type": "code",
      "source": [],
      "metadata": {
        "id": "FYqf7oatDTMD"
      },
      "execution_count": null,
      "outputs": []
    },
    {
      "cell_type": "markdown",
      "source": [],
      "metadata": {
        "id": "UINIbwG3E6DO"
      }
    }
  ]
}